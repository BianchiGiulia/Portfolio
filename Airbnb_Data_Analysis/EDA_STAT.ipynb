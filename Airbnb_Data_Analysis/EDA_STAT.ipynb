{
 "cells": [
  {
   "attachments": {},
   "cell_type": "markdown",
   "metadata": {},
   "source": [
    "# AirBnb Amsterdam Listings"
   ]
  },
  {
   "cell_type": "markdown",
   "metadata": {},
   "source": [
    "## Imports"
   ]
  },
  {
   "cell_type": "code",
   "execution_count": 1,
   "metadata": {},
   "outputs": [],
   "source": [
    "#disable some annoying warnings\n",
    "import warnings\n",
    "warnings.filterwarnings('ignore', category=FutureWarning)\n",
    "\n",
    "#plots the figures in place instead of a new window\n",
    "%matplotlib inline\n",
    "\n",
    "import pandas as pd\n",
    "import numpy as np\n",
    "\n",
    "from scipy import stats \n",
    "\n",
    "from sklearn.cluster import KMeans, Birch, MiniBatchKMeans, AgglomerativeClustering\n",
    "from sklearn.decomposition import PCA\n",
    "from sklearn.mixture import GaussianMixture  \n",
    "from sklearn.preprocessing import StandardScaler\n",
    "\n",
    "import matplotlib.pyplot as plt\n",
    "import matplotlib as mtl\n",
    "import altair as alt\n",
    "import seaborn as sns\n",
    "\n",
    "from ipywidgets import interact  \n",
    "\n",
    "import ipywidgets as widgets\n",
    "\n",
    "# pd.set_option('display.max_columns', None)\n",
    "alt.data_transformers.disable_max_rows()\n",
    "pd.set_option(\"display.max_rows\", None, \"display.max_columns\", None)\n",
    "\n",
    "# figure sizes\n",
    "standard_fig_size = (21,6)\n",
    "boxplot_fig_size = (15,3)\n",
    "heatmap_fig_size = (24,12)\n",
    "countplot_fig_size = (15,6)"
   ]
  },
  {
   "attachments": {},
   "cell_type": "markdown",
   "metadata": {},
   "source": [
    "### About the dataset\n",
    "\n",
    "What is the dataset about?\n",
    "* The dataset is about detailed Airbnb Listings in Amsterdam.\n",
    "\n",
    "* The dataset is from the activist project Inside Airbnb. The data they provide is publicly available data from Airbnb, it can be found at http://insideairbnb.com/get-the-data.html"
   ]
  },
  {
   "cell_type": "markdown",
   "metadata": {},
   "source": [
    "### Loading Data"
   ]
  },
  {
   "cell_type": "markdown",
   "metadata": {},
   "source": [
    "Since 2008, guests and hosts have used Airbnb to expand on traveling possibilities and present a more unique, personalized way of experiencing the world. Today, Airbnb became one of a kind service that is used and recognized by the whole world. Data analysis on millions of listings provided through Airbnb is a crucial factor for the company. Here we have some above over 5400 number of listings in the city of Amsterdam that generate a lot of data — data that can be analyzed.\n",
    "\n",
    "Data feature explanation: https://docs.google.com/spreadsheets/d/2iWCNJcSutYqpULSQHlNyGInUvHg2BoUGoNRIGa6Szc4/edit#gid=982310896"
   ]
  },
  {
   "cell_type": "code",
   "execution_count": 2,
   "metadata": {},
   "outputs": [
    {
     "data": {
      "text/html": [
       "<div>\n",
       "<style scoped>\n",
       "    .dataframe tbody tr th:only-of-type {\n",
       "        vertical-align: middle;\n",
       "    }\n",
       "\n",
       "    .dataframe tbody tr th {\n",
       "        vertical-align: top;\n",
       "    }\n",
       "\n",
       "    .dataframe thead th {\n",
       "        text-align: right;\n",
       "    }\n",
       "</style>\n",
       "<table border=\"1\" class=\"dataframe\">\n",
       "  <thead>\n",
       "    <tr style=\"text-align: right;\">\n",
       "      <th></th>\n",
       "      <th>id</th>\n",
       "      <th>listing_url</th>\n",
       "      <th>scrape_id</th>\n",
       "      <th>last_scraped</th>\n",
       "      <th>name</th>\n",
       "      <th>description</th>\n",
       "      <th>neighborhood_overview</th>\n",
       "      <th>picture_url</th>\n",
       "      <th>host_id</th>\n",
       "      <th>host_url</th>\n",
       "      <th>host_name</th>\n",
       "      <th>host_since</th>\n",
       "      <th>host_location</th>\n",
       "      <th>host_about</th>\n",
       "      <th>host_response_time</th>\n",
       "      <th>host_response_rate</th>\n",
       "      <th>host_acceptance_rate</th>\n",
       "      <th>host_is_superhost</th>\n",
       "      <th>host_thumbnail_url</th>\n",
       "      <th>host_picture_url</th>\n",
       "      <th>host_neighbourhood</th>\n",
       "      <th>host_listings_count</th>\n",
       "      <th>host_total_listings_count</th>\n",
       "      <th>host_verifications</th>\n",
       "      <th>host_has_profile_pic</th>\n",
       "      <th>host_identity_verified</th>\n",
       "      <th>neighbourhood</th>\n",
       "      <th>neighbourhood_cleansed</th>\n",
       "      <th>neighbourhood_group_cleansed</th>\n",
       "      <th>latitude</th>\n",
       "      <th>longitude</th>\n",
       "      <th>property_type</th>\n",
       "      <th>room_type</th>\n",
       "      <th>accommodates</th>\n",
       "      <th>bathrooms</th>\n",
       "      <th>bathrooms_text</th>\n",
       "      <th>bedrooms</th>\n",
       "      <th>beds</th>\n",
       "      <th>amenities</th>\n",
       "      <th>price</th>\n",
       "      <th>minimum_nights</th>\n",
       "      <th>maximum_nights</th>\n",
       "      <th>minimum_minimum_nights</th>\n",
       "      <th>maximum_minimum_nights</th>\n",
       "      <th>minimum_maximum_nights</th>\n",
       "      <th>maximum_maximum_nights</th>\n",
       "      <th>minimum_nights_avg_ntm</th>\n",
       "      <th>maximum_nights_avg_ntm</th>\n",
       "      <th>calendar_updated</th>\n",
       "      <th>has_availability</th>\n",
       "      <th>availability_30</th>\n",
       "      <th>availability_60</th>\n",
       "      <th>availability_90</th>\n",
       "      <th>availability_365</th>\n",
       "      <th>calendar_last_scraped</th>\n",
       "      <th>number_of_reviews</th>\n",
       "      <th>number_of_reviews_ltm</th>\n",
       "      <th>number_of_reviews_l30d</th>\n",
       "      <th>first_review</th>\n",
       "      <th>last_review</th>\n",
       "      <th>review_scores_rating</th>\n",
       "      <th>review_scores_accuracy</th>\n",
       "      <th>review_scores_cleanliness</th>\n",
       "      <th>review_scores_checkin</th>\n",
       "      <th>review_scores_communication</th>\n",
       "      <th>review_scores_location</th>\n",
       "      <th>review_scores_value</th>\n",
       "      <th>license</th>\n",
       "      <th>instant_bookable</th>\n",
       "      <th>calculated_host_listings_count</th>\n",
       "      <th>calculated_host_listings_count_entire_homes</th>\n",
       "      <th>calculated_host_listings_count_private_rooms</th>\n",
       "      <th>calculated_host_listings_count_shared_rooms</th>\n",
       "      <th>reviews_per_month</th>\n",
       "    </tr>\n",
       "  </thead>\n",
       "  <tbody>\n",
       "    <tr>\n",
       "      <th>0</th>\n",
       "      <td>2818</td>\n",
       "      <td>https://www.airbnb.com/rooms/2818</td>\n",
       "      <td>20211104024252</td>\n",
       "      <td>2021-11-04</td>\n",
       "      <td>Quiet Garden View Room &amp; Super Fast WiFi</td>\n",
       "      <td>Quiet Garden View Room &amp; Super Fast WiFi&lt;br /&gt;...</td>\n",
       "      <td>Indische Buurt (\"Indies Neighborhood\") is a ne...</td>\n",
       "      <td>https://a0.muscache.com/pictures/10272854/8dcc...</td>\n",
       "      <td>3159</td>\n",
       "      <td>https://www.airbnb.com/users/show/3159</td>\n",
       "      <td>Daniel</td>\n",
       "      <td>2008-09-24</td>\n",
       "      <td>Amsterdam, Noord-Holland, The Netherlands</td>\n",
       "      <td>Upon arriving in Amsterdam, one can imagine as...</td>\n",
       "      <td>within an hour</td>\n",
       "      <td>100%</td>\n",
       "      <td>100%</td>\n",
       "      <td>t</td>\n",
       "      <td>https://a0.muscache.com/im/users/3159/profile_...</td>\n",
       "      <td>https://a0.muscache.com/im/users/3159/profile_...</td>\n",
       "      <td>Indische Buurt</td>\n",
       "      <td>1.0</td>\n",
       "      <td>1.0</td>\n",
       "      <td>['email', 'phone', 'reviews', 'jumio', 'offlin...</td>\n",
       "      <td>t</td>\n",
       "      <td>t</td>\n",
       "      <td>Amsterdam, North Holland, Netherlands</td>\n",
       "      <td>Oostelijk Havengebied - Indische Buurt</td>\n",
       "      <td>NaN</td>\n",
       "      <td>52.36435</td>\n",
       "      <td>4.94358</td>\n",
       "      <td>Private room in rental unit</td>\n",
       "      <td>Private room</td>\n",
       "      <td>2</td>\n",
       "      <td>NaN</td>\n",
       "      <td>1.5 shared baths</td>\n",
       "      <td>1.0</td>\n",
       "      <td>2.0</td>\n",
       "      <td>[\"Refrigerator\", \"Paid parking off premises\", ...</td>\n",
       "      <td>$59.00</td>\n",
       "      <td>3</td>\n",
       "      <td>28</td>\n",
       "      <td>3.0</td>\n",
       "      <td>3.0</td>\n",
       "      <td>1125.0</td>\n",
       "      <td>1125.0</td>\n",
       "      <td>3.0</td>\n",
       "      <td>1125.0</td>\n",
       "      <td>NaN</td>\n",
       "      <td>t</td>\n",
       "      <td>18</td>\n",
       "      <td>33</td>\n",
       "      <td>33</td>\n",
       "      <td>33</td>\n",
       "      <td>2021-11-04</td>\n",
       "      <td>282</td>\n",
       "      <td>4</td>\n",
       "      <td>2</td>\n",
       "      <td>2013-08-25</td>\n",
       "      <td>2019-11-21</td>\n",
       "      <td>4.89</td>\n",
       "      <td>4.93</td>\n",
       "      <td>5.00</td>\n",
       "      <td>4.98</td>\n",
       "      <td>4.98</td>\n",
       "      <td>4.68</td>\n",
       "      <td>4.81</td>\n",
       "      <td>0363 5F3A 5684 6750 D14D</td>\n",
       "      <td>t</td>\n",
       "      <td>1</td>\n",
       "      <td>0</td>\n",
       "      <td>1</td>\n",
       "      <td>0</td>\n",
       "      <td>2.83</td>\n",
       "    </tr>\n",
       "    <tr>\n",
       "      <th>1</th>\n",
       "      <td>20168</td>\n",
       "      <td>https://www.airbnb.com/rooms/20168</td>\n",
       "      <td>20211104024252</td>\n",
       "      <td>2021-11-04</td>\n",
       "      <td>Studio with private bathroom in the centre 1</td>\n",
       "      <td>17th century Dutch townhouse in the heart of t...</td>\n",
       "      <td>Located just in between famous central canals....</td>\n",
       "      <td>https://a0.muscache.com/pictures/69979628/fd6a...</td>\n",
       "      <td>59484</td>\n",
       "      <td>https://www.airbnb.com/users/show/59484</td>\n",
       "      <td>Alexander</td>\n",
       "      <td>2009-12-02</td>\n",
       "      <td>Amsterdam, Noord-Holland, The Netherlands</td>\n",
       "      <td>+ (Phone number hidden by Airbnb)</td>\n",
       "      <td>within a few hours</td>\n",
       "      <td>100%</td>\n",
       "      <td>100%</td>\n",
       "      <td>f</td>\n",
       "      <td>https://a0.muscache.com/im/pictures/user/65092...</td>\n",
       "      <td>https://a0.muscache.com/im/pictures/user/65092...</td>\n",
       "      <td>Grachtengordel</td>\n",
       "      <td>2.0</td>\n",
       "      <td>2.0</td>\n",
       "      <td>['email', 'phone', 'reviews', 'jumio', 'offlin...</td>\n",
       "      <td>t</td>\n",
       "      <td>t</td>\n",
       "      <td>Amsterdam, North Holland, Netherlands</td>\n",
       "      <td>Centrum-Oost</td>\n",
       "      <td>NaN</td>\n",
       "      <td>52.36407</td>\n",
       "      <td>4.89393</td>\n",
       "      <td>Private room in townhouse</td>\n",
       "      <td>Private room</td>\n",
       "      <td>2</td>\n",
       "      <td>NaN</td>\n",
       "      <td>1 private bath</td>\n",
       "      <td>1.0</td>\n",
       "      <td>1.0</td>\n",
       "      <td>[\"TV\", \"Wifi\", \"Bed linens\", \"Refrigerator\", \"...</td>\n",
       "      <td>$106.00</td>\n",
       "      <td>1</td>\n",
       "      <td>365</td>\n",
       "      <td>1.0</td>\n",
       "      <td>1.0</td>\n",
       "      <td>1125.0</td>\n",
       "      <td>1125.0</td>\n",
       "      <td>1.0</td>\n",
       "      <td>1125.0</td>\n",
       "      <td>NaN</td>\n",
       "      <td>t</td>\n",
       "      <td>0</td>\n",
       "      <td>0</td>\n",
       "      <td>0</td>\n",
       "      <td>0</td>\n",
       "      <td>2021-11-04</td>\n",
       "      <td>339</td>\n",
       "      <td>0</td>\n",
       "      <td>0</td>\n",
       "      <td>2014-01-17</td>\n",
       "      <td>2020-03-27</td>\n",
       "      <td>4.44</td>\n",
       "      <td>4.69</td>\n",
       "      <td>4.79</td>\n",
       "      <td>4.63</td>\n",
       "      <td>4.62</td>\n",
       "      <td>4.87</td>\n",
       "      <td>4.49</td>\n",
       "      <td>0363 CBB3 2C10 0C2A 1E29</td>\n",
       "      <td>t</td>\n",
       "      <td>2</td>\n",
       "      <td>0</td>\n",
       "      <td>2</td>\n",
       "      <td>0</td>\n",
       "      <td>3.57</td>\n",
       "    </tr>\n",
       "    <tr>\n",
       "      <th>2</th>\n",
       "      <td>27886</td>\n",
       "      <td>https://www.airbnb.com/rooms/27886</td>\n",
       "      <td>20211104024252</td>\n",
       "      <td>2021-11-04</td>\n",
       "      <td>Romantic, stylish B&amp;B houseboat in canal district</td>\n",
       "      <td>Stylish and romantic houseboat on fantastic hi...</td>\n",
       "      <td>Central, quiet, safe, clean and beautiful.</td>\n",
       "      <td>https://a0.muscache.com/pictures/02c2da9d-660e...</td>\n",
       "      <td>97647</td>\n",
       "      <td>https://www.airbnb.com/users/show/97647</td>\n",
       "      <td>Flip</td>\n",
       "      <td>2010-03-23</td>\n",
       "      <td>Amsterdam, Noord-Holland, The Netherlands</td>\n",
       "      <td>Marjan works in \"eye\" the dutch filmmuseum, an...</td>\n",
       "      <td>within an hour</td>\n",
       "      <td>100%</td>\n",
       "      <td>100%</td>\n",
       "      <td>t</td>\n",
       "      <td>https://a0.muscache.com/im/users/97647/profile...</td>\n",
       "      <td>https://a0.muscache.com/im/users/97647/profile...</td>\n",
       "      <td>Westelijke Eilanden</td>\n",
       "      <td>1.0</td>\n",
       "      <td>1.0</td>\n",
       "      <td>['email', 'phone', 'reviews', 'jumio', 'offlin...</td>\n",
       "      <td>t</td>\n",
       "      <td>t</td>\n",
       "      <td>Amsterdam, North Holland, Netherlands</td>\n",
       "      <td>Centrum-West</td>\n",
       "      <td>NaN</td>\n",
       "      <td>52.38761</td>\n",
       "      <td>4.89188</td>\n",
       "      <td>Private room in houseboat</td>\n",
       "      <td>Private room</td>\n",
       "      <td>2</td>\n",
       "      <td>NaN</td>\n",
       "      <td>1.5 baths</td>\n",
       "      <td>1.0</td>\n",
       "      <td>1.0</td>\n",
       "      <td>[\"Smart lock\", \"Refrigerator\", \"Long term stay...</td>\n",
       "      <td>$135.00</td>\n",
       "      <td>2</td>\n",
       "      <td>730</td>\n",
       "      <td>2.0</td>\n",
       "      <td>2.0</td>\n",
       "      <td>1125.0</td>\n",
       "      <td>1125.0</td>\n",
       "      <td>2.0</td>\n",
       "      <td>1125.0</td>\n",
       "      <td>NaN</td>\n",
       "      <td>t</td>\n",
       "      <td>15</td>\n",
       "      <td>22</td>\n",
       "      <td>22</td>\n",
       "      <td>22</td>\n",
       "      <td>2021-11-04</td>\n",
       "      <td>226</td>\n",
       "      <td>7</td>\n",
       "      <td>3</td>\n",
       "      <td>2013-02-17</td>\n",
       "      <td>2021-10-20</td>\n",
       "      <td>4.95</td>\n",
       "      <td>4.93</td>\n",
       "      <td>4.96</td>\n",
       "      <td>4.95</td>\n",
       "      <td>4.92</td>\n",
       "      <td>4.90</td>\n",
       "      <td>4.80</td>\n",
       "      <td>0363 974D 4986 7411 88D8</td>\n",
       "      <td>t</td>\n",
       "      <td>1</td>\n",
       "      <td>0</td>\n",
       "      <td>1</td>\n",
       "      <td>0</td>\n",
       "      <td>2.13</td>\n",
       "    </tr>\n",
       "    <tr>\n",
       "      <th>3</th>\n",
       "      <td>28871</td>\n",
       "      <td>https://www.airbnb.com/rooms/28871</td>\n",
       "      <td>20211104024252</td>\n",
       "      <td>2021-11-04</td>\n",
       "      <td>Comfortable double room</td>\n",
       "      <td>&lt;b&gt;The space&lt;/b&gt;&lt;br /&gt;In a monumental house ri...</td>\n",
       "      <td>Flower market , Leidseplein , Rembrantsplein</td>\n",
       "      <td>https://a0.muscache.com/pictures/160889/362340...</td>\n",
       "      <td>124245</td>\n",
       "      <td>https://www.airbnb.com/users/show/124245</td>\n",
       "      <td>Edwin</td>\n",
       "      <td>2010-05-13</td>\n",
       "      <td>Amsterdam, Noord-Holland, The Netherlands</td>\n",
       "      <td>Hi</td>\n",
       "      <td>within an hour</td>\n",
       "      <td>100%</td>\n",
       "      <td>99%</td>\n",
       "      <td>t</td>\n",
       "      <td>https://a0.muscache.com/im/pictures/user/9986b...</td>\n",
       "      <td>https://a0.muscache.com/im/pictures/user/9986b...</td>\n",
       "      <td>Amsterdam Centrum</td>\n",
       "      <td>2.0</td>\n",
       "      <td>2.0</td>\n",
       "      <td>['email', 'phone', 'reviews', 'jumio', 'offlin...</td>\n",
       "      <td>t</td>\n",
       "      <td>t</td>\n",
       "      <td>Amsterdam, North Holland, Netherlands</td>\n",
       "      <td>Centrum-West</td>\n",
       "      <td>NaN</td>\n",
       "      <td>52.36775</td>\n",
       "      <td>4.89092</td>\n",
       "      <td>Private room in rental unit</td>\n",
       "      <td>Private room</td>\n",
       "      <td>2</td>\n",
       "      <td>NaN</td>\n",
       "      <td>1 shared bath</td>\n",
       "      <td>1.0</td>\n",
       "      <td>1.0</td>\n",
       "      <td>[\"Wifi\", \"Shampoo\", \"Bed linens\", \"Refrigerato...</td>\n",
       "      <td>$75.00</td>\n",
       "      <td>2</td>\n",
       "      <td>1825</td>\n",
       "      <td>2.0</td>\n",
       "      <td>2.0</td>\n",
       "      <td>1825.0</td>\n",
       "      <td>1825.0</td>\n",
       "      <td>2.0</td>\n",
       "      <td>1825.0</td>\n",
       "      <td>NaN</td>\n",
       "      <td>t</td>\n",
       "      <td>10</td>\n",
       "      <td>19</td>\n",
       "      <td>43</td>\n",
       "      <td>267</td>\n",
       "      <td>2021-11-04</td>\n",
       "      <td>364</td>\n",
       "      <td>28</td>\n",
       "      <td>6</td>\n",
       "      <td>2015-05-18</td>\n",
       "      <td>2021-10-15</td>\n",
       "      <td>4.88</td>\n",
       "      <td>4.94</td>\n",
       "      <td>4.89</td>\n",
       "      <td>4.97</td>\n",
       "      <td>4.94</td>\n",
       "      <td>4.97</td>\n",
       "      <td>4.82</td>\n",
       "      <td>0363 607B EA74 0BD8 2F6F</td>\n",
       "      <td>f</td>\n",
       "      <td>2</td>\n",
       "      <td>0</td>\n",
       "      <td>2</td>\n",
       "      <td>0</td>\n",
       "      <td>4.62</td>\n",
       "    </tr>\n",
       "    <tr>\n",
       "      <th>4</th>\n",
       "      <td>29051</td>\n",
       "      <td>https://www.airbnb.com/rooms/29051</td>\n",
       "      <td>20211104024252</td>\n",
       "      <td>2021-11-04</td>\n",
       "      <td>Comfortable single room</td>\n",
       "      <td>This room can also accomodate 2 people.  For a...</td>\n",
       "      <td>the street is quite lively especially on weeke...</td>\n",
       "      <td>https://a0.muscache.com/pictures/162009/bd6be2...</td>\n",
       "      <td>124245</td>\n",
       "      <td>https://www.airbnb.com/users/show/124245</td>\n",
       "      <td>Edwin</td>\n",
       "      <td>2010-05-13</td>\n",
       "      <td>Amsterdam, Noord-Holland, The Netherlands</td>\n",
       "      <td>Hi</td>\n",
       "      <td>within an hour</td>\n",
       "      <td>100%</td>\n",
       "      <td>99%</td>\n",
       "      <td>t</td>\n",
       "      <td>https://a0.muscache.com/im/pictures/user/9986b...</td>\n",
       "      <td>https://a0.muscache.com/im/pictures/user/9986b...</td>\n",
       "      <td>Amsterdam Centrum</td>\n",
       "      <td>2.0</td>\n",
       "      <td>2.0</td>\n",
       "      <td>['email', 'phone', 'reviews', 'jumio', 'offlin...</td>\n",
       "      <td>t</td>\n",
       "      <td>t</td>\n",
       "      <td>Amsterdam, North Holland, Netherlands</td>\n",
       "      <td>Centrum-Oost</td>\n",
       "      <td>NaN</td>\n",
       "      <td>52.36584</td>\n",
       "      <td>4.89111</td>\n",
       "      <td>Private room in rental unit</td>\n",
       "      <td>Private room</td>\n",
       "      <td>1</td>\n",
       "      <td>NaN</td>\n",
       "      <td>1 shared bath</td>\n",
       "      <td>1.0</td>\n",
       "      <td>1.0</td>\n",
       "      <td>[\"Wifi\", \"Shampoo\", \"Shower gel\", \"Bed linens\"...</td>\n",
       "      <td>$55.00</td>\n",
       "      <td>2</td>\n",
       "      <td>730</td>\n",
       "      <td>2.0</td>\n",
       "      <td>2.0</td>\n",
       "      <td>730.0</td>\n",
       "      <td>730.0</td>\n",
       "      <td>2.0</td>\n",
       "      <td>730.0</td>\n",
       "      <td>NaN</td>\n",
       "      <td>t</td>\n",
       "      <td>4</td>\n",
       "      <td>19</td>\n",
       "      <td>45</td>\n",
       "      <td>282</td>\n",
       "      <td>2021-11-04</td>\n",
       "      <td>509</td>\n",
       "      <td>30</td>\n",
       "      <td>7</td>\n",
       "      <td>2014-04-08</td>\n",
       "      <td>2021-10-09</td>\n",
       "      <td>4.77</td>\n",
       "      <td>4.87</td>\n",
       "      <td>4.83</td>\n",
       "      <td>4.91</td>\n",
       "      <td>4.90</td>\n",
       "      <td>4.86</td>\n",
       "      <td>4.75</td>\n",
       "      <td>0363 607B EA74 0BD8 2F6F</td>\n",
       "      <td>f</td>\n",
       "      <td>2</td>\n",
       "      <td>0</td>\n",
       "      <td>2</td>\n",
       "      <td>0</td>\n",
       "      <td>5.52</td>\n",
       "    </tr>\n",
       "  </tbody>\n",
       "</table>\n",
       "</div>"
      ],
      "text/plain": [
       "      id                         listing_url       scrape_id last_scraped  \\\n",
       "0   2818   https://www.airbnb.com/rooms/2818  20211104024252   2021-11-04   \n",
       "1  20168  https://www.airbnb.com/rooms/20168  20211104024252   2021-11-04   \n",
       "2  27886  https://www.airbnb.com/rooms/27886  20211104024252   2021-11-04   \n",
       "3  28871  https://www.airbnb.com/rooms/28871  20211104024252   2021-11-04   \n",
       "4  29051  https://www.airbnb.com/rooms/29051  20211104024252   2021-11-04   \n",
       "\n",
       "                                                name  \\\n",
       "0           Quiet Garden View Room & Super Fast WiFi   \n",
       "1       Studio with private bathroom in the centre 1   \n",
       "2  Romantic, stylish B&B houseboat in canal district   \n",
       "3                            Comfortable double room   \n",
       "4                            Comfortable single room   \n",
       "\n",
       "                                         description  \\\n",
       "0  Quiet Garden View Room & Super Fast WiFi<br />...   \n",
       "1  17th century Dutch townhouse in the heart of t...   \n",
       "2  Stylish and romantic houseboat on fantastic hi...   \n",
       "3  <b>The space</b><br />In a monumental house ri...   \n",
       "4  This room can also accomodate 2 people.  For a...   \n",
       "\n",
       "                               neighborhood_overview  \\\n",
       "0  Indische Buurt (\"Indies Neighborhood\") is a ne...   \n",
       "1  Located just in between famous central canals....   \n",
       "2         Central, quiet, safe, clean and beautiful.   \n",
       "3       Flower market , Leidseplein , Rembrantsplein   \n",
       "4  the street is quite lively especially on weeke...   \n",
       "\n",
       "                                         picture_url  host_id  \\\n",
       "0  https://a0.muscache.com/pictures/10272854/8dcc...     3159   \n",
       "1  https://a0.muscache.com/pictures/69979628/fd6a...    59484   \n",
       "2  https://a0.muscache.com/pictures/02c2da9d-660e...    97647   \n",
       "3  https://a0.muscache.com/pictures/160889/362340...   124245   \n",
       "4  https://a0.muscache.com/pictures/162009/bd6be2...   124245   \n",
       "\n",
       "                                   host_url  host_name  host_since  \\\n",
       "0    https://www.airbnb.com/users/show/3159     Daniel  2008-09-24   \n",
       "1   https://www.airbnb.com/users/show/59484  Alexander  2009-12-02   \n",
       "2   https://www.airbnb.com/users/show/97647       Flip  2010-03-23   \n",
       "3  https://www.airbnb.com/users/show/124245      Edwin  2010-05-13   \n",
       "4  https://www.airbnb.com/users/show/124245      Edwin  2010-05-13   \n",
       "\n",
       "                               host_location  \\\n",
       "0  Amsterdam, Noord-Holland, The Netherlands   \n",
       "1  Amsterdam, Noord-Holland, The Netherlands   \n",
       "2  Amsterdam, Noord-Holland, The Netherlands   \n",
       "3  Amsterdam, Noord-Holland, The Netherlands   \n",
       "4  Amsterdam, Noord-Holland, The Netherlands   \n",
       "\n",
       "                                          host_about  host_response_time  \\\n",
       "0  Upon arriving in Amsterdam, one can imagine as...      within an hour   \n",
       "1                  + (Phone number hidden by Airbnb)  within a few hours   \n",
       "2  Marjan works in \"eye\" the dutch filmmuseum, an...      within an hour   \n",
       "3                                                 Hi      within an hour   \n",
       "4                                                 Hi      within an hour   \n",
       "\n",
       "  host_response_rate host_acceptance_rate host_is_superhost  \\\n",
       "0               100%                 100%                 t   \n",
       "1               100%                 100%                 f   \n",
       "2               100%                 100%                 t   \n",
       "3               100%                  99%                 t   \n",
       "4               100%                  99%                 t   \n",
       "\n",
       "                                  host_thumbnail_url  \\\n",
       "0  https://a0.muscache.com/im/users/3159/profile_...   \n",
       "1  https://a0.muscache.com/im/pictures/user/65092...   \n",
       "2  https://a0.muscache.com/im/users/97647/profile...   \n",
       "3  https://a0.muscache.com/im/pictures/user/9986b...   \n",
       "4  https://a0.muscache.com/im/pictures/user/9986b...   \n",
       "\n",
       "                                    host_picture_url   host_neighbourhood  \\\n",
       "0  https://a0.muscache.com/im/users/3159/profile_...       Indische Buurt   \n",
       "1  https://a0.muscache.com/im/pictures/user/65092...       Grachtengordel   \n",
       "2  https://a0.muscache.com/im/users/97647/profile...  Westelijke Eilanden   \n",
       "3  https://a0.muscache.com/im/pictures/user/9986b...    Amsterdam Centrum   \n",
       "4  https://a0.muscache.com/im/pictures/user/9986b...    Amsterdam Centrum   \n",
       "\n",
       "   host_listings_count  host_total_listings_count  \\\n",
       "0                  1.0                        1.0   \n",
       "1                  2.0                        2.0   \n",
       "2                  1.0                        1.0   \n",
       "3                  2.0                        2.0   \n",
       "4                  2.0                        2.0   \n",
       "\n",
       "                                  host_verifications host_has_profile_pic  \\\n",
       "0  ['email', 'phone', 'reviews', 'jumio', 'offlin...                    t   \n",
       "1  ['email', 'phone', 'reviews', 'jumio', 'offlin...                    t   \n",
       "2  ['email', 'phone', 'reviews', 'jumio', 'offlin...                    t   \n",
       "3  ['email', 'phone', 'reviews', 'jumio', 'offlin...                    t   \n",
       "4  ['email', 'phone', 'reviews', 'jumio', 'offlin...                    t   \n",
       "\n",
       "  host_identity_verified                          neighbourhood  \\\n",
       "0                      t  Amsterdam, North Holland, Netherlands   \n",
       "1                      t  Amsterdam, North Holland, Netherlands   \n",
       "2                      t  Amsterdam, North Holland, Netherlands   \n",
       "3                      t  Amsterdam, North Holland, Netherlands   \n",
       "4                      t  Amsterdam, North Holland, Netherlands   \n",
       "\n",
       "                   neighbourhood_cleansed  neighbourhood_group_cleansed  \\\n",
       "0  Oostelijk Havengebied - Indische Buurt                           NaN   \n",
       "1                            Centrum-Oost                           NaN   \n",
       "2                            Centrum-West                           NaN   \n",
       "3                            Centrum-West                           NaN   \n",
       "4                            Centrum-Oost                           NaN   \n",
       "\n",
       "   latitude  longitude                property_type     room_type  \\\n",
       "0  52.36435    4.94358  Private room in rental unit  Private room   \n",
       "1  52.36407    4.89393    Private room in townhouse  Private room   \n",
       "2  52.38761    4.89188    Private room in houseboat  Private room   \n",
       "3  52.36775    4.89092  Private room in rental unit  Private room   \n",
       "4  52.36584    4.89111  Private room in rental unit  Private room   \n",
       "\n",
       "   accommodates  bathrooms    bathrooms_text  bedrooms  beds  \\\n",
       "0             2        NaN  1.5 shared baths       1.0   2.0   \n",
       "1             2        NaN    1 private bath       1.0   1.0   \n",
       "2             2        NaN         1.5 baths       1.0   1.0   \n",
       "3             2        NaN     1 shared bath       1.0   1.0   \n",
       "4             1        NaN     1 shared bath       1.0   1.0   \n",
       "\n",
       "                                           amenities    price  minimum_nights  \\\n",
       "0  [\"Refrigerator\", \"Paid parking off premises\", ...   $59.00               3   \n",
       "1  [\"TV\", \"Wifi\", \"Bed linens\", \"Refrigerator\", \"...  $106.00               1   \n",
       "2  [\"Smart lock\", \"Refrigerator\", \"Long term stay...  $135.00               2   \n",
       "3  [\"Wifi\", \"Shampoo\", \"Bed linens\", \"Refrigerato...   $75.00               2   \n",
       "4  [\"Wifi\", \"Shampoo\", \"Shower gel\", \"Bed linens\"...   $55.00               2   \n",
       "\n",
       "   maximum_nights  minimum_minimum_nights  maximum_minimum_nights  \\\n",
       "0              28                     3.0                     3.0   \n",
       "1             365                     1.0                     1.0   \n",
       "2             730                     2.0                     2.0   \n",
       "3            1825                     2.0                     2.0   \n",
       "4             730                     2.0                     2.0   \n",
       "\n",
       "   minimum_maximum_nights  maximum_maximum_nights  minimum_nights_avg_ntm  \\\n",
       "0                  1125.0                  1125.0                     3.0   \n",
       "1                  1125.0                  1125.0                     1.0   \n",
       "2                  1125.0                  1125.0                     2.0   \n",
       "3                  1825.0                  1825.0                     2.0   \n",
       "4                   730.0                   730.0                     2.0   \n",
       "\n",
       "   maximum_nights_avg_ntm  calendar_updated has_availability  availability_30  \\\n",
       "0                  1125.0               NaN                t               18   \n",
       "1                  1125.0               NaN                t                0   \n",
       "2                  1125.0               NaN                t               15   \n",
       "3                  1825.0               NaN                t               10   \n",
       "4                   730.0               NaN                t                4   \n",
       "\n",
       "   availability_60  availability_90  availability_365 calendar_last_scraped  \\\n",
       "0               33               33                33            2021-11-04   \n",
       "1                0                0                 0            2021-11-04   \n",
       "2               22               22                22            2021-11-04   \n",
       "3               19               43               267            2021-11-04   \n",
       "4               19               45               282            2021-11-04   \n",
       "\n",
       "   number_of_reviews  number_of_reviews_ltm  number_of_reviews_l30d  \\\n",
       "0                282                      4                       2   \n",
       "1                339                      0                       0   \n",
       "2                226                      7                       3   \n",
       "3                364                     28                       6   \n",
       "4                509                     30                       7   \n",
       "\n",
       "  first_review last_review  review_scores_rating  review_scores_accuracy  \\\n",
       "0   2013-08-25  2019-11-21                  4.89                    4.93   \n",
       "1   2014-01-17  2020-03-27                  4.44                    4.69   \n",
       "2   2013-02-17  2021-10-20                  4.95                    4.93   \n",
       "3   2015-05-18  2021-10-15                  4.88                    4.94   \n",
       "4   2014-04-08  2021-10-09                  4.77                    4.87   \n",
       "\n",
       "   review_scores_cleanliness  review_scores_checkin  \\\n",
       "0                       5.00                   4.98   \n",
       "1                       4.79                   4.63   \n",
       "2                       4.96                   4.95   \n",
       "3                       4.89                   4.97   \n",
       "4                       4.83                   4.91   \n",
       "\n",
       "   review_scores_communication  review_scores_location  review_scores_value  \\\n",
       "0                         4.98                    4.68                 4.81   \n",
       "1                         4.62                    4.87                 4.49   \n",
       "2                         4.92                    4.90                 4.80   \n",
       "3                         4.94                    4.97                 4.82   \n",
       "4                         4.90                    4.86                 4.75   \n",
       "\n",
       "                    license instant_bookable  calculated_host_listings_count  \\\n",
       "0  0363 5F3A 5684 6750 D14D                t                               1   \n",
       "1  0363 CBB3 2C10 0C2A 1E29                t                               2   \n",
       "2  0363 974D 4986 7411 88D8                t                               1   \n",
       "3  0363 607B EA74 0BD8 2F6F                f                               2   \n",
       "4  0363 607B EA74 0BD8 2F6F                f                               2   \n",
       "\n",
       "   calculated_host_listings_count_entire_homes  \\\n",
       "0                                            0   \n",
       "1                                            0   \n",
       "2                                            0   \n",
       "3                                            0   \n",
       "4                                            0   \n",
       "\n",
       "   calculated_host_listings_count_private_rooms  \\\n",
       "0                                             1   \n",
       "1                                             2   \n",
       "2                                             1   \n",
       "3                                             2   \n",
       "4                                             2   \n",
       "\n",
       "   calculated_host_listings_count_shared_rooms  reviews_per_month  \n",
       "0                                            0               2.83  \n",
       "1                                            0               3.57  \n",
       "2                                            0               2.13  \n",
       "3                                            0               4.62  \n",
       "4                                            0               5.52  "
      ]
     },
     "execution_count": 2,
     "metadata": {},
     "output_type": "execute_result"
    }
   ],
   "source": [
    "#use a standard dataset of heterogenous data\n",
    "listings = pd.read_csv('data/listings.csv')\n",
    "listings.head()"
   ]
  },
  {
   "cell_type": "markdown",
   "metadata": {},
   "source": [
    "## Data cleanup"
   ]
  },
  {
   "cell_type": "markdown",
   "metadata": {},
   "source": [
    "Dropping superflous features."
   ]
  },
  {
   "cell_type": "code",
   "execution_count": 3,
   "metadata": {},
   "outputs": [],
   "source": [
    "# List of the features that are not important for us.\n",
    "misc_features = [\n",
    "    'listing_url',\n",
    "    'scrape_id',\n",
    "    'name',\n",
    "    'description',\n",
    "    'neighborhood_overview',\n",
    "    'picture_url',\n",
    "    'host_url',\n",
    "    'host_location',\n",
    "    'host_about',\n",
    "    'host_thumbnail_url',\n",
    "    'host_picture_url',\n",
    "    'neighbourhood',\n",
    "    'neighbourhood_group_cleansed',\n",
    "    # 'latitude',\n",
    "    # 'longitude',\n",
    "    'calendar_updated',\n",
    "    'calendar_last_scraped',\n",
    "    'license'\n",
    "]\n",
    "\n",
    "# dropping the columns from df\n",
    "listings = listings.drop(misc_features, axis=1)"
   ]
  },
  {
   "attachments": {},
   "cell_type": "markdown",
   "metadata": {},
   "source": [
    "### Data adjustments\n",
    "\n",
    "For example the list of 'host_verification' options is not that important, what is important is how many different options the host provides/requires for verification.\n"
   ]
  },
  {
   "cell_type": "code",
   "execution_count": 4,
   "metadata": {},
   "outputs": [],
   "source": [
    "import re\n",
    "regex = re.compile('[a-z A-Z]')\n",
    "\n",
    "# doing some float adjustemnts\n",
    "listings['bathrooms'] = listings['bathrooms_text'].fillna('NaN').str.replace(regex, r\"\\0\", regex=True).str.strip('\\x00 -').astype('string').replace('', 'NaN').astype('float64')\n",
    "listings['host_verifications'] = listings['host_verifications'].map(lambda x: len([_x.strip() for _x in eval(x) ]))\n",
    "listings['amenities'] = listings['amenities'].map(lambda x: len([_x.strip() for _x in eval(x)])) \n",
    "listings['price'] = listings['price'].astype('string').str.strip('$').str.replace(',', '').astype('float64')\n",
    "listings['host_response_rate'] = listings['host_response_rate'].str.replace('%', '').astype('float64')\n",
    "listings['host_acceptance_rate'] = listings['host_acceptance_rate'].str.replace('%', '').astype('float64')\n",
    "\n",
    "# doing some data adjustments\n",
    "# --> use dataype 'timedelta' to have the datatype as a reference between two datetimes\n",
    "listings['last_scraped'] = listings['last_scraped'].astype('datetime64')\n",
    "listings['host_since'] = listings['host_since'].astype('datetime64')\n",
    "listings['first_review'] = listings['first_review'].astype('datetime64')\n",
    "listings['last_review'] = listings['last_review'].astype('datetime64')\n",
    "\n",
    "neighbourhood_district = {\n",
    "    'Centre District': ['Centrum-Oost', 'Centrum-West'],\n",
    "    'Nieuw-West District': ['Geuzenveld - Slotermeer', 'Slotervaart', 'De Aker - Nieuw Sloten', 'Osdorp'],\n",
    "    'Noord District': ['Noord-Oost', 'Noord-West', 'Oud-Noord'],\n",
    "    'Oost District': ['Oostelijk Havengebied - Indische Buurt', 'IJburg - Zeeburgereiland', 'Oud-Oost', 'Watergraafsmeer'],\n",
    "    'West District': ['De Baarsjes - Oud-West', 'Westerpark', 'Bos en Lommer'],\n",
    "    'Zuid District': ['Buitenveldert - Zuidas', 'De Pijp - Rivierenbuurt', 'Zuid'],\n",
    "    'Zuidoost District': ['Bijlmer-Centrum', 'Gaasperdam - Driemond', 'Bijlmer-Oost']\n",
    "}\n",
    "\n",
    "d = {k: oldk for oldk, oldv in neighbourhood_district.items() for k in oldv}\n",
    "\n",
    "listings['neighbourhood_district'] = listings['neighbourhood_cleansed'].map(d)\n",
    "# drops\n",
    "listings = listings.drop('bathrooms_text', axis=1)"
   ]
  },
  {
   "cell_type": "code",
   "execution_count": 5,
   "metadata": {},
   "outputs": [
    {
     "data": {
      "text/html": [
       "<div>\n",
       "<style scoped>\n",
       "    .dataframe tbody tr th:only-of-type {\n",
       "        vertical-align: middle;\n",
       "    }\n",
       "\n",
       "    .dataframe tbody tr th {\n",
       "        vertical-align: top;\n",
       "    }\n",
       "\n",
       "    .dataframe thead th {\n",
       "        text-align: right;\n",
       "    }\n",
       "</style>\n",
       "<table border=\"1\" class=\"dataframe\">\n",
       "  <thead>\n",
       "    <tr style=\"text-align: right;\">\n",
       "      <th></th>\n",
       "      <th>id</th>\n",
       "      <th>last_scraped</th>\n",
       "      <th>host_id</th>\n",
       "      <th>host_name</th>\n",
       "      <th>host_since</th>\n",
       "      <th>host_response_time</th>\n",
       "      <th>host_response_rate</th>\n",
       "      <th>host_acceptance_rate</th>\n",
       "      <th>host_is_superhost</th>\n",
       "      <th>host_neighbourhood</th>\n",
       "      <th>host_listings_count</th>\n",
       "      <th>host_total_listings_count</th>\n",
       "      <th>host_verifications</th>\n",
       "      <th>host_has_profile_pic</th>\n",
       "      <th>host_identity_verified</th>\n",
       "      <th>neighbourhood_cleansed</th>\n",
       "      <th>latitude</th>\n",
       "      <th>longitude</th>\n",
       "      <th>property_type</th>\n",
       "      <th>room_type</th>\n",
       "      <th>accommodates</th>\n",
       "      <th>bathrooms</th>\n",
       "      <th>bedrooms</th>\n",
       "      <th>beds</th>\n",
       "      <th>amenities</th>\n",
       "      <th>price</th>\n",
       "      <th>minimum_nights</th>\n",
       "      <th>maximum_nights</th>\n",
       "      <th>minimum_minimum_nights</th>\n",
       "      <th>maximum_minimum_nights</th>\n",
       "      <th>minimum_maximum_nights</th>\n",
       "      <th>maximum_maximum_nights</th>\n",
       "      <th>minimum_nights_avg_ntm</th>\n",
       "      <th>maximum_nights_avg_ntm</th>\n",
       "      <th>has_availability</th>\n",
       "      <th>availability_30</th>\n",
       "      <th>availability_60</th>\n",
       "      <th>availability_90</th>\n",
       "      <th>availability_365</th>\n",
       "      <th>number_of_reviews</th>\n",
       "      <th>number_of_reviews_ltm</th>\n",
       "      <th>number_of_reviews_l30d</th>\n",
       "      <th>first_review</th>\n",
       "      <th>last_review</th>\n",
       "      <th>review_scores_rating</th>\n",
       "      <th>review_scores_accuracy</th>\n",
       "      <th>review_scores_cleanliness</th>\n",
       "      <th>review_scores_checkin</th>\n",
       "      <th>review_scores_communication</th>\n",
       "      <th>review_scores_location</th>\n",
       "      <th>review_scores_value</th>\n",
       "      <th>instant_bookable</th>\n",
       "      <th>calculated_host_listings_count</th>\n",
       "      <th>calculated_host_listings_count_entire_homes</th>\n",
       "      <th>calculated_host_listings_count_private_rooms</th>\n",
       "      <th>calculated_host_listings_count_shared_rooms</th>\n",
       "      <th>reviews_per_month</th>\n",
       "      <th>neighbourhood_district</th>\n",
       "    </tr>\n",
       "  </thead>\n",
       "  <tbody>\n",
       "    <tr>\n",
       "      <th>5397</th>\n",
       "      <td>53121415</td>\n",
       "      <td>2021-11-04</td>\n",
       "      <td>303405414</td>\n",
       "      <td>Jm</td>\n",
       "      <td>2019-10-20</td>\n",
       "      <td>within a few hours</td>\n",
       "      <td>80.0</td>\n",
       "      <td>100.0</td>\n",
       "      <td>f</td>\n",
       "      <td>De Wallen</td>\n",
       "      <td>0.0</td>\n",
       "      <td>0.0</td>\n",
       "      <td>6</td>\n",
       "      <td>t</td>\n",
       "      <td>t</td>\n",
       "      <td>Centrum-West</td>\n",
       "      <td>52.373872</td>\n",
       "      <td>4.900818</td>\n",
       "      <td>Room in aparthotel</td>\n",
       "      <td>Entire home/apt</td>\n",
       "      <td>6</td>\n",
       "      <td>1.5</td>\n",
       "      <td>2.0</td>\n",
       "      <td>6.0</td>\n",
       "      <td>47</td>\n",
       "      <td>251.0</td>\n",
       "      <td>1</td>\n",
       "      <td>365</td>\n",
       "      <td>1.0</td>\n",
       "      <td>3.0</td>\n",
       "      <td>365.0</td>\n",
       "      <td>365.0</td>\n",
       "      <td>2.1</td>\n",
       "      <td>365.0</td>\n",
       "      <td>t</td>\n",
       "      <td>0</td>\n",
       "      <td>0</td>\n",
       "      <td>26</td>\n",
       "      <td>295</td>\n",
       "      <td>0</td>\n",
       "      <td>0</td>\n",
       "      <td>0</td>\n",
       "      <td>NaT</td>\n",
       "      <td>NaT</td>\n",
       "      <td>NaN</td>\n",
       "      <td>NaN</td>\n",
       "      <td>NaN</td>\n",
       "      <td>NaN</td>\n",
       "      <td>NaN</td>\n",
       "      <td>NaN</td>\n",
       "      <td>NaN</td>\n",
       "      <td>t</td>\n",
       "      <td>5</td>\n",
       "      <td>5</td>\n",
       "      <td>0</td>\n",
       "      <td>0</td>\n",
       "      <td>NaN</td>\n",
       "      <td>Centre District</td>\n",
       "    </tr>\n",
       "    <tr>\n",
       "      <th>5398</th>\n",
       "      <td>53124758</td>\n",
       "      <td>2021-11-04</td>\n",
       "      <td>300888539</td>\n",
       "      <td>WanderlustSolutionbooking</td>\n",
       "      <td>2019-10-08</td>\n",
       "      <td>within an hour</td>\n",
       "      <td>98.0</td>\n",
       "      <td>81.0</td>\n",
       "      <td>f</td>\n",
       "      <td>Amsterdam Centrum</td>\n",
       "      <td>11.0</td>\n",
       "      <td>11.0</td>\n",
       "      <td>7</td>\n",
       "      <td>t</td>\n",
       "      <td>t</td>\n",
       "      <td>Centrum-West</td>\n",
       "      <td>52.372290</td>\n",
       "      <td>4.891089</td>\n",
       "      <td>Entire serviced apartment</td>\n",
       "      <td>Entire home/apt</td>\n",
       "      <td>3</td>\n",
       "      <td>0.0</td>\n",
       "      <td>NaN</td>\n",
       "      <td>NaN</td>\n",
       "      <td>13</td>\n",
       "      <td>215.0</td>\n",
       "      <td>2</td>\n",
       "      <td>365</td>\n",
       "      <td>2.0</td>\n",
       "      <td>2.0</td>\n",
       "      <td>365.0</td>\n",
       "      <td>365.0</td>\n",
       "      <td>2.0</td>\n",
       "      <td>365.0</td>\n",
       "      <td>t</td>\n",
       "      <td>7</td>\n",
       "      <td>7</td>\n",
       "      <td>7</td>\n",
       "      <td>7</td>\n",
       "      <td>0</td>\n",
       "      <td>0</td>\n",
       "      <td>0</td>\n",
       "      <td>NaT</td>\n",
       "      <td>NaT</td>\n",
       "      <td>NaN</td>\n",
       "      <td>NaN</td>\n",
       "      <td>NaN</td>\n",
       "      <td>NaN</td>\n",
       "      <td>NaN</td>\n",
       "      <td>NaN</td>\n",
       "      <td>NaN</td>\n",
       "      <td>f</td>\n",
       "      <td>7</td>\n",
       "      <td>4</td>\n",
       "      <td>3</td>\n",
       "      <td>0</td>\n",
       "      <td>NaN</td>\n",
       "      <td>Centre District</td>\n",
       "    </tr>\n",
       "    <tr>\n",
       "      <th>5399</th>\n",
       "      <td>53127475</td>\n",
       "      <td>2021-11-04</td>\n",
       "      <td>6606794</td>\n",
       "      <td>Bart</td>\n",
       "      <td>2013-05-27</td>\n",
       "      <td>NaN</td>\n",
       "      <td>NaN</td>\n",
       "      <td>NaN</td>\n",
       "      <td>f</td>\n",
       "      <td>NaN</td>\n",
       "      <td>0.0</td>\n",
       "      <td>0.0</td>\n",
       "      <td>4</td>\n",
       "      <td>t</td>\n",
       "      <td>t</td>\n",
       "      <td>Westerpark</td>\n",
       "      <td>52.388880</td>\n",
       "      <td>4.880210</td>\n",
       "      <td>Entire condominium (condo)</td>\n",
       "      <td>Entire home/apt</td>\n",
       "      <td>2</td>\n",
       "      <td>1.0</td>\n",
       "      <td>1.0</td>\n",
       "      <td>NaN</td>\n",
       "      <td>25</td>\n",
       "      <td>140.0</td>\n",
       "      <td>3</td>\n",
       "      <td>21</td>\n",
       "      <td>3.0</td>\n",
       "      <td>3.0</td>\n",
       "      <td>21.0</td>\n",
       "      <td>21.0</td>\n",
       "      <td>3.0</td>\n",
       "      <td>21.0</td>\n",
       "      <td>t</td>\n",
       "      <td>14</td>\n",
       "      <td>38</td>\n",
       "      <td>39</td>\n",
       "      <td>314</td>\n",
       "      <td>0</td>\n",
       "      <td>0</td>\n",
       "      <td>0</td>\n",
       "      <td>NaT</td>\n",
       "      <td>NaT</td>\n",
       "      <td>NaN</td>\n",
       "      <td>NaN</td>\n",
       "      <td>NaN</td>\n",
       "      <td>NaN</td>\n",
       "      <td>NaN</td>\n",
       "      <td>NaN</td>\n",
       "      <td>NaN</td>\n",
       "      <td>t</td>\n",
       "      <td>1</td>\n",
       "      <td>1</td>\n",
       "      <td>0</td>\n",
       "      <td>0</td>\n",
       "      <td>NaN</td>\n",
       "      <td>West District</td>\n",
       "    </tr>\n",
       "    <tr>\n",
       "      <th>5400</th>\n",
       "      <td>53131052</td>\n",
       "      <td>2021-11-04</td>\n",
       "      <td>430112294</td>\n",
       "      <td>Bao</td>\n",
       "      <td>2021-11-02</td>\n",
       "      <td>NaN</td>\n",
       "      <td>NaN</td>\n",
       "      <td>NaN</td>\n",
       "      <td>f</td>\n",
       "      <td>NaN</td>\n",
       "      <td>0.0</td>\n",
       "      <td>0.0</td>\n",
       "      <td>1</td>\n",
       "      <td>t</td>\n",
       "      <td>f</td>\n",
       "      <td>Bijlmer-Centrum</td>\n",
       "      <td>52.315201</td>\n",
       "      <td>4.954658</td>\n",
       "      <td>Entire condominium (condo)</td>\n",
       "      <td>Entire home/apt</td>\n",
       "      <td>2</td>\n",
       "      <td>1.0</td>\n",
       "      <td>1.0</td>\n",
       "      <td>1.0</td>\n",
       "      <td>7</td>\n",
       "      <td>176.0</td>\n",
       "      <td>1</td>\n",
       "      <td>365</td>\n",
       "      <td>1.0</td>\n",
       "      <td>1.0</td>\n",
       "      <td>365.0</td>\n",
       "      <td>365.0</td>\n",
       "      <td>1.0</td>\n",
       "      <td>365.0</td>\n",
       "      <td>t</td>\n",
       "      <td>30</td>\n",
       "      <td>60</td>\n",
       "      <td>90</td>\n",
       "      <td>365</td>\n",
       "      <td>0</td>\n",
       "      <td>0</td>\n",
       "      <td>0</td>\n",
       "      <td>NaT</td>\n",
       "      <td>NaT</td>\n",
       "      <td>NaN</td>\n",
       "      <td>NaN</td>\n",
       "      <td>NaN</td>\n",
       "      <td>NaN</td>\n",
       "      <td>NaN</td>\n",
       "      <td>NaN</td>\n",
       "      <td>NaN</td>\n",
       "      <td>t</td>\n",
       "      <td>1</td>\n",
       "      <td>1</td>\n",
       "      <td>0</td>\n",
       "      <td>0</td>\n",
       "      <td>NaN</td>\n",
       "      <td>Zuidoost District</td>\n",
       "    </tr>\n",
       "    <tr>\n",
       "      <th>5401</th>\n",
       "      <td>53140075</td>\n",
       "      <td>2021-11-04</td>\n",
       "      <td>303405414</td>\n",
       "      <td>Jm</td>\n",
       "      <td>2019-10-20</td>\n",
       "      <td>within a few hours</td>\n",
       "      <td>80.0</td>\n",
       "      <td>100.0</td>\n",
       "      <td>f</td>\n",
       "      <td>De Wallen</td>\n",
       "      <td>0.0</td>\n",
       "      <td>0.0</td>\n",
       "      <td>6</td>\n",
       "      <td>t</td>\n",
       "      <td>t</td>\n",
       "      <td>Centrum-West</td>\n",
       "      <td>52.374160</td>\n",
       "      <td>4.899464</td>\n",
       "      <td>Room in aparthotel</td>\n",
       "      <td>Entire home/apt</td>\n",
       "      <td>5</td>\n",
       "      <td>1.5</td>\n",
       "      <td>2.0</td>\n",
       "      <td>5.0</td>\n",
       "      <td>46</td>\n",
       "      <td>317.0</td>\n",
       "      <td>1</td>\n",
       "      <td>365</td>\n",
       "      <td>1.0</td>\n",
       "      <td>3.0</td>\n",
       "      <td>1125.0</td>\n",
       "      <td>1125.0</td>\n",
       "      <td>2.1</td>\n",
       "      <td>1125.0</td>\n",
       "      <td>t</td>\n",
       "      <td>1</td>\n",
       "      <td>1</td>\n",
       "      <td>27</td>\n",
       "      <td>298</td>\n",
       "      <td>0</td>\n",
       "      <td>0</td>\n",
       "      <td>0</td>\n",
       "      <td>NaT</td>\n",
       "      <td>NaT</td>\n",
       "      <td>NaN</td>\n",
       "      <td>NaN</td>\n",
       "      <td>NaN</td>\n",
       "      <td>NaN</td>\n",
       "      <td>NaN</td>\n",
       "      <td>NaN</td>\n",
       "      <td>NaN</td>\n",
       "      <td>t</td>\n",
       "      <td>5</td>\n",
       "      <td>5</td>\n",
       "      <td>0</td>\n",
       "      <td>0</td>\n",
       "      <td>NaN</td>\n",
       "      <td>Centre District</td>\n",
       "    </tr>\n",
       "  </tbody>\n",
       "</table>\n",
       "</div>"
      ],
      "text/plain": [
       "            id last_scraped    host_id                  host_name host_since  \\\n",
       "5397  53121415   2021-11-04  303405414                         Jm 2019-10-20   \n",
       "5398  53124758   2021-11-04  300888539  WanderlustSolutionbooking 2019-10-08   \n",
       "5399  53127475   2021-11-04    6606794                       Bart 2013-05-27   \n",
       "5400  53131052   2021-11-04  430112294                        Bao 2021-11-02   \n",
       "5401  53140075   2021-11-04  303405414                         Jm 2019-10-20   \n",
       "\n",
       "      host_response_time  host_response_rate  host_acceptance_rate  \\\n",
       "5397  within a few hours                80.0                 100.0   \n",
       "5398      within an hour                98.0                  81.0   \n",
       "5399                 NaN                 NaN                   NaN   \n",
       "5400                 NaN                 NaN                   NaN   \n",
       "5401  within a few hours                80.0                 100.0   \n",
       "\n",
       "     host_is_superhost host_neighbourhood  host_listings_count  \\\n",
       "5397                 f          De Wallen                  0.0   \n",
       "5398                 f  Amsterdam Centrum                 11.0   \n",
       "5399                 f                NaN                  0.0   \n",
       "5400                 f                NaN                  0.0   \n",
       "5401                 f          De Wallen                  0.0   \n",
       "\n",
       "      host_total_listings_count  host_verifications host_has_profile_pic  \\\n",
       "5397                        0.0                   6                    t   \n",
       "5398                       11.0                   7                    t   \n",
       "5399                        0.0                   4                    t   \n",
       "5400                        0.0                   1                    t   \n",
       "5401                        0.0                   6                    t   \n",
       "\n",
       "     host_identity_verified neighbourhood_cleansed   latitude  longitude  \\\n",
       "5397                      t           Centrum-West  52.373872   4.900818   \n",
       "5398                      t           Centrum-West  52.372290   4.891089   \n",
       "5399                      t             Westerpark  52.388880   4.880210   \n",
       "5400                      f        Bijlmer-Centrum  52.315201   4.954658   \n",
       "5401                      t           Centrum-West  52.374160   4.899464   \n",
       "\n",
       "                   property_type        room_type  accommodates  bathrooms  \\\n",
       "5397          Room in aparthotel  Entire home/apt             6        1.5   \n",
       "5398   Entire serviced apartment  Entire home/apt             3        0.0   \n",
       "5399  Entire condominium (condo)  Entire home/apt             2        1.0   \n",
       "5400  Entire condominium (condo)  Entire home/apt             2        1.0   \n",
       "5401          Room in aparthotel  Entire home/apt             5        1.5   \n",
       "\n",
       "      bedrooms  beds  amenities  price  minimum_nights  maximum_nights  \\\n",
       "5397       2.0   6.0         47  251.0               1             365   \n",
       "5398       NaN   NaN         13  215.0               2             365   \n",
       "5399       1.0   NaN         25  140.0               3              21   \n",
       "5400       1.0   1.0          7  176.0               1             365   \n",
       "5401       2.0   5.0         46  317.0               1             365   \n",
       "\n",
       "      minimum_minimum_nights  maximum_minimum_nights  minimum_maximum_nights  \\\n",
       "5397                     1.0                     3.0                   365.0   \n",
       "5398                     2.0                     2.0                   365.0   \n",
       "5399                     3.0                     3.0                    21.0   \n",
       "5400                     1.0                     1.0                   365.0   \n",
       "5401                     1.0                     3.0                  1125.0   \n",
       "\n",
       "      maximum_maximum_nights  minimum_nights_avg_ntm  maximum_nights_avg_ntm  \\\n",
       "5397                   365.0                     2.1                   365.0   \n",
       "5398                   365.0                     2.0                   365.0   \n",
       "5399                    21.0                     3.0                    21.0   \n",
       "5400                   365.0                     1.0                   365.0   \n",
       "5401                  1125.0                     2.1                  1125.0   \n",
       "\n",
       "     has_availability  availability_30  availability_60  availability_90  \\\n",
       "5397                t                0                0               26   \n",
       "5398                t                7                7                7   \n",
       "5399                t               14               38               39   \n",
       "5400                t               30               60               90   \n",
       "5401                t                1                1               27   \n",
       "\n",
       "      availability_365  number_of_reviews  number_of_reviews_ltm  \\\n",
       "5397               295                  0                      0   \n",
       "5398                 7                  0                      0   \n",
       "5399               314                  0                      0   \n",
       "5400               365                  0                      0   \n",
       "5401               298                  0                      0   \n",
       "\n",
       "      number_of_reviews_l30d first_review last_review  review_scores_rating  \\\n",
       "5397                       0          NaT         NaT                   NaN   \n",
       "5398                       0          NaT         NaT                   NaN   \n",
       "5399                       0          NaT         NaT                   NaN   \n",
       "5400                       0          NaT         NaT                   NaN   \n",
       "5401                       0          NaT         NaT                   NaN   \n",
       "\n",
       "      review_scores_accuracy  review_scores_cleanliness  \\\n",
       "5397                     NaN                        NaN   \n",
       "5398                     NaN                        NaN   \n",
       "5399                     NaN                        NaN   \n",
       "5400                     NaN                        NaN   \n",
       "5401                     NaN                        NaN   \n",
       "\n",
       "      review_scores_checkin  review_scores_communication  \\\n",
       "5397                    NaN                          NaN   \n",
       "5398                    NaN                          NaN   \n",
       "5399                    NaN                          NaN   \n",
       "5400                    NaN                          NaN   \n",
       "5401                    NaN                          NaN   \n",
       "\n",
       "      review_scores_location  review_scores_value instant_bookable  \\\n",
       "5397                     NaN                  NaN                t   \n",
       "5398                     NaN                  NaN                f   \n",
       "5399                     NaN                  NaN                t   \n",
       "5400                     NaN                  NaN                t   \n",
       "5401                     NaN                  NaN                t   \n",
       "\n",
       "      calculated_host_listings_count  \\\n",
       "5397                               5   \n",
       "5398                               7   \n",
       "5399                               1   \n",
       "5400                               1   \n",
       "5401                               5   \n",
       "\n",
       "      calculated_host_listings_count_entire_homes  \\\n",
       "5397                                            5   \n",
       "5398                                            4   \n",
       "5399                                            1   \n",
       "5400                                            1   \n",
       "5401                                            5   \n",
       "\n",
       "      calculated_host_listings_count_private_rooms  \\\n",
       "5397                                             0   \n",
       "5398                                             3   \n",
       "5399                                             0   \n",
       "5400                                             0   \n",
       "5401                                             0   \n",
       "\n",
       "      calculated_host_listings_count_shared_rooms  reviews_per_month  \\\n",
       "5397                                            0                NaN   \n",
       "5398                                            0                NaN   \n",
       "5399                                            0                NaN   \n",
       "5400                                            0                NaN   \n",
       "5401                                            0                NaN   \n",
       "\n",
       "     neighbourhood_district  \n",
       "5397        Centre District  \n",
       "5398        Centre District  \n",
       "5399          West District  \n",
       "5400      Zuidoost District  \n",
       "5401        Centre District  "
      ]
     },
     "execution_count": 5,
     "metadata": {},
     "output_type": "execute_result"
    }
   ],
   "source": [
    "listings.tail()"
   ]
  },
  {
   "cell_type": "markdown",
   "metadata": {},
   "source": [
    "### Deeper look into missing data"
   ]
  },
  {
   "cell_type": "code",
   "execution_count": 6,
   "metadata": {},
   "outputs": [],
   "source": [
    "# figure setup fro following figures\n",
    "sns.set(rc={'figure.figsize':heatmap_fig_size})"
   ]
  },
  {
   "cell_type": "markdown",
   "metadata": {},
   "source": [
    "To get a deeper understanding of data gathering and the issues that come with missing data, a heatmap displaying null/NaN values is very powerful to find them fast and maybe eliminate some of the features, not only for data visualization and interpretation but also for the possible future training of an agent on the data."
   ]
  },
  {
   "cell_type": "code",
   "execution_count": 7,
   "metadata": {},
   "outputs": [
    {
     "data": {
      "text/plain": [
       "<AxesSubplot:>"
      ]
     },
     "execution_count": 7,
     "metadata": {},
     "output_type": "execute_result"
    },
    {
     "data": {
      "image/png": "[encoded data removed]",
      "text/plain": [
       "<Figure size 1728x864 with 1 Axes>"
      ]
     },
     "metadata": {},
     "output_type": "display_data"
    }
   ],
   "source": [
    "sns.heatmap(listings.isnull(), yticklabels=False, cbar=False, cmap='viridis')"
   ]
  },
  {
   "cell_type": "markdown",
   "metadata": {},
   "source": [
    "What already seems striking is that the lower data entries (i suspect newer, more recently created, ones, which sounds intuitive, but we'll have at look at that later) more often don't seem to have any entries in the regarding review features: \n",
    "* *features first_review* \n",
    "* *last_review* \n",
    "* *review_scores_rating* \n",
    "* *review_scores_accuracy* \n",
    "* *review_scores_cleanliness* \n",
    "* *review_scores_checking*\n",
    "* *review_scores_communication* \n",
    "* *review_scores_location* \n",
    "* *review_scores_value* \n",
    "* *reviews_per_month*.\n",
    "\n",
    "*As already said we must have a look into this funny and peculiar observation later on.*\n",
    "\n",
    "To do some artificial data filling here would probably obscure the data to much, because about $\\frac{1}{4}$ of the entries are effected, so it would be more reasonable to look at why they are effected, then making (!) them whole."
   ]
  },
  {
   "cell_type": "markdown",
   "metadata": {},
   "source": [
    "One can also observe that the bathrooms, bedrooms and beds feature (all discrete/categorical variables) have sparse null values in them, we can now just fill these null values with the mean value\n",
    "in order to have a full dataset where no entries have to be dropped. For features like host_neighborhood where there are alot on null values we can consider dropping the feature, but \n",
    "due to the fact that we are not training an ML agent it is not that important to have a very clean dataset. Maybe we can find something interesiting regarding missing host_neighborhood values!"
   ]
  },
  {
   "cell_type": "code",
   "execution_count": 8,
   "metadata": {},
   "outputs": [],
   "source": [
    "listings['bathrooms'] = listings['bathrooms'].fillna(round(listings['bathrooms'].mean())) # interger or half\n",
    "listings['bedrooms'] = listings['bedrooms'].fillna(round(listings['bedrooms'].mean())) # integer\n",
    "listings['beds'] = listings['beds'].fillna(round(listings['beds'].mean())) # integer"
   ]
  },
  {
   "cell_type": "markdown",
   "metadata": {},
   "source": [
    "One more look on the clean data to see if we missed something."
   ]
  },
  {
   "cell_type": "code",
   "execution_count": 9,
   "metadata": {},
   "outputs": [
    {
     "data": {
      "text/plain": [
       "<AxesSubplot:>"
      ]
     },
     "execution_count": 9,
     "metadata": {},
     "output_type": "execute_result"
    },
    {
     "data": {
      "image/png": "[encoded data removed]",
      "text/plain": [
       "<Figure size 1728x864 with 1 Axes>"
      ]
     },
     "metadata": {},
     "output_type": "display_data"
    }
   ],
   "source": [
    "sns.heatmap(listings.isnull(), yticklabels=False, cbar=False, cmap='viridis')"
   ]
  },
  {
   "cell_type": "markdown",
   "metadata": {},
   "source": [
    "## Descriptive Statistics on individual Attributes"
   ]
  },
  {
   "cell_type": "code",
   "execution_count": 10,
   "metadata": {},
   "outputs": [],
   "source": [
    "# figure setup for following figures\n",
    "sns.set(rc={'figure.figsize':boxplot_fig_size})"
   ]
  },
  {
   "cell_type": "markdown",
   "metadata": {},
   "source": [
    "### Price Feature"
   ]
  },
  {
   "cell_type": "markdown",
   "metadata": {},
   "source": [
    "Here we will have a look at the *price* feature which is a continous feature.\n",
    "\n",
    "Starting with a boxplot of the price to get a grip of the summary statistics of the price attribute, the mean is marked as a white dot."
   ]
  },
  {
   "cell_type": "code",
   "execution_count": 11,
   "metadata": {},
   "outputs": [
    {
     "data": {
      "text/plain": [
       "<AxesSubplot:xlabel='price'>"
      ]
     },
     "execution_count": 11,
     "metadata": {},
     "output_type": "execute_result"
    },
    {
     "data": {
      "image/png": "[encoded data removed]",
      "text/plain": [
       "<Figure size 1080x216 with 1 Axes>"
      ]
     },
     "metadata": {},
     "output_type": "display_data"
    }
   ],
   "source": [
    "sns.boxplot(\n",
    "    listings['price'], \n",
    "    showmeans=True,\n",
    "    meanprops={\n",
    "        \"marker\":\"o\",\n",
    "        \"markerfacecolor\":\"white\", \n",
    "        \"markeredgecolor\":\"black\",\n",
    "        \"markersize\":\"6\"\n",
    "    }\n",
    ")"
   ]
  },
  {
   "cell_type": "markdown",
   "metadata": {},
   "source": [
    "We see that there is one outlier that is siginificantly bigger then the rest, so our mean is affected by this to a certain extent that we will investigate later."
   ]
  },
  {
   "cell_type": "code",
   "execution_count": 12,
   "metadata": {},
   "outputs": [
    {
     "name": "stdout",
     "output_type": "stream",
     "text": [
      "Biggest Outlier: 6477.0\n"
     ]
    }
   ],
   "source": [
    "# this has to be the biggest outlier\n",
    "print(f\"Biggest Outlier: {listings['price'].max()}\")"
   ]
  },
  {
   "cell_type": "markdown",
   "metadata": {},
   "source": [
    "Inorder to get a better look at the boxplot, we  plot it without the outliers."
   ]
  },
  {
   "cell_type": "code",
   "execution_count": 13,
   "metadata": {},
   "outputs": [
    {
     "data": {
      "text/plain": [
       "<AxesSubplot:xlabel='price'>"
      ]
     },
     "execution_count": 13,
     "metadata": {},
     "output_type": "execute_result"
    },
    {
     "data": {
      "image/png": "[encoded data removed]",
      "text/plain": [
       "<Figure size 1080x216 with 1 Axes>"
      ]
     },
     "metadata": {},
     "output_type": "display_data"
    }
   ],
   "source": [
    "sns.boxplot(\n",
    "    listings['price'],\n",
    "    showfliers=False,\n",
    "    showmeans=True,\n",
    "    meanprops={\n",
    "        \"marker\":\"o\",\n",
    "        \"markerfacecolor\":\"white\", \n",
    "        \"markeredgecolor\":\"black\",\n",
    "        \"markersize\":\"6\"\n",
    "    }\n",
    ")"
   ]
  },
  {
   "cell_type": "markdown",
   "metadata": {},
   "source": [
    "We can immediately see that the mean is pulled to the right (higher values) of the median."
   ]
  },
  {
   "cell_type": "markdown",
   "metadata": {},
   "source": [
    "To show the summary statistics needed for the boxplot not in a plot but in raw numbers."
   ]
  },
  {
   "cell_type": "code",
   "execution_count": 14,
   "metadata": {},
   "outputs": [
    {
     "name": "stdout",
     "output_type": "stream",
     "text": [
      "Minimum: 0.0\n",
      "Quartile 1: 100.0\n",
      "Quartile 2/Median: 140.0\n",
      "Quartile 3: 200.0\n",
      "Maximum: 6477.0\n"
     ]
    }
   ],
   "source": [
    "_min = listings['price'].min()\n",
    "q1 = listings['price'].quantile(0.25)\n",
    "median = listings['price'].quantile(0.5)\n",
    "q3 = listings['price'].quantile(0.75)\n",
    "_max = listings['price'].max()\n",
    "\n",
    "print(f\"Minimum: {_min}\")\n",
    "print(f\"Quartile 1: {q1}\")\n",
    "print(f\"Quartile 2/Median: {median}\")\n",
    "print(f\"Quartile 3: {q3}\")\n",
    "print(f\"Maximum: {_max}\")"
   ]
  },
  {
   "cell_type": "markdown",
   "metadata": {},
   "source": [
    "We can already see from the boxplot that there is indeed a (or mulitple) listings with price 0, this is more or less an issue, so we'll have a short look into said listings/entries to determine if this effects more then one column and possibly replace these (preferable with the median, because the mean is so greatly effected by the big outlier, so it would not be representative)."
   ]
  },
  {
   "cell_type": "code",
   "execution_count": 15,
   "metadata": {},
   "outputs": [
    {
     "data": {
      "text/html": [
       "<div>\n",
       "<style scoped>\n",
       "    .dataframe tbody tr th:only-of-type {\n",
       "        vertical-align: middle;\n",
       "    }\n",
       "\n",
       "    .dataframe tbody tr th {\n",
       "        vertical-align: top;\n",
       "    }\n",
       "\n",
       "    .dataframe thead th {\n",
       "        text-align: right;\n",
       "    }\n",
       "</style>\n",
       "<table border=\"1\" class=\"dataframe\">\n",
       "  <thead>\n",
       "    <tr style=\"text-align: right;\">\n",
       "      <th></th>\n",
       "      <th>id</th>\n",
       "      <th>last_scraped</th>\n",
       "      <th>host_id</th>\n",
       "      <th>host_name</th>\n",
       "      <th>host_since</th>\n",
       "      <th>host_response_time</th>\n",
       "      <th>host_response_rate</th>\n",
       "      <th>host_acceptance_rate</th>\n",
       "      <th>host_is_superhost</th>\n",
       "      <th>host_neighbourhood</th>\n",
       "      <th>host_listings_count</th>\n",
       "      <th>host_total_listings_count</th>\n",
       "      <th>host_verifications</th>\n",
       "      <th>host_has_profile_pic</th>\n",
       "      <th>host_identity_verified</th>\n",
       "      <th>neighbourhood_cleansed</th>\n",
       "      <th>latitude</th>\n",
       "      <th>longitude</th>\n",
       "      <th>property_type</th>\n",
       "      <th>room_type</th>\n",
       "      <th>accommodates</th>\n",
       "      <th>bathrooms</th>\n",
       "      <th>bedrooms</th>\n",
       "      <th>beds</th>\n",
       "      <th>amenities</th>\n",
       "      <th>price</th>\n",
       "      <th>minimum_nights</th>\n",
       "      <th>maximum_nights</th>\n",
       "      <th>minimum_minimum_nights</th>\n",
       "      <th>maximum_minimum_nights</th>\n",
       "      <th>minimum_maximum_nights</th>\n",
       "      <th>maximum_maximum_nights</th>\n",
       "      <th>minimum_nights_avg_ntm</th>\n",
       "      <th>maximum_nights_avg_ntm</th>\n",
       "      <th>has_availability</th>\n",
       "      <th>availability_30</th>\n",
       "      <th>availability_60</th>\n",
       "      <th>availability_90</th>\n",
       "      <th>availability_365</th>\n",
       "      <th>number_of_reviews</th>\n",
       "      <th>number_of_reviews_ltm</th>\n",
       "      <th>number_of_reviews_l30d</th>\n",
       "      <th>first_review</th>\n",
       "      <th>last_review</th>\n",
       "      <th>review_scores_rating</th>\n",
       "      <th>review_scores_accuracy</th>\n",
       "      <th>review_scores_cleanliness</th>\n",
       "      <th>review_scores_checkin</th>\n",
       "      <th>review_scores_communication</th>\n",
       "      <th>review_scores_location</th>\n",
       "      <th>review_scores_value</th>\n",
       "      <th>instant_bookable</th>\n",
       "      <th>calculated_host_listings_count</th>\n",
       "      <th>calculated_host_listings_count_entire_homes</th>\n",
       "      <th>calculated_host_listings_count_private_rooms</th>\n",
       "      <th>calculated_host_listings_count_shared_rooms</th>\n",
       "      <th>reviews_per_month</th>\n",
       "      <th>neighbourhood_district</th>\n",
       "    </tr>\n",
       "  </thead>\n",
       "  <tbody>\n",
       "    <tr>\n",
       "      <th>4306</th>\n",
       "      <td>42430386</td>\n",
       "      <td>2021-11-04</td>\n",
       "      <td>308694260</td>\n",
       "      <td>Dutchies Hostel</td>\n",
       "      <td>2019-11-11</td>\n",
       "      <td>within an hour</td>\n",
       "      <td>100.0</td>\n",
       "      <td>100.0</td>\n",
       "      <td>f</td>\n",
       "      <td>Bos en Lommer</td>\n",
       "      <td>2.0</td>\n",
       "      <td>2.0</td>\n",
       "      <td>2</td>\n",
       "      <td>t</td>\n",
       "      <td>t</td>\n",
       "      <td>Bos en Lommer</td>\n",
       "      <td>52.383220</td>\n",
       "      <td>4.846250</td>\n",
       "      <td>Room in hostel</td>\n",
       "      <td>Hotel room</td>\n",
       "      <td>10</td>\n",
       "      <td>1.0</td>\n",
       "      <td>2.0</td>\n",
       "      <td>2.0</td>\n",
       "      <td>30</td>\n",
       "      <td>0.0</td>\n",
       "      <td>1</td>\n",
       "      <td>365</td>\n",
       "      <td>1.0</td>\n",
       "      <td>1.0</td>\n",
       "      <td>365.0</td>\n",
       "      <td>365.0</td>\n",
       "      <td>1.0</td>\n",
       "      <td>365.0</td>\n",
       "      <td>t</td>\n",
       "      <td>0</td>\n",
       "      <td>0</td>\n",
       "      <td>0</td>\n",
       "      <td>0</td>\n",
       "      <td>108</td>\n",
       "      <td>108</td>\n",
       "      <td>12</td>\n",
       "      <td>2020-12-27</td>\n",
       "      <td>2021-10-26</td>\n",
       "      <td>4.30</td>\n",
       "      <td>4.43</td>\n",
       "      <td>4.24</td>\n",
       "      <td>4.66</td>\n",
       "      <td>4.56</td>\n",
       "      <td>4.07</td>\n",
       "      <td>4.38</td>\n",
       "      <td>f</td>\n",
       "      <td>1</td>\n",
       "      <td>0</td>\n",
       "      <td>0</td>\n",
       "      <td>0</td>\n",
       "      <td>10.35</td>\n",
       "      <td>West District</td>\n",
       "    </tr>\n",
       "    <tr>\n",
       "      <th>4308</th>\n",
       "      <td>42431273</td>\n",
       "      <td>2021-11-04</td>\n",
       "      <td>309119467</td>\n",
       "      <td>Hotel Abba</td>\n",
       "      <td>2019-11-13</td>\n",
       "      <td>within an hour</td>\n",
       "      <td>100.0</td>\n",
       "      <td>100.0</td>\n",
       "      <td>f</td>\n",
       "      <td>Oud-West</td>\n",
       "      <td>6.0</td>\n",
       "      <td>6.0</td>\n",
       "      <td>2</td>\n",
       "      <td>t</td>\n",
       "      <td>t</td>\n",
       "      <td>De Baarsjes - Oud-West</td>\n",
       "      <td>52.362790</td>\n",
       "      <td>4.874580</td>\n",
       "      <td>Room in hotel</td>\n",
       "      <td>Hotel room</td>\n",
       "      <td>3</td>\n",
       "      <td>1.0</td>\n",
       "      <td>2.0</td>\n",
       "      <td>2.0</td>\n",
       "      <td>15</td>\n",
       "      <td>0.0</td>\n",
       "      <td>1</td>\n",
       "      <td>365</td>\n",
       "      <td>1.0</td>\n",
       "      <td>1.0</td>\n",
       "      <td>1125.0</td>\n",
       "      <td>1125.0</td>\n",
       "      <td>1.0</td>\n",
       "      <td>1125.0</td>\n",
       "      <td>t</td>\n",
       "      <td>0</td>\n",
       "      <td>0</td>\n",
       "      <td>0</td>\n",
       "      <td>0</td>\n",
       "      <td>0</td>\n",
       "      <td>0</td>\n",
       "      <td>0</td>\n",
       "      <td>NaT</td>\n",
       "      <td>NaT</td>\n",
       "      <td>NaN</td>\n",
       "      <td>NaN</td>\n",
       "      <td>NaN</td>\n",
       "      <td>NaN</td>\n",
       "      <td>NaN</td>\n",
       "      <td>NaN</td>\n",
       "      <td>NaN</td>\n",
       "      <td>f</td>\n",
       "      <td>1</td>\n",
       "      <td>0</td>\n",
       "      <td>0</td>\n",
       "      <td>0</td>\n",
       "      <td>NaN</td>\n",
       "      <td>West District</td>\n",
       "    </tr>\n",
       "    <tr>\n",
       "      <th>4309</th>\n",
       "      <td>42431450</td>\n",
       "      <td>2021-11-04</td>\n",
       "      <td>311321908</td>\n",
       "      <td>Melrose Hotel</td>\n",
       "      <td>2019-11-22</td>\n",
       "      <td>within an hour</td>\n",
       "      <td>100.0</td>\n",
       "      <td>100.0</td>\n",
       "      <td>f</td>\n",
       "      <td>NaN</td>\n",
       "      <td>9.0</td>\n",
       "      <td>9.0</td>\n",
       "      <td>5</td>\n",
       "      <td>t</td>\n",
       "      <td>t</td>\n",
       "      <td>Centrum-West</td>\n",
       "      <td>52.369640</td>\n",
       "      <td>4.880040</td>\n",
       "      <td>Room in hotel</td>\n",
       "      <td>Hotel room</td>\n",
       "      <td>4</td>\n",
       "      <td>1.0</td>\n",
       "      <td>2.0</td>\n",
       "      <td>2.0</td>\n",
       "      <td>21</td>\n",
       "      <td>0.0</td>\n",
       "      <td>1</td>\n",
       "      <td>365</td>\n",
       "      <td>1.0</td>\n",
       "      <td>1.0</td>\n",
       "      <td>365.0</td>\n",
       "      <td>365.0</td>\n",
       "      <td>1.0</td>\n",
       "      <td>365.0</td>\n",
       "      <td>t</td>\n",
       "      <td>0</td>\n",
       "      <td>0</td>\n",
       "      <td>0</td>\n",
       "      <td>0</td>\n",
       "      <td>6</td>\n",
       "      <td>6</td>\n",
       "      <td>1</td>\n",
       "      <td>2020-11-16</td>\n",
       "      <td>2021-10-22</td>\n",
       "      <td>4.17</td>\n",
       "      <td>4.17</td>\n",
       "      <td>4.33</td>\n",
       "      <td>4.67</td>\n",
       "      <td>4.33</td>\n",
       "      <td>4.83</td>\n",
       "      <td>3.83</td>\n",
       "      <td>f</td>\n",
       "      <td>4</td>\n",
       "      <td>0</td>\n",
       "      <td>3</td>\n",
       "      <td>0</td>\n",
       "      <td>0.51</td>\n",
       "      <td>Centre District</td>\n",
       "    </tr>\n",
       "    <tr>\n",
       "      <th>4366</th>\n",
       "      <td>43095925</td>\n",
       "      <td>2021-11-04</td>\n",
       "      <td>311323273</td>\n",
       "      <td>Acostar Hotel</td>\n",
       "      <td>2019-11-22</td>\n",
       "      <td>within an hour</td>\n",
       "      <td>100.0</td>\n",
       "      <td>100.0</td>\n",
       "      <td>f</td>\n",
       "      <td>Grachtengordel</td>\n",
       "      <td>0.0</td>\n",
       "      <td>0.0</td>\n",
       "      <td>1</td>\n",
       "      <td>f</td>\n",
       "      <td>t</td>\n",
       "      <td>Centrum-Oost</td>\n",
       "      <td>52.365310</td>\n",
       "      <td>4.885780</td>\n",
       "      <td>Room in hotel</td>\n",
       "      <td>Hotel room</td>\n",
       "      <td>0</td>\n",
       "      <td>1.0</td>\n",
       "      <td>2.0</td>\n",
       "      <td>2.0</td>\n",
       "      <td>20</td>\n",
       "      <td>0.0</td>\n",
       "      <td>1</td>\n",
       "      <td>365</td>\n",
       "      <td>1.0</td>\n",
       "      <td>1.0</td>\n",
       "      <td>1125.0</td>\n",
       "      <td>1125.0</td>\n",
       "      <td>1.0</td>\n",
       "      <td>1125.0</td>\n",
       "      <td>t</td>\n",
       "      <td>0</td>\n",
       "      <td>0</td>\n",
       "      <td>0</td>\n",
       "      <td>0</td>\n",
       "      <td>0</td>\n",
       "      <td>0</td>\n",
       "      <td>0</td>\n",
       "      <td>NaT</td>\n",
       "      <td>NaT</td>\n",
       "      <td>NaN</td>\n",
       "      <td>NaN</td>\n",
       "      <td>NaN</td>\n",
       "      <td>NaN</td>\n",
       "      <td>NaN</td>\n",
       "      <td>NaN</td>\n",
       "      <td>NaN</td>\n",
       "      <td>f</td>\n",
       "      <td>1</td>\n",
       "      <td>0</td>\n",
       "      <td>0</td>\n",
       "      <td>0</td>\n",
       "      <td>NaN</td>\n",
       "      <td>Centre District</td>\n",
       "    </tr>\n",
       "    <tr>\n",
       "      <th>4370</th>\n",
       "      <td>43148414</td>\n",
       "      <td>2021-11-04</td>\n",
       "      <td>318649852</td>\n",
       "      <td>Luxury Suites</td>\n",
       "      <td>2019-12-18</td>\n",
       "      <td>within an hour</td>\n",
       "      <td>100.0</td>\n",
       "      <td>100.0</td>\n",
       "      <td>f</td>\n",
       "      <td>Nieuwmarkt en Lastage</td>\n",
       "      <td>8.0</td>\n",
       "      <td>8.0</td>\n",
       "      <td>2</td>\n",
       "      <td>t</td>\n",
       "      <td>t</td>\n",
       "      <td>Centrum-Oost</td>\n",
       "      <td>52.370360</td>\n",
       "      <td>4.905740</td>\n",
       "      <td>Room in boutique hotel</td>\n",
       "      <td>Hotel room</td>\n",
       "      <td>0</td>\n",
       "      <td>1.0</td>\n",
       "      <td>2.0</td>\n",
       "      <td>2.0</td>\n",
       "      <td>25</td>\n",
       "      <td>0.0</td>\n",
       "      <td>1</td>\n",
       "      <td>365</td>\n",
       "      <td>1.0</td>\n",
       "      <td>1.0</td>\n",
       "      <td>1125.0</td>\n",
       "      <td>1125.0</td>\n",
       "      <td>1.0</td>\n",
       "      <td>1125.0</td>\n",
       "      <td>t</td>\n",
       "      <td>0</td>\n",
       "      <td>0</td>\n",
       "      <td>0</td>\n",
       "      <td>0</td>\n",
       "      <td>0</td>\n",
       "      <td>0</td>\n",
       "      <td>0</td>\n",
       "      <td>NaT</td>\n",
       "      <td>NaT</td>\n",
       "      <td>NaN</td>\n",
       "      <td>NaN</td>\n",
       "      <td>NaN</td>\n",
       "      <td>NaN</td>\n",
       "      <td>NaN</td>\n",
       "      <td>NaN</td>\n",
       "      <td>NaN</td>\n",
       "      <td>f</td>\n",
       "      <td>3</td>\n",
       "      <td>0</td>\n",
       "      <td>2</td>\n",
       "      <td>0</td>\n",
       "      <td>NaN</td>\n",
       "      <td>Centre District</td>\n",
       "    </tr>\n",
       "    <tr>\n",
       "      <th>4591</th>\n",
       "      <td>45478851</td>\n",
       "      <td>2021-11-04</td>\n",
       "      <td>367980459</td>\n",
       "      <td>The Delphi</td>\n",
       "      <td>2020-09-17</td>\n",
       "      <td>NaN</td>\n",
       "      <td>NaN</td>\n",
       "      <td>NaN</td>\n",
       "      <td>f</td>\n",
       "      <td>NaN</td>\n",
       "      <td>0.0</td>\n",
       "      <td>0.0</td>\n",
       "      <td>2</td>\n",
       "      <td>t</td>\n",
       "      <td>t</td>\n",
       "      <td>Zuid</td>\n",
       "      <td>52.350460</td>\n",
       "      <td>4.876840</td>\n",
       "      <td>Room in boutique hotel</td>\n",
       "      <td>Hotel room</td>\n",
       "      <td>0</td>\n",
       "      <td>1.0</td>\n",
       "      <td>2.0</td>\n",
       "      <td>2.0</td>\n",
       "      <td>18</td>\n",
       "      <td>0.0</td>\n",
       "      <td>1</td>\n",
       "      <td>365</td>\n",
       "      <td>NaN</td>\n",
       "      <td>NaN</td>\n",
       "      <td>NaN</td>\n",
       "      <td>NaN</td>\n",
       "      <td>NaN</td>\n",
       "      <td>NaN</td>\n",
       "      <td>t</td>\n",
       "      <td>0</td>\n",
       "      <td>0</td>\n",
       "      <td>0</td>\n",
       "      <td>0</td>\n",
       "      <td>0</td>\n",
       "      <td>0</td>\n",
       "      <td>0</td>\n",
       "      <td>NaT</td>\n",
       "      <td>NaT</td>\n",
       "      <td>NaN</td>\n",
       "      <td>NaN</td>\n",
       "      <td>NaN</td>\n",
       "      <td>NaN</td>\n",
       "      <td>NaN</td>\n",
       "      <td>NaN</td>\n",
       "      <td>NaN</td>\n",
       "      <td>f</td>\n",
       "      <td>1</td>\n",
       "      <td>0</td>\n",
       "      <td>0</td>\n",
       "      <td>0</td>\n",
       "      <td>NaN</td>\n",
       "      <td>Zuid District</td>\n",
       "    </tr>\n",
       "    <tr>\n",
       "      <th>4716</th>\n",
       "      <td>47110768</td>\n",
       "      <td>2021-11-04</td>\n",
       "      <td>380676508</td>\n",
       "      <td>Sircle</td>\n",
       "      <td>2020-12-18</td>\n",
       "      <td>NaN</td>\n",
       "      <td>NaN</td>\n",
       "      <td>100.0</td>\n",
       "      <td>f</td>\n",
       "      <td>NaN</td>\n",
       "      <td>5.0</td>\n",
       "      <td>5.0</td>\n",
       "      <td>2</td>\n",
       "      <td>t</td>\n",
       "      <td>t</td>\n",
       "      <td>De Pijp - Rivierenbuurt</td>\n",
       "      <td>52.355585</td>\n",
       "      <td>4.887072</td>\n",
       "      <td>Room in boutique hotel</td>\n",
       "      <td>Hotel room</td>\n",
       "      <td>0</td>\n",
       "      <td>1.0</td>\n",
       "      <td>2.0</td>\n",
       "      <td>2.0</td>\n",
       "      <td>36</td>\n",
       "      <td>0.0</td>\n",
       "      <td>1</td>\n",
       "      <td>365</td>\n",
       "      <td>1.0</td>\n",
       "      <td>1.0</td>\n",
       "      <td>1125.0</td>\n",
       "      <td>1125.0</td>\n",
       "      <td>1.0</td>\n",
       "      <td>1125.0</td>\n",
       "      <td>f</td>\n",
       "      <td>0</td>\n",
       "      <td>0</td>\n",
       "      <td>0</td>\n",
       "      <td>0</td>\n",
       "      <td>1</td>\n",
       "      <td>1</td>\n",
       "      <td>0</td>\n",
       "      <td>2021-01-17</td>\n",
       "      <td>2021-01-17</td>\n",
       "      <td>5.00</td>\n",
       "      <td>4.00</td>\n",
       "      <td>5.00</td>\n",
       "      <td>5.00</td>\n",
       "      <td>5.00</td>\n",
       "      <td>5.00</td>\n",
       "      <td>5.00</td>\n",
       "      <td>f</td>\n",
       "      <td>1</td>\n",
       "      <td>0</td>\n",
       "      <td>0</td>\n",
       "      <td>0</td>\n",
       "      <td>0.10</td>\n",
       "      <td>Zuid District</td>\n",
       "    </tr>\n",
       "  </tbody>\n",
       "</table>\n",
       "</div>"
      ],
      "text/plain": [
       "            id last_scraped    host_id        host_name host_since  \\\n",
       "4306  42430386   2021-11-04  308694260  Dutchies Hostel 2019-11-11   \n",
       "4308  42431273   2021-11-04  309119467       Hotel Abba 2019-11-13   \n",
       "4309  42431450   2021-11-04  311321908    Melrose Hotel 2019-11-22   \n",
       "4366  43095925   2021-11-04  311323273    Acostar Hotel 2019-11-22   \n",
       "4370  43148414   2021-11-04  318649852    Luxury Suites 2019-12-18   \n",
       "4591  45478851   2021-11-04  367980459       The Delphi 2020-09-17   \n",
       "4716  47110768   2021-11-04  380676508           Sircle 2020-12-18   \n",
       "\n",
       "     host_response_time  host_response_rate  host_acceptance_rate  \\\n",
       "4306     within an hour               100.0                 100.0   \n",
       "4308     within an hour               100.0                 100.0   \n",
       "4309     within an hour               100.0                 100.0   \n",
       "4366     within an hour               100.0                 100.0   \n",
       "4370     within an hour               100.0                 100.0   \n",
       "4591                NaN                 NaN                   NaN   \n",
       "4716                NaN                 NaN                 100.0   \n",
       "\n",
       "     host_is_superhost     host_neighbourhood  host_listings_count  \\\n",
       "4306                 f          Bos en Lommer                  2.0   \n",
       "4308                 f               Oud-West                  6.0   \n",
       "4309                 f                    NaN                  9.0   \n",
       "4366                 f         Grachtengordel                  0.0   \n",
       "4370                 f  Nieuwmarkt en Lastage                  8.0   \n",
       "4591                 f                    NaN                  0.0   \n",
       "4716                 f                    NaN                  5.0   \n",
       "\n",
       "      host_total_listings_count  host_verifications host_has_profile_pic  \\\n",
       "4306                        2.0                   2                    t   \n",
       "4308                        6.0                   2                    t   \n",
       "4309                        9.0                   5                    t   \n",
       "4366                        0.0                   1                    f   \n",
       "4370                        8.0                   2                    t   \n",
       "4591                        0.0                   2                    t   \n",
       "4716                        5.0                   2                    t   \n",
       "\n",
       "     host_identity_verified   neighbourhood_cleansed   latitude  longitude  \\\n",
       "4306                      t            Bos en Lommer  52.383220   4.846250   \n",
       "4308                      t   De Baarsjes - Oud-West  52.362790   4.874580   \n",
       "4309                      t             Centrum-West  52.369640   4.880040   \n",
       "4366                      t             Centrum-Oost  52.365310   4.885780   \n",
       "4370                      t             Centrum-Oost  52.370360   4.905740   \n",
       "4591                      t                     Zuid  52.350460   4.876840   \n",
       "4716                      t  De Pijp - Rivierenbuurt  52.355585   4.887072   \n",
       "\n",
       "               property_type   room_type  accommodates  bathrooms  bedrooms  \\\n",
       "4306          Room in hostel  Hotel room            10        1.0       2.0   \n",
       "4308           Room in hotel  Hotel room             3        1.0       2.0   \n",
       "4309           Room in hotel  Hotel room             4        1.0       2.0   \n",
       "4366           Room in hotel  Hotel room             0        1.0       2.0   \n",
       "4370  Room in boutique hotel  Hotel room             0        1.0       2.0   \n",
       "4591  Room in boutique hotel  Hotel room             0        1.0       2.0   \n",
       "4716  Room in boutique hotel  Hotel room             0        1.0       2.0   \n",
       "\n",
       "      beds  amenities  price  minimum_nights  maximum_nights  \\\n",
       "4306   2.0         30    0.0               1             365   \n",
       "4308   2.0         15    0.0               1             365   \n",
       "4309   2.0         21    0.0               1             365   \n",
       "4366   2.0         20    0.0               1             365   \n",
       "4370   2.0         25    0.0               1             365   \n",
       "4591   2.0         18    0.0               1             365   \n",
       "4716   2.0         36    0.0               1             365   \n",
       "\n",
       "      minimum_minimum_nights  maximum_minimum_nights  minimum_maximum_nights  \\\n",
       "4306                     1.0                     1.0                   365.0   \n",
       "4308                     1.0                     1.0                  1125.0   \n",
       "4309                     1.0                     1.0                   365.0   \n",
       "4366                     1.0                     1.0                  1125.0   \n",
       "4370                     1.0                     1.0                  1125.0   \n",
       "4591                     NaN                     NaN                     NaN   \n",
       "4716                     1.0                     1.0                  1125.0   \n",
       "\n",
       "      maximum_maximum_nights  minimum_nights_avg_ntm  maximum_nights_avg_ntm  \\\n",
       "4306                   365.0                     1.0                   365.0   \n",
       "4308                  1125.0                     1.0                  1125.0   \n",
       "4309                   365.0                     1.0                   365.0   \n",
       "4366                  1125.0                     1.0                  1125.0   \n",
       "4370                  1125.0                     1.0                  1125.0   \n",
       "4591                     NaN                     NaN                     NaN   \n",
       "4716                  1125.0                     1.0                  1125.0   \n",
       "\n",
       "     has_availability  availability_30  availability_60  availability_90  \\\n",
       "4306                t                0                0                0   \n",
       "4308                t                0                0                0   \n",
       "4309                t                0                0                0   \n",
       "4366                t                0                0                0   \n",
       "4370                t                0                0                0   \n",
       "4591                t                0                0                0   \n",
       "4716                f                0                0                0   \n",
       "\n",
       "      availability_365  number_of_reviews  number_of_reviews_ltm  \\\n",
       "4306                 0                108                    108   \n",
       "4308                 0                  0                      0   \n",
       "4309                 0                  6                      6   \n",
       "4366                 0                  0                      0   \n",
       "4370                 0                  0                      0   \n",
       "4591                 0                  0                      0   \n",
       "4716                 0                  1                      1   \n",
       "\n",
       "      number_of_reviews_l30d first_review last_review  review_scores_rating  \\\n",
       "4306                      12   2020-12-27  2021-10-26                  4.30   \n",
       "4308                       0          NaT         NaT                   NaN   \n",
       "4309                       1   2020-11-16  2021-10-22                  4.17   \n",
       "4366                       0          NaT         NaT                   NaN   \n",
       "4370                       0          NaT         NaT                   NaN   \n",
       "4591                       0          NaT         NaT                   NaN   \n",
       "4716                       0   2021-01-17  2021-01-17                  5.00   \n",
       "\n",
       "      review_scores_accuracy  review_scores_cleanliness  \\\n",
       "4306                    4.43                       4.24   \n",
       "4308                     NaN                        NaN   \n",
       "4309                    4.17                       4.33   \n",
       "4366                     NaN                        NaN   \n",
       "4370                     NaN                        NaN   \n",
       "4591                     NaN                        NaN   \n",
       "4716                    4.00                       5.00   \n",
       "\n",
       "      review_scores_checkin  review_scores_communication  \\\n",
       "4306                   4.66                         4.56   \n",
       "4308                    NaN                          NaN   \n",
       "4309                   4.67                         4.33   \n",
       "4366                    NaN                          NaN   \n",
       "4370                    NaN                          NaN   \n",
       "4591                    NaN                          NaN   \n",
       "4716                   5.00                         5.00   \n",
       "\n",
       "      review_scores_location  review_scores_value instant_bookable  \\\n",
       "4306                    4.07                 4.38                f   \n",
       "4308                     NaN                  NaN                f   \n",
       "4309                    4.83                 3.83                f   \n",
       "4366                     NaN                  NaN                f   \n",
       "4370                     NaN                  NaN                f   \n",
       "4591                     NaN                  NaN                f   \n",
       "4716                    5.00                 5.00                f   \n",
       "\n",
       "      calculated_host_listings_count  \\\n",
       "4306                               1   \n",
       "4308                               1   \n",
       "4309                               4   \n",
       "4366                               1   \n",
       "4370                               3   \n",
       "4591                               1   \n",
       "4716                               1   \n",
       "\n",
       "      calculated_host_listings_count_entire_homes  \\\n",
       "4306                                            0   \n",
       "4308                                            0   \n",
       "4309                                            0   \n",
       "4366                                            0   \n",
       "4370                                            0   \n",
       "4591                                            0   \n",
       "4716                                            0   \n",
       "\n",
       "      calculated_host_listings_count_private_rooms  \\\n",
       "4306                                             0   \n",
       "4308                                             0   \n",
       "4309                                             3   \n",
       "4366                                             0   \n",
       "4370                                             2   \n",
       "4591                                             0   \n",
       "4716                                             0   \n",
       "\n",
       "      calculated_host_listings_count_shared_rooms  reviews_per_month  \\\n",
       "4306                                            0              10.35   \n",
       "4308                                            0                NaN   \n",
       "4309                                            0               0.51   \n",
       "4366                                            0                NaN   \n",
       "4370                                            0                NaN   \n",
       "4591                                            0                NaN   \n",
       "4716                                            0               0.10   \n",
       "\n",
       "     neighbourhood_district  \n",
       "4306          West District  \n",
       "4308          West District  \n",
       "4309        Centre District  \n",
       "4366        Centre District  \n",
       "4370        Centre District  \n",
       "4591          Zuid District  \n",
       "4716          Zuid District  "
      ]
     },
     "execution_count": 15,
     "metadata": {},
     "output_type": "execute_result"
    }
   ],
   "source": [
    "listings[listings['price'] == 0]"
   ]
  },
  {
   "cell_type": "markdown",
   "metadata": {},
   "source": [
    "Due to these Datasets not having a lot of representation (7 entries out of 5402) we can delete them without having a loss of representation and have a better look at the price boxplot again. Further some of the data entries are very sparse populated and not useful for any other furter usage."
   ]
  },
  {
   "cell_type": "code",
   "execution_count": 16,
   "metadata": {},
   "outputs": [],
   "source": [
    "listings = listings.drop(listings[listings['price'] == 0].index)"
   ]
  },
  {
   "cell_type": "code",
   "execution_count": 17,
   "metadata": {},
   "outputs": [
    {
     "data": {
      "text/plain": [
       "<AxesSubplot:xlabel='price'>"
      ]
     },
     "execution_count": 17,
     "metadata": {},
     "output_type": "execute_result"
    },
    {
     "data": {
      "image/png": "[encoded data removed]",
      "text/plain": [
       "<Figure size 1080x216 with 1 Axes>"
      ]
     },
     "metadata": {},
     "output_type": "display_data"
    }
   ],
   "source": [
    "sns.boxplot(\n",
    "    listings['price'],\n",
    "    showfliers=False,\n",
    "    showmeans=True,\n",
    "    meanprops={\n",
    "        \"marker\":\"o\",\n",
    "        \"markerfacecolor\":\"white\", \n",
    "        \"markeredgecolor\":\"black\",\n",
    "        \"markersize\":\"6\"\n",
    "    }\n",
    ")"
   ]
  },
  {
   "cell_type": "code",
   "execution_count": 18,
   "metadata": {},
   "outputs": [
    {
     "name": "stdout",
     "output_type": "stream",
     "text": [
      "Minimum: 9.0\n",
      "Quartile 1: 100.0\n",
      "Quartile 2/Median: 140.0\n",
      "Quartile 3: 200.0\n",
      "Maximum: 6477.0\n",
      "Interquartile Range: 100.0\n"
     ]
    }
   ],
   "source": [
    "_min = listings['price'].min()\n",
    "q1 = listings['price'].quantile(0.25)\n",
    "median = listings['price'].quantile(0.5)\n",
    "q3 = listings['price'].quantile(0.75)\n",
    "_max = listings['price'].max()\n",
    "\n",
    "print(f\"Minimum: {_min}\")\n",
    "print(f\"Quartile 1: {q1}\")\n",
    "print(f\"Quartile 2/Median: {median}\")\n",
    "print(f\"Quartile 3: {q3}\")\n",
    "print(f\"Maximum: {_max}\")\n",
    "print(f\"Interquartile Range: {q3 - q1}\")"
   ]
  },
  {
   "cell_type": "markdown",
   "metadata": {},
   "source": [
    "Now we have a realistic minimum of 9 (Euros). My guess for the 0 Euro price is that these rooms were from Hotels (as one can guess from the feature room_type) or the name of the listing. They probably wanted to promote the hotel rooms somehow and did not set a price for the listing to lure the user onto their website instead of booking the room via AirBnb. As also already described, the data in some of these listings is pretty sparse!"
   ]
  },
  {
   "cell_type": "markdown",
   "metadata": {},
   "source": [
    "#### Distribution and Summary Statistics of price feature"
   ]
  },
  {
   "cell_type": "code",
   "execution_count": 19,
   "metadata": {},
   "outputs": [],
   "source": [
    "# figure setup for following figures\n",
    "sns.set(rc={'figure.figsize':standard_fig_size})"
   ]
  },
  {
   "cell_type": "markdown",
   "metadata": {},
   "source": [
    "Now a look into the distribution of the price feature."
   ]
  },
  {
   "cell_type": "code",
   "execution_count": 20,
   "metadata": {},
   "outputs": [],
   "source": [
    "# helper\n",
    "prices = listings.copy()['price']"
   ]
  },
  {
   "cell_type": "markdown",
   "metadata": {},
   "source": [
    "Calculating Skewness, the measure of asymmetry (skew) of a normal or probability distribution, and Kurtosis, the shape, height and steepness of a normal or probability distribution."
   ]
  },
  {
   "cell_type": "code",
   "execution_count": 21,
   "metadata": {},
   "outputs": [
    {
     "name": "stdout",
     "output_type": "stream",
     "text": [
      "Skewness: 22.11819735315031\n",
      "Kurtosis: 816.7769977189903\n"
     ]
    }
   ],
   "source": [
    "print(f\"Skewness: {prices.skew()}\")\n",
    "print(f\"Kurtosis: {prices.kurtosis()}\")"
   ]
  },
  {
   "cell_type": "markdown",
   "metadata": {},
   "source": [
    "From the skewness value of $22.12$ we can see that the data is skewed (really really) heavily to the left and from the kurotisis value of $816.78$ one can conclude that the \n",
    "peak is very high and steep. Following these observations one can also conclude that the data is most likely (kind of) skewed normally distributed.\n",
    "\n",
    "Plotting the probability distribution of the *price*."
   ]
  },
  {
   "cell_type": "code",
   "execution_count": 22,
   "metadata": {},
   "outputs": [
    {
     "data": {
      "text/plain": [
       "<seaborn.axisgrid.FacetGrid at 0x7f362abaa9b0>"
      ]
     },
     "execution_count": 22,
     "metadata": {},
     "output_type": "execute_result"
    },
    {
     "data": {
      "image/png": "[encoded data removed]",
      "text/plain": [
       "<Figure size 1440x360 with 1 Axes>"
      ]
     },
     "metadata": {},
     "output_type": "display_data"
    }
   ],
   "source": [
    "sns.displot(\n",
    "    prices, \n",
    "    kind='kde',     \n",
    "    height=5,\n",
    "    aspect=4\n",
    ")"
   ]
  },
  {
   "cell_type": "markdown",
   "metadata": {},
   "source": [
    "The fact that the price is a (kinda wobbly) skewed normally distribution is also backed by the plot of the data."
   ]
  },
  {
   "cell_type": "markdown",
   "metadata": {},
   "source": [
    "Calculating the mean, variance, median and mode so we can see how the data is effected, rather poluted, by outliers."
   ]
  },
  {
   "cell_type": "code",
   "execution_count": 23,
   "metadata": {},
   "outputs": [
    {
     "name": "stdout",
     "output_type": "stream",
     "text": [
      "Mean: 169.22205746061167\n",
      "Variance: 26846.766031731964\n",
      "Median: 140.0\n",
      "Mode: 150.0 (Value), 225 /  4.17% (Occurences)\n"
     ]
    }
   ],
   "source": [
    "print(f\"Mean: {prices.mean()}\")\n",
    "print(f\"Variance: {prices.var()}\")\n",
    "print(f\"Median: {prices.median()}\")\n",
    "print(f\"Mode: {prices.mode()[0]} (Value), {len(prices[prices == prices.mode()[0]])} /  {len(prices[prices == prices.mode()[0]])/prices.count()*100:.2f}% (Occurences)\")"
   ]
  },
  {
   "cell_type": "markdown",
   "metadata": {},
   "source": [
    "Looking at the mean one can see a pretty representative value, altough it is biased by the rather big values (what one can kind of confirm by the noticeably smaller median). The variance suffers a little bit more from this, which also leads to the quick assumption that the data is pretty wide spread, but it is not what we can \n",
    "see from the distribution plot above, where the density peaks around the mean/median and therefore very low in the spectrum, which leads us to the conclusion that \n",
    "the data is indeed not very wide spread, despite the variance suggesting so, but rather concentrated at around 50 to 300. Looking at the mode we see that we have a value of $150$ and an occurence count of $225$ / $4.17\\%$ which is rather a lot if one considers the price as an arbitrarly chooseable number in $5395$ data entries."
   ]
  },
  {
   "cell_type": "code",
   "execution_count": 24,
   "metadata": {},
   "outputs": [
    {
     "data": {
      "text/plain": [
       "[]"
      ]
     },
     "execution_count": 24,
     "metadata": {},
     "output_type": "execute_result"
    },
    {
     "data": {
      "image/png": "[encoded data removed]",
      "text/plain": [
       "<Figure size 1512x432 with 1 Axes>"
      ]
     },
     "metadata": {},
     "output_type": "display_data"
    }
   ],
   "source": [
    "graph = sns.histplot(prices, bins=100)\n",
    "_ = graph.set_xticks([300*i for i in range(100)])\n",
    "graph.plot()"
   ]
  },
  {
   "cell_type": "markdown",
   "metadata": {},
   "source": [
    "This plot confirms the belief that the data is in fact mostly centered around 50 to 300."
   ]
  },
  {
   "cell_type": "markdown",
   "metadata": {},
   "source": [
    "#### Distribution and Summary Statistics of price feature w/o outliers"
   ]
  },
  {
   "cell_type": "markdown",
   "metadata": {},
   "source": [
    "Now a look into the distribution of the price feature but only considering prices < 1000 to account for the majority, the really big, of outlier."
   ]
  },
  {
   "cell_type": "code",
   "execution_count": 25,
   "metadata": {},
   "outputs": [],
   "source": [
    "prices = listings.copy()[listings['price'] < 1000]['price']"
   ]
  },
  {
   "cell_type": "markdown",
   "metadata": {},
   "source": [
    "Again some summary statistics."
   ]
  },
  {
   "cell_type": "code",
   "execution_count": 26,
   "metadata": {
    "tags": []
   },
   "outputs": [
    {
     "name": "stdout",
     "output_type": "stream",
     "text": [
      "Mean: 165.6497122702803\n",
      "Variance: 10728.90976736985\n",
      "Median: 140.0\n",
      "Mode: 150.0 (Value), 225 / 4.18% (Occurences)\n"
     ]
    }
   ],
   "source": [
    "print(f\"Mean: {prices.mean()}\")\n",
    "print(f\"Variance: {prices.var()}\")\n",
    "print(f\"Median: {prices.median()}\")\n",
    "print(f\"Mode: {prices.mode()[0]} (Value), {len(prices[prices == prices.mode()[0]])} / {len(prices[prices == prices.mode()[0]])/prices.count()*100:.2f}% (Occurences)\")"
   ]
  },
  {
   "cell_type": "markdown",
   "metadata": {
    "tags": []
   },
   "source": [
    "The mean still is far away from the median, which tells us that there are still (much bigger) outliers left in the data, this spread is also backed by the still high variance (altough it dropped by half). Obviously the data is still concentrated around 50 to 300. Median and Mode stayed unchanged."
   ]
  },
  {
   "cell_type": "code",
   "execution_count": 27,
   "metadata": {},
   "outputs": [
    {
     "data": {
      "text/plain": [
       "<AxesSubplot:xlabel='price'>"
      ]
     },
     "execution_count": 27,
     "metadata": {},
     "output_type": "execute_result"
    },
    {
     "data": {
      "image/png": "[encoded data removed]",
      "text/plain": [
       "<Figure size 1080x216 with 1 Axes>"
      ]
     },
     "metadata": {},
     "output_type": "display_data"
    }
   ],
   "source": [
    "fig, ax = plt.subplots(figsize=boxplot_fig_size)\n",
    "\n",
    "sns.boxplot(\n",
    "    prices,\n",
    "    showfliers=False,\n",
    "    showmeans=True,\n",
    "    meanprops={\n",
    "        \"marker\":\"o\",\n",
    "        \"markerfacecolor\":\"white\", \n",
    "        \"markeredgecolor\":\"black\",\n",
    "        \"markersize\":\"6\"\n",
    "    }\n",
    ")"
   ]
  },
  {
   "cell_type": "markdown",
   "metadata": {},
   "source": [
    "The boxplot visually confirmes that the mean is still pulled to the right, but not as heavy as before."
   ]
  },
  {
   "cell_type": "markdown",
   "metadata": {},
   "source": [
    "Calculating Skewness and Kurtosis for Distribution."
   ]
  },
  {
   "cell_type": "code",
   "execution_count": 28,
   "metadata": {},
   "outputs": [
    {
     "name": "stdout",
     "output_type": "stream",
     "text": [
      "Skewness: 2.5069575758616547\n",
      "Kurtosis: 10.222914563863492\n"
     ]
    }
   ],
   "source": [
    "print(f\"Skewness: {prices.skew()}\")\n",
    "print(f\"Kurtosis: {prices.kurtosis()}\")"
   ]
  },
  {
   "cell_type": "markdown",
   "metadata": {},
   "source": [
    "One observes that all of a sudden the skewness and kurtosis drop significantly to a skewness value of $2.51$ and a kurtosis value of $10.22$. The data is still highly skewed to the right (value above +1) and the peak (kurtosis) is still high and steep, but both values are nearly not as extreme as before. Still one can conclude that the data is kinda skewed normally distributed, but now much nicer for sure."
   ]
  },
  {
   "cell_type": "code",
   "execution_count": 29,
   "metadata": {},
   "outputs": [
    {
     "data": {
      "text/plain": [
       "<seaborn.axisgrid.FacetGrid at 0x7f362a8c0400>"
      ]
     },
     "execution_count": 29,
     "metadata": {},
     "output_type": "execute_result"
    },
    {
     "data": {
      "image/png": "[encoded data removed]",
      "text/plain": [
       "<Figure size 1440x360 with 1 Axes>"
      ]
     },
     "metadata": {},
     "output_type": "display_data"
    }
   ],
   "source": [
    "sns.displot(\n",
    "    prices, \n",
    "    kind='kde',     \n",
    "    height=5,\n",
    "    aspect=4\n",
    ")"
   ]
  },
  {
   "cell_type": "markdown",
   "metadata": {},
   "source": [
    "The distribution plot still shows that the *price* is a (much cleaner and not that extremely) skewed (kinda wobbly) normal distribution."
   ]
  },
  {
   "cell_type": "markdown",
   "metadata": {},
   "source": [
    "Calculating the mean, variance and median of the cleansed prices."
   ]
  },
  {
   "cell_type": "code",
   "execution_count": 30,
   "metadata": {},
   "outputs": [
    {
     "data": {
      "text/plain": [
       "[]"
      ]
     },
     "execution_count": 30,
     "metadata": {},
     "output_type": "execute_result"
    },
    {
     "data": {
      "image/png": "[encoded data removed]",
      "text/plain": [
       "<Figure size 1512x432 with 1 Axes>"
      ]
     },
     "metadata": {},
     "output_type": "display_data"
    }
   ],
   "source": [
    "graph = sns.histplot(prices, bins=100)\n",
    "_ = graph.set_xticks([300*i for i in range(100)])\n",
    "graph.plot()"
   ]
  },
  {
   "cell_type": "markdown",
   "metadata": {},
   "source": [
    "This plot confirms the belief that the data is in fact mostly centered around 50 to 300."
   ]
  },
  {
   "cell_type": "markdown",
   "metadata": {},
   "source": [
    "#### Interactive Distribution and Boxplot of price feature (upper bound and boxplot outliers)"
   ]
  },
  {
   "cell_type": "markdown",
   "metadata": {},
   "source": [
    "Here we can play around with the upper bound of the price feature to plot a distribution plot and some summary statistics."
   ]
  },
  {
   "cell_type": "code",
   "execution_count": 31,
   "metadata": {},
   "outputs": [
    {
     "data": {
      "application/vnd.jupyter.widget-view+json": {
       "model_id": "67b8662c434d4c48ba1b18c8362d8d0e",
       "version_major": 2,
       "version_minor": 0
      },
      "text/plain": [
       "interactive(children=(IntSlider(value=0, description='Price upper bound: ', max=6487, step=10), Checkbox(value…"
      ]
     },
     "metadata": {},
     "output_type": "display_data"
    }
   ],
   "source": [
    "from ipywidgets import interact, interactive, fixed, interact_manual\n",
    "import ipywidgets as widgets\n",
    "from ipywidgets import IntSlider\n",
    "\n",
    "@interact(\n",
    "    cutoff=IntSlider(\n",
    "        min=0, \n",
    "        max=listings['price'].max() + 10, \n",
    "        step=10,\n",
    "        description=\"Price upper bound: \",\n",
    "        continous_update=True\n",
    "    ),\n",
    "    outliers=widgets.Checkbox(\n",
    "        value=True,\n",
    "        description='Show outliers in Boxplot',\n",
    "        disabled=False,\n",
    "        indent=False\n",
    "    )\n",
    ")\n",
    "def _(cutoff, outliers):\n",
    "    prices = listings[listings['price'] < cutoff]['price']\n",
    "        \n",
    "    if prices.count() != 0:\n",
    "        occurences = prices[prices == prices.mode()[0]].count()\n",
    "        mode = prices.mode()[0]\n",
    "    else:\n",
    "        occurences = 'nan'\n",
    "        mode = 'nan'\n",
    "    \n",
    "    print('-----------------------')\n",
    "    print(f\"| Mean: {prices.mean():.3f}\")\n",
    "    print(f\"| Variance: {prices.var():.3f}\")\n",
    "    print(f\"| Median: {prices.median():.3f}\")\n",
    "    print(f\"| Mode: {mode} (Value), {occurences} (Occurences)\")    \n",
    "    print('-----------------------')\n",
    "    print(f\"| Skewness: {prices.skew():.3f}\")\n",
    "    print(f\"| Kurtosis: {prices.kurtosis():.3f}\")\n",
    "    print('-----------------------')\n",
    "    \n",
    "    sns.displot(\n",
    "        prices, \n",
    "        kind='kde',     \n",
    "        height=5,\n",
    "        aspect=4\n",
    "    )\n",
    "    plt.show()\n",
    "    \n",
    "    sns.boxplot(\n",
    "        prices,\n",
    "        showfliers=outliers,\n",
    "        showmeans=True,\n",
    "        meanprops={\n",
    "        \"marker\":\"o\",\n",
    "        \"markerfacecolor\":\"white\", \n",
    "        \"markeredgecolor\":\"black\",\n",
    "        \"markersize\":\"6\"\n",
    "        }\n",
    "    )\n",
    "    plt.show()"
   ]
  },
  {
   "cell_type": "markdown",
   "metadata": {},
   "source": [
    "### Bathrooms/Bedrooms/Beds Features"
   ]
  },
  {
   "cell_type": "markdown",
   "metadata": {},
   "source": [
    "All three of these features (bathrooms, bedrooms, beds) are basically Categorical/Discrete features."
   ]
  },
  {
   "cell_type": "code",
   "execution_count": 32,
   "metadata": {},
   "outputs": [],
   "source": [
    "# figure setup for following figures\n",
    "sns.set(rc={'figure.figsize':countplot_fig_size})"
   ]
  },
  {
   "cell_type": "markdown",
   "metadata": {},
   "source": [
    "The following are some helper functions to make everything nicer."
   ]
  },
  {
   "cell_type": "code",
   "execution_count": 33,
   "metadata": {},
   "outputs": [],
   "source": [
    "\"\"\"\n",
    "    Plotting a countplot for given feature. \n",
    "      - Ascending has to be set to False in case of a string feature\n",
    "\"\"\"\n",
    "def countplot(keyword: str, ascending=True):\n",
    "\n",
    "    graph = sns.countplot(\n",
    "        x=keyword,\n",
    "        data=listings\n",
    "    )\n",
    "\n",
    "    counts = listings[keyword].value_counts().sort_index(ascending=ascending).to_numpy()\n",
    "    \n",
    "    for i, p in enumerate(graph.patches):\n",
    "        height = p.get_height()\n",
    "        graph.text(p.get_x() + p.get_width() / 2., height + 0.1, f\"{(counts[i]/listings[keyword].count())*100:.1f}%\", ha=\"center\")\n",
    "        \n",
    "\"\"\"\n",
    "    Plotting a countplot for given (multiple) features in one plot. \n",
    "\"\"\"\n",
    "def countplot_multiple(keywords: [str], ascending=True):\n",
    "    graph = sns.countplot(\n",
    "        x='value',\n",
    "        hue='variable',\n",
    "        data=pd.melt(listings[keywords])\n",
    "    )\n",
    "    graph.legend(loc='upper right')"
   ]
  },
  {
   "cell_type": "markdown",
   "metadata": {},
   "source": [
    "Next are some countplots inorder to get a grip of the distribution of the categorical/discrete features of bathrooms, bedrooms and beds using the occurence counts of the individual categorical/discrete values.\n",
    "\n",
    "Due to the fact that bed and bedrooms share the same scale one can draw them togehter in a single countplot."
   ]
  },
  {
   "cell_type": "code",
   "execution_count": 34,
   "metadata": {},
   "outputs": [
    {
     "data": {
      "image/png": "[encoded data removed]",
      "text/plain": [
       "<Figure size 1080x432 with 1 Axes>"
      ]
     },
     "metadata": {},
     "output_type": "display_data"
    }
   ],
   "source": [
    "countplot_multiple(['beds', 'bedrooms'])"
   ]
  },
  {
   "cell_type": "markdown",
   "metadata": {},
   "source": [
    "This plot does not hold that much statistical information, rather information about their correlation. To briefly sum it up: They (obviously) correlate with each other, altough there are a lot more single bedroom apartments then apartmnts with a single bed, i'll leave it at that, the point of this section is not to find correlations, thus the next plots are also countplots with a percentage."
   ]
  },
  {
   "cell_type": "markdown",
   "metadata": {},
   "source": [
    "#### Countplot of *bathrooms*."
   ]
  },
  {
   "cell_type": "code",
   "execution_count": 35,
   "metadata": {},
   "outputs": [
    {
     "data": {
      "image/png": "[encoded data removed]",
      "text/plain": [
       "<Figure size 1080x432 with 1 Axes>"
      ]
     },
     "metadata": {},
     "output_type": "display_data"
    }
   ],
   "source": [
    "countplot('bathrooms')"
   ]
  },
  {
   "cell_type": "markdown",
   "metadata": {},
   "source": [
    "It was kinda predictable that the most listings ($60.9\\%$) would be single bedrooms, because even in a three bedroom apartment it is ethically reasonable to have a single bathroom. What is interesting is that $0.6\\%$ of the listings have 0 bathrooms, this could be just 0 values, so the host didn't bother with putting the info in or there is some kind of shared bathroom stuff going on, which is rather unlikely. Besides that the amount of listings (except for 0 bathrooms) drops off exponentially with encreasing steps/bathrooms."
   ]
  },
  {
   "cell_type": "markdown",
   "metadata": {},
   "source": [
    "#### Countplot of *beds*."
   ]
  },
  {
   "cell_type": "code",
   "execution_count": 36,
   "metadata": {},
   "outputs": [
    {
     "data": {
      "image/png": "[encoded data removed]",
      "text/plain": [
       "<Figure size 1080x432 with 1 Axes>"
      ]
     },
     "metadata": {},
     "output_type": "display_data"
    }
   ],
   "source": [
    "countplot('beds')"
   ]
  },
  {
   "cell_type": "markdown",
   "metadata": {},
   "source": [
    "Again nearly about half ($48.6\\%$) of the listings are single bed apartments, after that again the count/percentage is dropping off exponentially. Remark: there are apartemnts with e.g 24 or 33 beds, but due to rounding and displaying the plot nicely the percentage is $0.0\\%$ and obviously the bar is not visible."
   ]
  },
  {
   "cell_type": "markdown",
   "metadata": {},
   "source": [
    "#### Countplot of *beds*."
   ]
  },
  {
   "cell_type": "code",
   "execution_count": 37,
   "metadata": {},
   "outputs": [
    {
     "data": {
      "image/png": "[encoded data removed]",
      "text/plain": [
       "<Figure size 1080x432 with 1 Axes>"
      ]
     },
     "metadata": {},
     "output_type": "display_data"
    }
   ],
   "source": [
    "countplot('bedrooms')"
   ]
  },
  {
   "cell_type": "markdown",
   "metadata": {},
   "source": [
    "More than half ($58.6$%) of the listings are single bedroom apartments, after that again the count/percentage is dropping off exponentially. Remark: there are apartemnts with e.g 7 bedrooms, but due to rounding and displaying the plot nicely the percentage is $0.0$% and obviously the bar is not visible."
   ]
  },
  {
   "cell_type": "markdown",
   "metadata": {},
   "source": [
    "### Response Times Feature"
   ]
  },
  {
   "cell_type": "markdown",
   "metadata": {},
   "source": [
    "Short look at the categroical feature of response times.\n",
    "\n",
    "From the heatmap seen in section one, one can observe that here one finds a lot of missing values, just as a remark."
   ]
  },
  {
   "cell_type": "code",
   "execution_count": 38,
   "metadata": {},
   "outputs": [],
   "source": [
    "# figure setup for following figures\n",
    "sns.set(rc={'figure.figsize':countplot_fig_size})"
   ]
  },
  {
   "cell_type": "markdown",
   "metadata": {},
   "source": [
    "Again a countplot is the plot to go for categorical features like *host_response_time*."
   ]
  },
  {
   "cell_type": "code",
   "execution_count": 39,
   "metadata": {},
   "outputs": [
    {
     "data": {
      "image/png": "[encoded data removed]",
      "text/plain": [
       "<Figure size 1080x432 with 1 Axes>"
      ]
     },
     "metadata": {},
     "output_type": "display_data"
    }
   ],
   "source": [
    "countplot('host_response_time', ascending=False)"
   ]
  },
  {
   "cell_type": "markdown",
   "metadata": {},
   "source": [
    "One can see that in $59.4\\%$ of the time the host resonds \"within an hour\", \"responding within a few hours\" and \"within a day\" are with $19.9\\%$ and $18.7\\%$ respectively pretty close, this might be due to the classification process e.g. the mean of response times falls into the category \"within a few hours\" between 2 and 5 hours as *host_response_time*. Further the subjective time difference between immediately and 1 hour is not that much less then e.g. between 2 hours annd 5 hours, in the latter the time streches much longer from an absolute point of view, but in a subjective one this could be, at least for some, not the case."
   ]
  },
  {
   "cell_type": "markdown",
   "metadata": {},
   "source": [
    "### Reviews Features"
   ]
  },
  {
   "cell_type": "markdown",
   "metadata": {},
   "source": [
    "All the features this is referring to are continous features.\n",
    "\n",
    "These Features all analyzed in this section span:\n",
    "* review_scores_rating\n",
    "* review_scores_accuracy\n",
    "* review_scores_cleanliness\n",
    "* review_scores_checkin\n",
    "* review_scores_communication\n",
    "* review_scores_location\n",
    "* review_scores_value\n",
    "\n",
    "Here again one can observe a lot of missing values seen in the boxplot in section 1."
   ]
  },
  {
   "cell_type": "code",
   "execution_count": 40,
   "metadata": {},
   "outputs": [],
   "source": [
    "# figure setup for following figures\n",
    "sns.set(rc={'figure.figsize':standard_fig_size})"
   ]
  },
  {
   "cell_type": "markdown",
   "metadata": {},
   "source": [
    "Helper function and helper variable to make everything nicer and easier."
   ]
  },
  {
   "cell_type": "code",
   "execution_count": 41,
   "metadata": {},
   "outputs": [],
   "source": [
    "# a variable for convenience\n",
    "rating_features = [\n",
    "    'review_scores_rating', \n",
    "    'review_scores_accuracy', \n",
    "    'review_scores_cleanliness', \n",
    "    'review_scores_checkin', \n",
    "    'review_scores_communication', \n",
    "    'review_scores_location', \n",
    "    'review_scores_value'\n",
    "]\n",
    "\n",
    "\"\"\"\n",
    "    Plotting a boxplot for given (multiple) features in one plot. \n",
    "\"\"\"\n",
    "def boxplot_multiple(keywords: [str], outliers=True):\n",
    "    graph = sns.boxplot(\n",
    "        y='value',\n",
    "        x='variable',\n",
    "        data=pd.melt(listings[keywords]),\n",
    "        showfliers=outliers,\n",
    "        showmeans=True,\n",
    "        meanprops={\n",
    "            \"marker\":\"o\",\n",
    "            \"markerfacecolor\":\"white\", \n",
    "            \"markeredgecolor\":\"black\",\n",
    "            \"markersize\":\"6\"\n",
    "        }\n",
    "    )"
   ]
  },
  {
   "cell_type": "markdown",
   "metadata": {},
   "source": [
    "First looking at the continous data as a boxplot, again here with the mean as a white dot."
   ]
  },
  {
   "cell_type": "code",
   "execution_count": 42,
   "metadata": {},
   "outputs": [
    {
     "data": {
      "image/png": "[encoded data removed]",
      "text/plain": [
       "<Figure size 1512x432 with 1 Axes>"
      ]
     },
     "metadata": {},
     "output_type": "display_data"
    }
   ],
   "source": [
    "boxplot_multiple(rating_features)"
   ]
  },
  {
   "cell_type": "markdown",
   "metadata": {},
   "source": [
    "One can only observe that all the different review features are concentrated in the top values (4 to 5), looking at the boxplots without outliers one might get a better look."
   ]
  },
  {
   "cell_type": "code",
   "execution_count": 43,
   "metadata": {},
   "outputs": [
    {
     "data": {
      "image/png": "[encoded data removed]",
      "text/plain": [
       "<Figure size 1512x432 with 1 Axes>"
      ]
     },
     "metadata": {},
     "output_type": "display_data"
    }
   ],
   "source": [
    "boxplot_multiple(rating_features, outliers=False)"
   ]
  },
  {
   "cell_type": "markdown",
   "metadata": {},
   "source": [
    "Here one can see clearly now that the outliers pull the mean below the median, some stronger then others, for example the mean of *review_scores_value* is further at the median as for *review_scores_cleanliness*, 4 out of the 7 have their maximum value as quartile1, 2 of theses 4 have a very high median, but a mean close to quartile2 and therefore the data is concentrated at the very very top. The boxplots for *review_scores_cleanliness* and *review_scores_location* here look pretty equal except for the mean, which is higher in the *review_scores_location*, which is due to the outliers one can observe in the plot above. The only boxplot beeing different then all the others is the one for *review_scores_value* with generally way lower values."
   ]
  },
  {
   "cell_type": "markdown",
   "metadata": {},
   "source": [
    "Calculating the skewness and kurtosis of the features, maybe the data is somehow normally distributed data."
   ]
  },
  {
   "cell_type": "code",
   "execution_count": 44,
   "metadata": {},
   "outputs": [
    {
     "name": "stdout",
     "output_type": "stream",
     "text": [
      "review_scores_rating:\n",
      "    Skewness: -7.654542987675809\n",
      "    Kurtosis: 94.32220773423532\n",
      "    Mean: 4.793984992902048\n",
      "    Variance: 0.11372008009928493\n",
      "    Median: 4.87\n",
      "    Mode: 5.0 (Value), 1254 / 25.43% (Occurences)\n",
      "\n",
      "review_scores_accuracy:\n",
      "    Skewness: -4.514907584512385\n",
      "    Kurtosis: 38.09214152382168\n",
      "    Mean: 4.837973577235773\n",
      "    Variance: 0.056222097289091416\n",
      "    Median: 4.9\n",
      "    Mode: 5.0 (Value), 1386 / 28.17% (Occurences)\n",
      "\n",
      "review_scores_cleanliness:\n",
      "    Skewness: -2.9517704398764764\n",
      "    Kurtosis: 15.586312617733448\n",
      "    Mean: 4.754432926829268\n",
      "    Variance: 0.09713108718557707\n",
      "    Median: 4.85\n",
      "    Mode: 5.0 (Value), 1117 / 22.70% (Occurences)\n",
      "\n",
      "review_scores_checkin:\n",
      "    Skewness: -5.567780072654971\n",
      "    Kurtosis: 52.975528108514226\n",
      "    Mean: 4.878662601626016\n",
      "    Variance: 0.048626468777942515\n",
      "    Median: 4.95\n",
      "    Mode: 5.0 (Value), 1740 / 35.37% (Occurences)\n",
      "\n",
      "review_scores_communication:\n",
      "    Skewness: -5.704993366735886\n",
      "    Kurtosis: 56.083778758355955\n",
      "    Mean: 4.885837398373984\n",
      "    Variance: 0.05069468386230925\n",
      "    Median: 4.96\n",
      "    Mode: 5.0 (Value), 1987 / 40.39% (Occurences)\n",
      "\n",
      "review_scores_location:\n",
      "    Skewness: -2.065602113093645\n",
      "    Kurtosis: 9.389020793239467\n",
      "    Mean: 4.78174593495935\n",
      "    Variance: 0.05527312511053043\n",
      "    Median: 4.84\n",
      "    Mode: 5.0 (Value), 1107 / 22.50% (Occurences)\n",
      "\n",
      "review_scores_value:\n",
      "    Skewness: -2.49868420439041\n",
      "    Kurtosis: 14.73358308405459\n",
      "    Mean: 4.6427906504065035\n",
      "    Variance: 0.0841288441492008\n",
      "    Median: 4.68\n",
      "    Mode: 5.0 (Value), 589 / 11.97% (Occurences)\n",
      "\n"
     ]
    }
   ],
   "source": [
    "for rf in rating_features:\n",
    "    print(f\"{rf}:\")\n",
    "    print(f\"    Skewness: {listings[rf].skew()}\")\n",
    "    print(f\"    Kurtosis: {listings[rf].kurtosis()}\")\n",
    "    print(f\"    Mean: {listings[rf].mean()}\")\n",
    "    print(f\"    Variance: {listings[rf].var()}\")\n",
    "    print(f\"    Median: {listings[rf].median()}\")\n",
    "    print(f\"    Mode: {listings[rf].mode()[0]} (Value), {len(listings[listings[rf] == listings[rf].mode()[0]])} / {len(listings[listings[rf] == listings[rf].mode()[0]])/listings[rf].count()*100:.2f}% (Occurences)\")\n",
    "    print()"
   ]
  },
  {
   "cell_type": "markdown",
   "metadata": {},
   "source": [
    "These summary statistics, skew and kurtosis do not let one observe something out of the ordinary. The review features generally have a rather low variance, meaning that the data is closely distributed around the mean. The review features also have a general negative skewness to variying degrees, meaning all the feature's distributions are skewed to the right, altough the kurtosis varies more then the skewness, meaning some distributions are lower and flatter then others. Altough what is interesting is that the mode is a very common (in terms of amount) value and the maximum value, for example the mode of $5.0$ is $40.39\\%$ of the values for *review_scores_communication*."
   ]
  },
  {
   "cell_type": "markdown",
   "metadata": {},
   "source": [
    "#### Distribution Plot of all the review features."
   ]
  },
  {
   "cell_type": "code",
   "execution_count": 45,
   "metadata": {},
   "outputs": [
    {
     "data": {
      "text/plain": [
       "<seaborn.axisgrid.FacetGrid at 0x7f362050dc30>"
      ]
     },
     "execution_count": 45,
     "metadata": {},
     "output_type": "execute_result"
    },
    {
     "data": {
      "image/png": "[encoded data removed]",
      "text/plain": [
       "<Figure size 1648.47x360 with 1 Axes>"
      ]
     },
     "metadata": {},
     "output_type": "display_data"
    }
   ],
   "source": [
    "sns.displot(\n",
    "    x='value',\n",
    "    hue='variable',\n",
    "    data=pd.melt(listings[listings[rating_features] > 2.5][rating_features]),\n",
    "    kind='kde',\n",
    "    height=5,\n",
    "    aspect=4\n",
    ")"
   ]
  },
  {
   "cell_type": "markdown",
   "metadata": {},
   "source": [
    "One can again see what was prophesied by the skewness and kurtosis. The Distributions commly look very woobly with a small hill at $4.0$. The one that already stood out in the boxplots, *review_scores_value*, has a stranger distribution then the rest with its peak at around $4.7$ and a small hill at $5.0$. Looking at *review_scores_checkin* one can see that it is way less wobbly then the rest and peaking second highest at nearly $5.0$. The feature *review_scores_communication* peaks highest, also its boxplot looked pretty one sided."
   ]
  }
 ],
 "metadata": {
  "kernelspec": {
   "display_name": "Python 3 (ipykernel)",
   "language": "python",
   "name": "python3"
  },
  "language_info": {
   "codemirror_mode": {
    "name": "ipython",
    "version": 3
   },
   "file_extension": ".py",
   "mimetype": "text/x-python",
   "name": "python",
   "nbconvert_exporter": "python",
   "pygments_lexer": "ipython3",
   "version": "3.10.0"
  }
 },
 "nbformat": 4,
 "nbformat_minor": 4
}
