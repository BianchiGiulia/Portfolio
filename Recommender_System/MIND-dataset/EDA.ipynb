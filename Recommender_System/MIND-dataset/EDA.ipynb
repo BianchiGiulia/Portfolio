{
 "cells": [
  {
   "cell_type": "code",
   "execution_count": 1,
   "metadata": {},
   "outputs": [],
   "source": [
    "#imports\n",
    "import numpy as np\n",
    "import pandas as pd\n",
    "import seaborn as sns\n",
    "import matplotlib.pyplot as plt\n",
    "\n",
    "\n",
    "#disabe annoying warnings\n",
    "import warnings\n",
    "warnings.filterwarnings('ignore')"
   ]
  },
  {
   "attachments": {},
   "cell_type": "markdown",
   "metadata": {},
   "source": [
    "Sources:\n",
    "- http://webcache.googleusercontent.com/search?q=cache:https://medium.com/mlearning-ai/build-news-recommendation-model-using-python-bert-and-faiss-10ea8c65e6c&sca_esv=585540903&strip=1&vwsrc=0 with notebook https://colab.research.google.com/drive/1uuQaagWNh7gexSQhchpOgGyPKYK2e6SU#scrollTo=ooBElUsT53JO \n",
    "\n",
    "- https://github.com/recommenders-team/recommenders/blob/main/examples/00_quick_start/nrms_MIND.ipynb\n",
    "\n",
    "- Deep Learning Recommendation Model (DLRM) using HugeCTR’s low level python API: https://nvidia-merlin.github.io/HugeCTR/v3.5/notebooks/news-example.html\n",
    "- https://www.kaggle.com/code/accountstatus/mind-microsoft-news-recommendation-v2#Importing-The-Packages"
   ]
  },
  {
   "cell_type": "code",
   "execution_count": 2,
   "metadata": {},
   "outputs": [],
   "source": [
    "news_train = 'MINDlarge_train/news.tsv'\n",
    "news_test = 'MINDlarge_test/news.tsv'\n",
    "news_valid = 'MINDlarge_val/news.tsv'\n",
    "\n",
    "#entity_embedding.vec ->\tThe embeddings of entities in news extracted from knowledge graph \n",
    "#relation_embedding.vec\t->  The embeddings of relations between entities extracted from knowledge graph\n",
    "#both [ID (retrievable from news dataset: columns) - EMB VALUES]"
   ]
  },
  {
   "cell_type": "code",
   "execution_count": 6,
   "metadata": {},
   "outputs": [],
   "source": [
    "def load_news_df(path):\n",
    "    if 'news' in path:\n",
    "        columns = ['News ID',\n",
    "                \"Category\",\n",
    "                \"SubCategory\",\n",
    "                \"Title\",\n",
    "                \"Abstract\",\n",
    "                \"URL\",\n",
    "                \"Title Entities\",\n",
    "                \"Abstract Entities \"]\n",
    "    \n",
    "    elif 'behavior' in path:\n",
    "        columns = ['Impression ID',\n",
    "                \"User ID\",\n",
    "                \"Time\",\n",
    "                \"History\",\n",
    "                \"Impressions\"]\n",
    "    \n",
    "    df = pd.read_csv(path, sep='\\t', header=None, names=columns)\n",
    "    \n",
    "    return df\n",
    "\n",
    "#news_df.shape"
   ]
  },
  {
   "cell_type": "code",
   "execution_count": 7,
   "metadata": {},
   "outputs": [
    {
     "name": "stdout",
     "output_type": "stream",
     "text": [
      "(101527, 8) (120959, 8) (72023, 8)\n"
     ]
    }
   ],
   "source": [
    "train = load_news_df(news_train)\n",
    "test = load_news_df(news_test)\n",
    "valid = load_news_df(news_valid)\n",
    "print(train.shape, test.shape, valid.shape)"
   ]
  },
  {
   "attachments": {},
   "cell_type": "markdown",
   "metadata": {},
   "source": [
    "# EDA\n",
    "### news"
   ]
  },
  {
   "cell_type": "code",
   "execution_count": 5,
   "metadata": {},
   "outputs": [
    {
     "data": {
      "text/plain": [
       "(101527, 8)"
      ]
     },
     "execution_count": 5,
     "metadata": {},
     "output_type": "execute_result"
    }
   ],
   "source": [
    "news_df = load_news_df(news_train)\n",
    "news_df.shape #consider stratified sampling if need to reduce dataset"
   ]
  },
  {
   "cell_type": "code",
   "execution_count": 7,
   "metadata": {},
   "outputs": [],
   "source": [
    "\"\"\" \n",
    "#category & subcategory distribution:\n",
    "news_df['Category'] = news_df['Category'].astype('category')\n",
    "news_df['SubCategory'] = news_df['SubCategory'].astype('category')\n",
    "\n",
    "# Drop columns not needed for this operation\n",
    "columns_to_keep = ['Category', 'SubCategory']\n",
    "df_reduced = news_df[columns_to_keep]\n",
    "\n",
    "# Group and unstack\n",
    "category_counts = df_reduced.groupby(['Category', 'SubCategory']).size().unstack(fill_value=0)\n",
    "\n",
    "category_counts.plot(kind='bar', stacked=True, figsize=(15, 7))\n",
    "plt.title('Distribution of Categories and Subcategories')\n",
    "plt.xlabel('Category')\n",
    "plt.ylabel('Count')\n",
    "plt.xticks(rotation=45)\n",
    "plt.legend(title='SubCategory', bbox_to_anchor=(1.05, 1), loc='upper left')\n",
    "plt.tight_layout()\n",
    "\n",
    "plt.show()\n",
    "\n",
    "\"\"\""
   ]
  },
  {
   "cell_type": "code",
   "execution_count": 34,
   "metadata": {},
   "outputs": [
    {
     "data": {
      "text/plain": [
       "News ID                  0\n",
       "Category                 0\n",
       "SubCategory              0\n",
       "Title                    0\n",
       "Abstract              5415\n",
       "URL                      0\n",
       "Title Entities           3\n",
       "Abstract Entities        6\n",
       "dtype: int64"
      ]
     },
     "execution_count": 34,
     "metadata": {},
     "output_type": "execute_result"
    }
   ],
   "source": [
    "missing_values = news_df.isnull().sum()\n",
    "missing_values #"
   ]
  },
  {
   "cell_type": "code",
   "execution_count": 35,
   "metadata": {},
   "outputs": [
    {
     "data": {
      "text/plain": [
       "News ID                  0\n",
       "Category                 0\n",
       "SubCategory              0\n",
       "Title                    0\n",
       "Abstract              5415\n",
       "URL                      0\n",
       "Title Entities           0\n",
       "Abstract Entities        0\n",
       "dtype: int64"
      ]
     },
     "execution_count": 35,
     "metadata": {},
     "output_type": "execute_result"
    }
   ],
   "source": [
    "#remove rows where 'Title Entities' or 'Abstract Entities' are missing (only 6 samples out of +100k)\n",
    "news_df = news_df.dropna(subset=['Title Entities', 'Abstract Entities '])\n",
    "missing_values = news_df.isnull().sum()\n",
    "missing_values"
   ]
  },
  {
   "cell_type": "code",
   "execution_count": 36,
   "metadata": {},
   "outputs": [
    {
     "data": {
      "text/plain": [
       "News ID                                                          N83188\n",
       "Category                                                         sports\n",
       "SubCategory                                                football_nfl\n",
       "Title                 Colts News: Chris Ballard on first half of sea...\n",
       "Abstract                                                            NaN\n",
       "URL                       https://assets.msn.com/labs/mind/AAJWD7n.html\n",
       "Title Entities        [{\"Label\": \"Indianapolis Colts\", \"Type\": \"O\", ...\n",
       "Abstract Entities                                                    []\n",
       "Name: 83, dtype: object"
      ]
     },
     "execution_count": 36,
     "metadata": {},
     "output_type": "execute_result"
    }
   ],
   "source": [
    "#display an example with missing abstract\n",
    "sample = news_df[news_df['Abstract'].isnull()].iloc[6]\n",
    "sample #the url does not lead to anything"
   ]
  },
  {
   "cell_type": "code",
   "execution_count": 46,
   "metadata": {},
   "outputs": [
    {
     "data": {
      "text/plain": [
       "<AxesSubplot: >"
      ]
     },
     "execution_count": 46,
     "metadata": {},
     "output_type": "execute_result"
    },
    {
     "data": {
      "image/png": "[encoded data removed]",
      "text/plain": [
       "<Figure size 500x300 with 2 Axes>"
      ]
     },
     "metadata": {},
     "output_type": "display_data"
    }
   ],
   "source": [
    "plt.figure(figsize=(5,3))\n",
    "sns.heatmap(news_df.isnull(), cbar=True, cmap='magma')"
   ]
  },
  {
   "cell_type": "code",
   "execution_count": 6,
   "metadata": {},
   "outputs": [
    {
     "data": {
      "text/plain": [
       "(96106, 7)"
      ]
     },
     "execution_count": 6,
     "metadata": {},
     "output_type": "execute_result"
    }
   ],
   "source": [
    "news_df = news_df.drop(columns=['URL'])\n",
    "news_df = news_df.dropna()\n",
    "news_df.shape\n"
   ]
  },
  {
   "cell_type": "code",
   "execution_count": 10,
   "metadata": {},
   "outputs": [
    {
     "data": {
      "text/plain": [
       "280"
      ]
     },
     "execution_count": 10,
     "metadata": {},
     "output_type": "execute_result"
    }
   ],
   "source": [
    "unique_categories = news_df['Category'].unique()\n",
    "unique_subcategories = news_df['SubCategory'].unique()\n",
    "\n",
    "#print(\"Categories:\", unique_categories)\n",
    "#print(\"Subcategories:\", unique_subcategories)\n",
    "\n",
    "\n",
    "list_of_categories = unique_categories.tolist()\n",
    "list_of_subcategories = unique_subcategories.tolist()\n",
    "len(list_of_subcategories) \n"
   ]
  },
  {
   "cell_type": "code",
   "execution_count": 12,
   "metadata": {},
   "outputs": [
    {
     "data": {
      "text/plain": [
       "{'foodanddrink',\n",
       " 'games',\n",
       " 'lifestyle',\n",
       " 'news',\n",
       " 'sports',\n",
       " 'travel',\n",
       " 'tv',\n",
       " 'video'}"
      ]
     },
     "execution_count": 12,
     "metadata": {},
     "output_type": "execute_result"
    }
   ],
   "source": [
    "set(list_of_categories).intersection(set(list_of_subcategories))"
   ]
  },
  {
   "attachments": {},
   "cell_type": "markdown",
   "metadata": {},
   "source": [
    "____________________________________________________\n",
    "## behaviours"
   ]
  },
  {
   "attachments": {},
   "cell_type": "markdown",
   "metadata": {},
   "source": [
    "behaviors.tsv:<br> This file records user interactions with news articles. It typically includes user IDs, the time of interaction, the history of news interactions for each user, and the news articles they have clicked on."
   ]
  },
  {
   "attachments": {},
   "cell_type": "markdown",
   "metadata": {},
   "source": [
    "`ImpressionID, UserID, Time, History, Impressions` <br>\n",
    "`1, U1, 11/01/2020 11:30, N1 N2 N3, N4-0 N5-1 N6-0`\n"
   ]
  },
  {
   "attachments": {},
   "cell_type": "markdown",
   "metadata": {},
   "source": [
    "ImpressionID: \"1\" is the unique identifier for this impression.<br>\n",
    "UserID: \"U1\" denotes the user.<br>\n",
    "Time: \"11/01/2020 11:30\" is the timestamp of the interaction.<br>\n",
    "History: \"N1 N2 N3\" are IDs of news articles the user has clicked on before.<br>\n",
    "Impressions: \"N4-0 N5-1 N6-0\" shows that articles \"N4\" and \"N6\" were not clicked (indicated by \"-0\"), while \"N5\" was clicked (indicated by \"-1\") during this impression."
   ]
  },
  {
   "cell_type": "code",
   "execution_count": 39,
   "metadata": {},
   "outputs": [
    {
     "data": {
      "text/html": [
       "<div>\n",
       "<style scoped>\n",
       "    .dataframe tbody tr th:only-of-type {\n",
       "        vertical-align: middle;\n",
       "    }\n",
       "\n",
       "    .dataframe tbody tr th {\n",
       "        vertical-align: top;\n",
       "    }\n",
       "\n",
       "    .dataframe thead th {\n",
       "        text-align: right;\n",
       "    }\n",
       "</style>\n",
       "<table border=\"1\" class=\"dataframe\">\n",
       "  <thead>\n",
       "    <tr style=\"text-align: right;\">\n",
       "      <th></th>\n",
       "      <th>Impression ID</th>\n",
       "      <th>User ID</th>\n",
       "      <th>Time of interaction</th>\n",
       "      <th>History</th>\n",
       "      <th>News clicked</th>\n",
       "    </tr>\n",
       "  </thead>\n",
       "  <tbody>\n",
       "    <tr>\n",
       "      <th>0</th>\n",
       "      <td>1</td>\n",
       "      <td>U87243</td>\n",
       "      <td>11/10/2019 11:30:54 AM</td>\n",
       "      <td>N8668 N39081 N65259 N79529 N73408 N43615 N2937...</td>\n",
       "      <td>N78206-0 N26368-0 N7578-0 N58592-0 N19858-0 N5...</td>\n",
       "    </tr>\n",
       "    <tr>\n",
       "      <th>1</th>\n",
       "      <td>2</td>\n",
       "      <td>U598644</td>\n",
       "      <td>11/12/2019 1:45:29 PM</td>\n",
       "      <td>N56056 N8726 N70353 N67998 N83823 N111108 N107...</td>\n",
       "      <td>N47996-0 N82719-0 N117066-0 N8491-0 N123784-0 ...</td>\n",
       "    </tr>\n",
       "    <tr>\n",
       "      <th>2</th>\n",
       "      <td>3</td>\n",
       "      <td>U532401</td>\n",
       "      <td>11/13/2019 11:23:03 AM</td>\n",
       "      <td>N128643 N87446 N122948 N9375 N82348 N129412 N5...</td>\n",
       "      <td>N103852-0 N53474-0 N127836-0 N47925-1</td>\n",
       "    </tr>\n",
       "    <tr>\n",
       "      <th>3</th>\n",
       "      <td>4</td>\n",
       "      <td>U593596</td>\n",
       "      <td>11/12/2019 12:24:09 PM</td>\n",
       "      <td>N31043 N39592 N4104 N8223 N114581 N92747 N1207...</td>\n",
       "      <td>N38902-0 N76434-0 N71593-0 N100073-0 N108736-0...</td>\n",
       "    </tr>\n",
       "    <tr>\n",
       "      <th>4</th>\n",
       "      <td>5</td>\n",
       "      <td>U239687</td>\n",
       "      <td>11/14/2019 8:03:01 PM</td>\n",
       "      <td>N65250 N122359 N71723 N53796 N41663 N41484 N11...</td>\n",
       "      <td>N76209-0 N48841-0 N67937-0 N62235-0 N6307-0 N3...</td>\n",
       "    </tr>\n",
       "  </tbody>\n",
       "</table>\n",
       "</div>"
      ],
      "text/plain": [
       "   Impression ID  User ID     Time of interaction  \\\n",
       "0              1   U87243  11/10/2019 11:30:54 AM   \n",
       "1              2  U598644   11/12/2019 1:45:29 PM   \n",
       "2              3  U532401  11/13/2019 11:23:03 AM   \n",
       "3              4  U593596  11/12/2019 12:24:09 PM   \n",
       "4              5  U239687   11/14/2019 8:03:01 PM   \n",
       "\n",
       "                                             History  \\\n",
       "0  N8668 N39081 N65259 N79529 N73408 N43615 N2937...   \n",
       "1  N56056 N8726 N70353 N67998 N83823 N111108 N107...   \n",
       "2  N128643 N87446 N122948 N9375 N82348 N129412 N5...   \n",
       "3  N31043 N39592 N4104 N8223 N114581 N92747 N1207...   \n",
       "4  N65250 N122359 N71723 N53796 N41663 N41484 N11...   \n",
       "\n",
       "                                        News clicked  \n",
       "0  N78206-0 N26368-0 N7578-0 N58592-0 N19858-0 N5...  \n",
       "1  N47996-0 N82719-0 N117066-0 N8491-0 N123784-0 ...  \n",
       "2              N103852-0 N53474-0 N127836-0 N47925-1  \n",
       "3  N38902-0 N76434-0 N71593-0 N100073-0 N108736-0...  \n",
       "4  N76209-0 N48841-0 N67937-0 N62235-0 N6307-0 N3...  "
      ]
     },
     "execution_count": 39,
     "metadata": {},
     "output_type": "execute_result"
    }
   ],
   "source": [
    "#look at behaviours.tsv file\n",
    "behaviours_path = 'MINDlarge_train/behaviors.tsv'\n",
    "\n",
    "behaviours_df = pd.read_csv(behaviours_path,header=None,sep='\\t')\n",
    "behaviours_df.columns=['Impression ID',\n",
    "                'User ID',\n",
    "                \"Time of interaction\",\n",
    "                \"History\",\n",
    "                \"News clicked\",\n",
    "                ]\n",
    "behaviours_df.head() #15 seconds t load!"
   ]
  },
  {
   "attachments": {},
   "cell_type": "markdown",
   "metadata": {},
   "source": [
    "____________________________________________________"
   ]
  },
  {
   "cell_type": "code",
   "execution_count": 40,
   "metadata": {},
   "outputs": [
    {
     "data": {
      "text/plain": [
       "Impression ID              0\n",
       "User ID                    0\n",
       "Time of interaction        0\n",
       "History                46065\n",
       "News clicked               0\n",
       "dtype: int64"
      ]
     },
     "execution_count": 40,
     "metadata": {},
     "output_type": "execute_result"
    }
   ],
   "source": [
    "missing_values = behaviours_df.isnull().sum()\n",
    "missing_values #almost half!!!!"
   ]
  },
  {
   "cell_type": "code",
   "execution_count": 57,
   "metadata": {},
   "outputs": [
    {
     "name": "stdout",
     "output_type": "stream",
     "text": [
      "Unique users: 711222, Unique news articles: 96106\n"
     ]
    }
   ],
   "source": [
    "unique_users = behaviours_df['User ID'].nunique()\n",
    "unique_news = news_df['News ID'].nunique()\n",
    "print(f\"Unique users: {unique_users}, Unique news articles: {unique_news}\")"
   ]
  },
  {
   "cell_type": "code",
   "execution_count": 53,
   "metadata": {},
   "outputs": [
    {
     "data": {
      "image/png": "[encoded data removed]",
      "text/plain": [
       "<Figure size 800x500 with 1 Axes>"
      ]
     },
     "metadata": {},
     "output_type": "display_data"
    }
   ],
   "source": [
    "news_clicks_per_user = behaviours_df['User ID'].value_counts()\n",
    "\n",
    "plt.figure(figsize=(8, 5))\n",
    "news_clicks_per_user.hist(bins=50, range=(0,50)) \n",
    "plt.title('Distribution of News Clicks per User')\n",
    "plt.xlabel('Number of News Clicks')\n",
    "plt.ylabel('Number of Users')\n",
    "plt.show()\n",
    "\n",
    "\n"
   ]
  },
  {
   "cell_type": "code",
   "execution_count": 51,
   "metadata": {},
   "outputs": [],
   "source": [
    "behaviours_df['Time of interaction'] = pd.to_datetime(behaviours_df['Time of interaction'])\n",
    "behaviours_df['Date'] = behaviours_df['Time of interaction'].dt.date\n",
    "interactions_per_day = behaviours_df['Date'].value_counts().sort_index()"
   ]
  },
  {
   "cell_type": "code",
   "execution_count": null,
   "metadata": {},
   "outputs": [],
   "source": [
    "plt.figure(figsize=(12, 6))\n",
    "interactions_per_day.plot(kind='line')\n",
    "plt.title('Frequency of User Interactions Over Time')\n",
    "plt.xlabel('Date')\n",
    "plt.ylabel('Number of Interactions')\n",
    "plt.xticks(rotation=45)\n",
    "plt.show()"
   ]
  }
 ],
 "metadata": {
  "kernelspec": {
   "display_name": "Python 3",
   "language": "python",
   "name": "python3"
  },
  "language_info": {
   "codemirror_mode": {
    "name": "ipython",
    "version": 3
   },
   "file_extension": ".py",
   "mimetype": "text/x-python",
   "name": "python",
   "nbconvert_exporter": "python",
   "pygments_lexer": "ipython3",
   "version": "3.9.12"
  },
  "orig_nbformat": 4
 },
 "nbformat": 4,
 "nbformat_minor": 2
}
