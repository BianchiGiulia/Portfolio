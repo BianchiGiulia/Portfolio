{
 "cells": [
  {
   "cell_type": "code",
   "execution_count": 1,
   "metadata": {},
   "outputs": [],
   "source": [
    "import pandas as pd\n",
    "import numpy as np\n",
    "from typing import Callable"
   ]
  },
  {
   "cell_type": "code",
   "execution_count": 2,
   "metadata": {},
   "outputs": [],
   "source": [
    "#construct interaction matrix from dataset\n",
    "def inter_matr_implicit(users: pd.DataFrame,\n",
    "                        items: pd.DataFrame,\n",
    "                        interactions: pd.DataFrame,\n",
    "                        dataset_name: str,\n",
    "                        threshold=1) -> np.ndarray:\n",
    "    '''\n",
    "    users - pandas Dataframe, use it as loaded from the dataset;\n",
    "    items - pandas Dataframe, use it as loaded from the dataset;\n",
    "    interactions - pandas Dataframe, use it as loaded from the dataset;\n",
    "    dataset_name - string out of [\"lfm-ismir\", \"ml-1m\"], name of the dataset, used in case there are differences in the column names of the data frames;\n",
    "    threshold - int > 0, criteria of a valid interaction\n",
    "\n",
    "    returns - 2D np.array, rows - users, columns - items;\n",
    "    '''\n",
    "    #initialize the binary interaction matrix with only zeros\n",
    "    res = np.zeros((users.shape[0], items.shape[0]))\n",
    "\n",
    "    if dataset_name == \"lfm-tiny\":\n",
    "        #iterate over the interactions\n",
    "        \n",
    "        \n",
    "        for i in range(interactions.shape[0]):\n",
    "\n",
    "            #check if the listening events are enough to consider the interaction valid\n",
    "           \n",
    "            if interactions.iloc[i, 2] >= threshold:    \n",
    "                #add the interaction to the matrix \n",
    "                          \n",
    "                res[interactions.iloc[i, 0], interactions.iloc[i, 1]] = 1\n",
    "    \n",
    "    \n",
    "    elif dataset_name == \"ml-1m\":\n",
    "        \n",
    "        #iterate over the interactions\n",
    "        for i in range(interactions.shape[0]):\n",
    "\n",
    "            #if the interaction is valid, add it to the matrix\n",
    "            if interactions.iloc[i, 2] >= threshold:\n",
    "                res[interactions.iloc[i, 0], interactions.iloc[i, 1]] = 1\n",
    "    \n",
    "    \n",
    "    \n",
    "    return res"
   ]
  },
  {
   "cell_type": "code",
   "execution_count": 3,
   "metadata": {},
   "outputs": [
    {
     "data": {
      "text/plain": [
       "array([[1., 1., 1., ..., 0., 0., 0.],\n",
       "       [0., 0., 0., ..., 0., 0., 0.],\n",
       "       [0., 0., 0., ..., 0., 0., 0.],\n",
       "       ...,\n",
       "       [0., 0., 0., ..., 0., 0., 0.],\n",
       "       [0., 0., 0., ..., 0., 0., 0.],\n",
       "       [0., 1., 0., ..., 0., 0., 0.]])"
      ]
     },
     "execution_count": 3,
     "metadata": {},
     "output_type": "execute_result"
    }
   ],
   "source": [
    "# Use LFM-Tiny dataset from exercise 1\n",
    "def read(dataset, file):\n",
    "    return pd.read_csv(dataset + '/' + dataset + '.' + file, sep='\\t')\n",
    "\n",
    "users = read(\"lfm-tiny\", 'user')\n",
    "items = read(\"lfm-tiny\", 'item')\n",
    "interactions = read(\"lfm-tiny\", 'inter')\n",
    "\n",
    "\n",
    "_interaction_matrix_test = inter_matr_implicit(users, items, interactions, \"lfm-tiny\", 1)\n",
    "_interaction_matrix_test"
   ]
  },
  {
   "attachments": {},
   "cell_type": "markdown",
   "metadata": {},
   "source": [
    "\n",
    "$JaccardScore(a,b) = \\frac{|U(a) \\wedge U(b)|}{|U(a) \\vee U(b)|}$\n"
   ]
  },
  {
   "cell_type": "code",
   "execution_count": 4,
   "metadata": {},
   "outputs": [],
   "source": [
    "def jaccard_score(a: np.array, b: np.array) -> float:\n",
    "    \"\"\"\n",
    "    a, b: - vectors of the same length corresponding to the two items\n",
    "\n",
    "    returns: float - jaccard similarity score for a and b\n",
    "    \"\"\"\n",
    "    score = None\n",
    "\n",
    "    # compute the jaccard similarity score for a and b\n",
    "    score = np.sum(np.logical_and(a, b)) / np.sum(np.logical_or(a, b))\n",
    "\n",
    "    return float(score)"
   ]
  },
  {
   "cell_type": "code",
   "execution_count": 5,
   "metadata": {},
   "outputs": [],
   "source": [
    "def calculate_sim_scores(similarity_measure: Callable[[int, int], float],\n",
    "                         inter: np.array,\n",
    "                         target_vec: np.array) -> np.array:\n",
    "    \"\"\"\n",
    "    similarity_measure: Callable - function that measures similarity, use your jaccard_score function from above\n",
    "    inter: np.array - interaction matrix - calculate similarity between each item and the target item (see below)\n",
    "    target_vec: np.array - target item vector\n",
    "    \n",
    "    returns: np.array - similarities between every item from <inter> and <target_vec> in the respective order\n",
    "    \"\"\"\n",
    "\n",
    "    #calculate similarities between every item from <inter> and <target_vec> in the respective order\n",
    "    item_similarities = [similarity_measure(target_vec, inter[:, i]) for i in range(inter.shape[1])]\n",
    "\n",
    "    return np.array(item_similarities)"
   ]
  },
  {
   "cell_type": "code",
   "execution_count": 6,
   "metadata": {
    "scrolled": false
   },
   "outputs": [
    {
     "name": "stdout",
     "output_type": "stream",
     "text": [
      "[1.         0.02083333 0.01030928 0.03529412 0.01449275 0.05555556\n",
      " 0.04347826 0.         0.         0.         0.         0.\n",
      " 0.         0.         0.         0.         0.04545455 0.\n",
      " 0.         0.04545455 0.11764706 0.05882353 0.05882353 0.02150538\n",
      " 0.         0.         0.         0.         0.         0.\n",
      " 0.         0.         0.         0.         0.         0.\n",
      " 0.         0.         0.         0.         0.         0.\n",
      " 0.         0.01898734 0.         0.         0.04545455 0.\n",
      " 0.         0.         0.         0.01265823 0.         0.\n",
      " 0.         0.         0.0625     0.         0.         0.05\n",
      " 0.05555556 0.05555556 0.08695652 0.05769231 0.0625     0.\n",
      " 0.         0.         0.         0.         0.         0.\n",
      " 0.         0.         0.07142857 0.         0.         0.\n",
      " 0.0625     0.01315789 0.0625     0.         0.         0.\n",
      " 0.         0.         0.         0.         0.         0.\n",
      " 0.04       0.         0.         0.         0.         0.03174603\n",
      " 0.         0.         0.01234568 0.         0.02040816 0.\n",
      " 0.         0.04545455 0.         0.00694444 0.02380952 0.\n",
      " 0.         0.         0.         0.         0.         0.\n",
      " 0.02816901 0.         0.         0.02040816 0.02631579 0.\n",
      " 0.         0.         0.         0.03703704 0.         0.\n",
      " 0.         0.         0.         0.         0.         0.01960784\n",
      " 0.         0.         0.03030303 0.01886792 0.         0.\n",
      " 0.         0.         0.         0.01612903 0.         0.\n",
      " 0.         0.         0.         0.         0.         0.\n",
      " 0.         0.00740741 0.         0.         0.         0.\n",
      " 0.02325581 0.04166667 0.04761905 0.         0.         0.\n",
      " 0.         0.         0.         0.         0.         0.01030928\n",
      " 0.         0.         0.         0.         0.         0.\n",
      " 0.03225806 0.         0.         0.         0.02380952 0.\n",
      " 0.         0.         0.         0.         0.         0.\n",
      " 0.         0.         0.01204819 0.         0.         0.\n",
      " 0.         0.         0.         0.0212766  0.         0.\n",
      " 0.         0.         0.         0.         0.         0.\n",
      " 0.         0.         0.         0.         0.         0.02702703\n",
      " 0.         0.         0.         0.         0.         0.\n",
      " 0.         0.         0.         0.         0.         0.\n",
      " 0.         0.         0.         0.         0.         0.\n",
      " 0.         0.         0.         0.01639344 0.02857143 0.\n",
      " 0.         0.         0.         0.         0.         0.\n",
      " 0.         0.         0.         0.         0.         0.\n",
      " 0.         0.         0.025      0.         0.         0.\n",
      " 0.         0.         0.         0.         0.         0.\n",
      " 0.         0.         0.         0.         0.         0.\n",
      " 0.         0.         0.         0.         0.         0.\n",
      " 0.         0.         0.         0.         0.         0.\n",
      " 0.         0.         0.         0.         0.         0.\n",
      " 0.         0.         0.         0.         0.04761905 0.\n",
      " 0.04166667 0.         0.         0.         0.         0.\n",
      " 0.         0.         0.         0.         0.         0.\n",
      " 0.         0.         0.         0.         0.         0.\n",
      " 0.         0.         0.         0.         0.         0.\n",
      " 0.05882353 0.         0.         0.04347826 0.         0.\n",
      " 0.         0.         0.         0.         0.         0.\n",
      " 0.03571429 0.         0.         0.         0.         0.\n",
      " 0.         0.         0.         0.         0.         0.\n",
      " 0.         0.         0.         0.         0.         0.\n",
      " 0.         0.         0.         0.         0.         0.\n",
      " 0.         0.         0.         0.         0.         0.\n",
      " 0.         0.         0.         0.         0.         0.\n",
      " 0.         0.         0.         0.         0.         0.\n",
      " 0.         0.         0.         0.         0.         0.\n",
      " 0.         0.         0.         0.         0.         0.\n",
      " 0.         0.04347826 0.         0.         0.         0.\n",
      " 0.         0.         0.         0.         0.         0.\n",
      " 0.         0.         0.         0.         0.         0.05882353\n",
      " 0.         0.         0.         0.         0.         0.\n",
      " 0.         0.         0.         0.         0.         0.\n",
      " 0.         0.         0.         0.        ]\n"
     ]
    }
   ],
   "source": [
    "\n",
    "item_sims = calculate_sim_scores(similarity_measure=jaccard_score, inter=_interaction_matrix_test, target_vec=_interaction_matrix_test[:,0])\n",
    "print(item_sims)"
   ]
  },
  {
   "attachments": {},
   "cell_type": "markdown",
   "metadata": {},
   "source": [
    "This function that takes a full interaction matrix as an input, as well as user id, item id and *n* -- algorithm's hyperparameter, number of neighbors to be considered while calculating the score.\n",
    "\n",
    "The expected output is a single number between 0 and 1 - the predicted score."
   ]
  },
  {
   "cell_type": "code",
   "execution_count": 7,
   "metadata": {},
   "outputs": [],
   "source": [
    "def get_user_item_score(sim_scores_calculator: Callable[[Callable, np.array, np.array], np.array],\n",
    "                        inter: np.array,\n",
    "                        target_user: int,\n",
    "                        target_item: int,\n",
    "                        n: int = 2) -> float:\n",
    "    \"\"\"\n",
    "    sim_scores_calculator: Callable - function that calculates similarities, using calculate_sim_scores\n",
    "                                      from above, already defined in the next cell\n",
    "    inter: np.array - interaction matrix\n",
    "    target_user: target user id\n",
    "    target_item: int - target item id\n",
    "    n: int - n closest neighbors to consider for the score prediction\n",
    "    \n",
    "    returns: float - mean of similarity scores = user-item 'fitness' score\n",
    "    \"\"\"\n",
    "\n",
    "    item_similarities_mean = None\n",
    "    \n",
    "    #copy interaction matrix\n",
    "    inter_matr_c = inter.copy()\n",
    "    \n",
    "    #take item consumed by the user\n",
    "    indices = np.where(inter_matr_c[target_user, :] == 1)[0]\n",
    "    \n",
    "    #get the column vector of the target item\n",
    "    target_item_vec = inter_matr_c[:, target_item]\n",
    "    \n",
    "    sim_index_list = []\n",
    "    for index in indices:\n",
    "        #get the column vector the item consumed by the user\n",
    "        seen_item_vec = inter_matr_c[:, index]\n",
    "        #calculate the similarity between the target item and the item consumed by the user\n",
    "        sim = jaccard_score(seen_item_vec, target_item_vec)\n",
    "        #add the similarity to the list\n",
    "        sim_index_list.append(sim)\n",
    "    \n",
    "    #sort the list of similarities from higher to lower & keep top n items only\n",
    "    sorted = np.sort(sim_index_list)[::-1][:n]\n",
    "   \n",
    "    return np.mean(sorted)"
   ]
  },
  {
   "attachments": {},
   "cell_type": "markdown",
   "metadata": {},
   "source": [
    "The function takes user_item_scorer, a full interaction matrix, user id, top_k, hyperparameter n as an input. It returns two arrays:\n",
    "\n",
    "* top_k recommendations for the given user obtained considering n neighbors for score prediction\n",
    "* the corresponding user-item similarity scores"
   ]
  },
  {
   "cell_type": "code",
   "execution_count": 8,
   "metadata": {},
   "outputs": [],
   "source": [
    "def recTopK(user_item_scorer: Callable[[Callable, np.array, int, int], float],\n",
    "            inter_matr: np.array,\n",
    "            user: int,\n",
    "            top_k: int,\n",
    "            n: int) -> (np.array, np.array):\n",
    "    '''\n",
    "    user_item_scorer: Callable - wrapper function that calculates user-item score, using get_user_item_score function\n",
    "                                 from above, already defined in the next cell\n",
    "    inter_matr: np.array - interaction matrix\n",
    "    user: int -  user_id\n",
    "    top_k: int - expected length of the resulting list\n",
    "    n: int - number of neighbors to consider\n",
    "    \n",
    "    returns - array of recommendations (sorted in the order of descending scores) & array of corresponding scores\n",
    "    '''\n",
    "\n",
    "    # calculate user-item scores for non-seen items\n",
    "    user_item_sc = []\n",
    "    # Loop over all items in the interaction matrix\n",
    "    for item_id in range(inter_matr.shape[1]):\n",
    "        #if the item is not consumed by the user, calulcate the score\n",
    "        if inter_matr[user, item_id] == 0:\n",
    "            item_score = user_item_scorer(inter_matr, user, item_id, n)\n",
    "            user_item_sc.append(item_score)\n",
    "        #otherwise, add a score of zero\n",
    "        else:\n",
    "            user_item_sc.append(0)\n",
    "    \n",
    "    user_item_sc = np.array(user_item_sc)\n",
    "    \n",
    "    # select the top top_k items with the highest scores\n",
    "    top_rec = np.argsort(user_item_sc)[::-1][:top_k]\n",
    "    scores = user_item_sc[top_rec]\n",
    "    \n",
    "    return top_rec, scores"
   ]
  },
  {
   "cell_type": "markdown",
   "metadata": {},
   "source": [
    "Now, lets use these scoring functions and get the <b>top 10</b> recommendations for <b>user 0</b> with <b>n = 15</b>."
   ]
  },
  {
   "cell_type": "code",
   "execution_count": 10,
   "metadata": {},
   "outputs": [],
   "source": [
    "def sim_score_calc(inter, target_vec): return calculate_sim_scores(jaccard_score, inter, target_vec)\n",
    "def user_item_scorer(inter, target_user, target_item, n): return get_user_item_score(sim_score_calc, inter,\n",
    "                                                                                     target_user, target_item, n)\n",
    "#e.g. TOP 10 recommendation for user 0 with n=15\n",
    "rec_item_cf, scores_item_cf = recTopK(user_item_scorer, _interaction_matrix_test, 0, 10, 15)"
   ]
  },
  {
   "cell_type": "code",
   "execution_count": 11,
   "metadata": {},
   "outputs": [
    {
     "name": "stdout",
     "output_type": "stream",
     "text": [
      "Recommendations with Item CF:  [117  51  12  43 129  56  30 167  98   8]\n",
      "With Scores:  [0.05700778 0.05121532 0.05023276 0.04848317 0.04670654 0.04642857\n",
      " 0.04491342 0.04259023 0.03993695 0.03945571]\n",
      "---------------------------------------------------------------------------\n"
     ]
    }
   ],
   "source": [
    "print(\"Recommendations with Item CF: \", rec_item_cf)\n",
    "print(\"With Scores: \", scores_item_cf)\n",
    "print(\"-\" * 75)"
   ]
  }
 ],
 "metadata": {
  "kernelspec": {
   "display_name": "Python 3 (ipykernel)",
   "language": "python",
   "name": "python3"
  },
  "language_info": {
   "codemirror_mode": {
    "name": "ipython",
    "version": 3
   },
   "file_extension": ".py",
   "mimetype": "text/x-python",
   "name": "python",
   "nbconvert_exporter": "python",
   "pygments_lexer": "ipython3",
   "version": "3.8.16"
  }
 },
 "nbformat": 4,
 "nbformat_minor": 4
}
