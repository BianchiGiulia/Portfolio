{
 "cells": [
  {
   "cell_type": "code",
   "execution_count": 46,
   "metadata": {
    "id": "pWfUHtClvZyC"
   },
   "outputs": [],
   "source": [
    "import pandas as pd\n",
    "import numpy as np\n",
    "import os\n",
    "import gensim.downloader as api\n",
    "from gensim.models import KeyedVectors\n",
    "from collections import Counter\n",
    "from nltk.corpus import stopwords\n",
    "import nltk\n",
    "import time\n",
    "from numpy.core.memmap import ndarray\n",
    "from sklearn.metrics import accuracy_score\n",
    "from sklearn.neighbors import KNeighborsClassifier\n",
    "from sklearn.ensemble import RandomForestClassifier\n",
    "from skmultilearn.adapt import MLkNN\n",
    "from sklearn import svm"
   ]
  },
  {
   "cell_type": "code",
   "execution_count": 2,
   "metadata": {},
   "outputs": [],
   "source": [
    "import warnings\n",
    "warnings.filterwarnings(\"ignore\")\n",
    "pd.set_option('display.max_colwidth', None)"
   ]
  },
  {
   "cell_type": "code",
   "execution_count": 3,
   "metadata": {
    "colab": {
     "base_uri": "https://localhost:8080/"
    },
    "id": "zquQ6njN9Cgo",
    "outputId": "13d3bdbc-1f7c-4294-c344-8c9bea4b0fb8"
   },
   "outputs": [
    {
     "name": "stderr",
     "output_type": "stream",
     "text": [
      "[nltk_data] Downloading package stopwords to\n",
      "[nltk_data]     /Users/giulia/nltk_data...\n",
      "[nltk_data]   Package stopwords is already up-to-date!\n"
     ]
    },
    {
     "data": {
      "text/plain": [
       "True"
      ]
     },
     "execution_count": 3,
     "metadata": {},
     "output_type": "execute_result"
    }
   ],
   "source": [
    "nltk.download('stopwords')"
   ]
  },
  {
   "cell_type": "markdown",
   "metadata": {
    "id": "v_H3fl56evS1"
   },
   "source": [
    "## **Loading a word embedding (WE) model**\n",
    "For this project the [Word2Vec](https://code.google.com/archive/p/word2vec/) pre-trained word embedding has been choosen. It consists of about 100 billion words translated into 300-dimensional vectors for 3 million words and phrases from the Google News dataset."
   ]
  },
  {
   "cell_type": "code",
   "execution_count": 4,
   "metadata": {
    "id": "-RMMpcvrvZyI"
   },
   "outputs": [],
   "source": [
    "path = 'word_vectors2.kv'\n",
    "if os.path.exists(path):\n",
    "    word_vectors = KeyedVectors.load(path)\n",
    "else:\n",
    "    #model = api.load(\"glove-twitter-25\")\n",
    "    model = api.load('word2vec-google-news-300')\n",
    "    word_vectors = model.wv\n",
    "    word_vectors.save(path)"
   ]
  },
  {
   "cell_type": "markdown",
   "metadata": {
    "id": "X1XF3ythe2ph"
   },
   "source": [
    "## **Calculating word-to-word similarities**\n",
    "The selected source words are the following: <b>Paris, magic, food, sleep, elegant. </b><br> We created a dictionary with <b>source words as keys</b> and 6 <b>tuples consisting of target word and rank as values</b>. The range of our personal classification goes from 1 (most related) to 6 (least related). As a rule of thumb, we tried to keep the ratio between this two antipodes to 50/50. <br>\n",
    "<style type=\"text/css\">\n",
    ".tg  {border-collapse:collapse;border-color:#9ABAD9;border-spacing:0;}\n",
    ".tg td{background-color:#EBF5FF;border-color:#9ABAD9;border-style:solid;border-width:0px;color:#444;\n",
    "  font-family:Arial, sans-serif;font-size:14px;overflow:hidden;padding:10px 5px;word-break:normal;}\n",
    ".tg th{background-color:#409cff;border-color:#9ABAD9;border-style:solid;border-width:0px;color:#fff;\n",
    "  font-family:Arial, sans-serif;font-size:14px;font-weight:normal;overflow:hidden;padding:10px 5px;word-break:normal;}\n",
    ".tg .tg-0pky{border-color:inherit;text-align:left;vertical-align:top}\n",
    "</style>\n",
    "<table class=\"tg\">\n",
    "<thead>\n",
    "  <tr>\n",
    "    <th class=\"tg-0pky\">source words&nbsp;&nbsp;&nbsp;&nbsp;&nbsp;&nbsp;&nbsp;&nbsp;&nbsp;&nbsp;&nbsp;&nbsp;            </th>\n",
    "    <th class=\"tg-0pky\">target words<br>+<br>human ranking  &nbsp;&nbsp;&nbsp;&nbsp;&nbsp;&nbsp;&nbsp;&nbsp;&nbsp;&nbsp;&nbsp;&nbsp;&nbsp;         </th>\n",
    "  </tr>\n",
    "</thead>\n",
    "<tbody>\n",
    "  <tr>\n",
    "    <td class=\"tg-0pky\">Paris</td>\n",
    "    <td class=\"tg-0pky\">1. France<br>2. croissant<br>3. Rome<br>4. civilization<br>5. sand<br>6. orthodontist</td>\n",
    "  </tr>\n",
    "  <tr>\n",
    "    <td class=\"tg-0pky\">magic</td>\n",
    "    <td class=\"tg-0pky\">1. illusion<br>2. black<br>3. rabbit<br>4.nice<br>5. rice<br>6. sad</td>\n",
    "  </tr>\n",
    "  <tr>\n",
    "    <td class=\"tg-0pky\">food</td>\n",
    "    <td class=\"tg-0pky\">1. pizza<br>2. water<br>3. hot<br>4. bar<br>5. happy<br>6. machine</td>\n",
    "  </tr>\n",
    "  <tr>\n",
    "    <td class=\"tg-0pky\">sleep</td>\n",
    "    <td class=\"tg-0pky\">1. night<br>2. nightmare<br>3. pillow<br>4. brother<br>5. broken<br>6. rave</td>\n",
    "  </tr>\n",
    "  <tr>\n",
    "    <td class=\"tg-0pky\">elegant</td>\n",
    "    <td class=\"tg-0pky\">1. suit<br>2. princess<br>3. funny<br>4. math<br>5. tattoo<br>6. alligator</td>\n",
    "  </tr>\n",
    "</tbody>\n",
    "</table>"
   ]
  },
  {
   "cell_type": "markdown",
   "metadata": {
    "id": "9XRcsmiVfO7b"
   },
   "source": [
    "**Implementation**<br><br>\n",
    "The function `cos_sim` takes as argument two vectors `a, b` and calculates their normalized dot product according to the formula:<br><br>\n",
    "$$ \\bf \\text{cos}(x,y) = \\frac{a}{\\lVert a \\rVert _2} \\cdot \\frac{b^T}{\\lVert b \\rVert _2} $$\n"
   ]
  },
  {
   "cell_type": "code",
   "execution_count": 5,
   "metadata": {
    "id": "122tifuvUTAN"
   },
   "outputs": [],
   "source": [
    "def cos_sim(a, b):\n",
    "    dot_product = np.matmul(a, b.T)\n",
    "    norm_a = np.linalg.norm(a) \n",
    "    norm_b = np.linalg.norm(b)\n",
    "    ret_val = dot_product / (norm_a * norm_b)\n",
    "    return ret_val"
   ]
  },
  {
   "cell_type": "markdown",
   "metadata": {},
   "source": [
    "So, for example, the vectors designated for \"Italy\" and \"pizza\" show to have a cosine similarity of ~0.16"
   ]
  },
  {
   "cell_type": "code",
   "execution_count": 6,
   "metadata": {
    "id": "jZnEj0svPXJR"
   },
   "outputs": [
    {
     "data": {
      "text/plain": [
       "0.15924986"
      ]
     },
     "execution_count": 6,
     "metadata": {},
     "output_type": "execute_result"
    }
   ],
   "source": [
    "italy = word_vectors.get_vector(\"italy\")\n",
    "pizza = word_vectors.get_vector(\"pizza\")\n",
    "cos_sim(pizza,italy)\n"
   ]
  },
  {
   "cell_type": "code",
   "execution_count": 7,
   "metadata": {
    "id": "zsUDLIlBzKah"
   },
   "outputs": [],
   "source": [
    "source_words = [\"paris\", \"magic\", \"food\", \"sleep\", \"elegant\"]\n",
    "words_ = {\"paris\": [(\"france\",1), (\"croissant\", 2), (\"civilization\",4), (\"orthodontist\",6), (\"rome\", 3), (\"sand\", 5) ], #tuple (word, rank)\n",
    "               \"magic\": [(\"rabbit\",3), (\"black\",2), (\"nice\",4), (\"rice\",5), (\"illusion\",1), (\"sad\",6)], \n",
    "               \"food\": [(\"pizza\",1), (\"bar\",4),( \"machine\",6), (\"water\",2), (\"happy\",5), (\"hot\",3)], \n",
    "               \"sleep\": [(\"brother\",4), (\"rave\",6), (\"pillow\",3), (\"night\",1),( \"nightmare\",2), (\"broken\",5)], \n",
    "               \"elegant\": [(\"alligator\",6), (\"princess\",2),( \"suit\",1), (\"tattoo\",5), (\"funny\",3), (\"mathematics\",4)] } "
   ]
  },
  {
   "cell_type": "markdown",
   "metadata": {
    "id": "DhQvuDL1fnfV"
   },
   "source": [
    "**Reporting and observations**"
   ]
  },
  {
   "cell_type": "markdown",
   "metadata": {},
   "source": [
    "In the following we display a set of five tables, each of which displays the cosine similarity computed with the function hereabove implemented and our human ranking on the right. In all cases but one the first three most similar words corresponds with words ranked in the first three places, just in slightly different order. Overall the cosine similarity reflects the expectation, and the only anomaly concern the word <b>\"magic\"</b>: in our expectation this word had a better relationship with the adjective <b>\"black\"</b>, but considering the source of the embeddings, namely, Google News, this is not surprising: it is quite rare to find article about black magic, in daily news, in 2022. It is worth noticing that among all source/target words, the maximum value reached is <b>~0.55</b> between <b>\"Paris\" and \"France\"</b>, as we expected a much higher value."
   ]
  },
  {
   "cell_type": "code",
   "execution_count": 8,
   "metadata": {
    "colab": {
     "base_uri": "https://localhost:8080/",
     "height": 1000
    },
    "id": "1mCjfvA010j6",
    "outputId": "dda1fdb5-f477-4e65-aae6-e91e31e1fe8b"
   },
   "outputs": [
    {
     "data": {
      "text/html": [
       "<div>\n",
       "<style scoped>\n",
       "    .dataframe tbody tr th:only-of-type {\n",
       "        vertical-align: middle;\n",
       "    }\n",
       "\n",
       "    .dataframe tbody tr th {\n",
       "        vertical-align: top;\n",
       "    }\n",
       "\n",
       "    .dataframe thead th {\n",
       "        text-align: right;\n",
       "    }\n",
       "</style>\n",
       "<table border=\"1\" class=\"dataframe\">\n",
       "  <thead>\n",
       "    <tr style=\"text-align: right;\">\n",
       "      <th></th>\n",
       "      <th>__</th>\n",
       "      <th>paris</th>\n",
       "      <th>human rank</th>\n",
       "    </tr>\n",
       "  </thead>\n",
       "  <tbody>\n",
       "    <tr>\n",
       "      <th>0</th>\n",
       "      <td>france</td>\n",
       "      <td>0.555080</td>\n",
       "      <td>1</td>\n",
       "    </tr>\n",
       "    <tr>\n",
       "      <th>4</th>\n",
       "      <td>rome</td>\n",
       "      <td>0.546584</td>\n",
       "      <td>3</td>\n",
       "    </tr>\n",
       "    <tr>\n",
       "      <th>1</th>\n",
       "      <td>croissant</td>\n",
       "      <td>0.299126</td>\n",
       "      <td>2</td>\n",
       "    </tr>\n",
       "    <tr>\n",
       "      <th>5</th>\n",
       "      <td>sand</td>\n",
       "      <td>0.159037</td>\n",
       "      <td>5</td>\n",
       "    </tr>\n",
       "    <tr>\n",
       "      <th>2</th>\n",
       "      <td>civilization</td>\n",
       "      <td>0.110888</td>\n",
       "      <td>4</td>\n",
       "    </tr>\n",
       "    <tr>\n",
       "      <th>3</th>\n",
       "      <td>orthodontist</td>\n",
       "      <td>0.079406</td>\n",
       "      <td>6</td>\n",
       "    </tr>\n",
       "  </tbody>\n",
       "</table>\n",
       "</div>"
      ],
      "text/plain": [
       "             __     paris  human rank\n",
       "0        france  0.555080           1\n",
       "4          rome  0.546584           3\n",
       "1     croissant  0.299126           2\n",
       "5          sand  0.159037           5\n",
       "2  civilization  0.110888           4\n",
       "3  orthodontist  0.079406           6"
      ]
     },
     "metadata": {},
     "output_type": "display_data"
    },
    {
     "name": "stdout",
     "output_type": "stream",
     "text": [
      "\n",
      "\n"
     ]
    },
    {
     "data": {
      "text/html": [
       "<div>\n",
       "<style scoped>\n",
       "    .dataframe tbody tr th:only-of-type {\n",
       "        vertical-align: middle;\n",
       "    }\n",
       "\n",
       "    .dataframe tbody tr th {\n",
       "        vertical-align: top;\n",
       "    }\n",
       "\n",
       "    .dataframe thead th {\n",
       "        text-align: right;\n",
       "    }\n",
       "</style>\n",
       "<table border=\"1\" class=\"dataframe\">\n",
       "  <thead>\n",
       "    <tr style=\"text-align: right;\">\n",
       "      <th></th>\n",
       "      <th>__</th>\n",
       "      <th>magic</th>\n",
       "      <th>human rank</th>\n",
       "    </tr>\n",
       "  </thead>\n",
       "  <tbody>\n",
       "    <tr>\n",
       "      <th>4</th>\n",
       "      <td>illusion</td>\n",
       "      <td>0.366176</td>\n",
       "      <td>1</td>\n",
       "    </tr>\n",
       "    <tr>\n",
       "      <th>0</th>\n",
       "      <td>rabbit</td>\n",
       "      <td>0.251940</td>\n",
       "      <td>3</td>\n",
       "    </tr>\n",
       "    <tr>\n",
       "      <th>2</th>\n",
       "      <td>nice</td>\n",
       "      <td>0.218269</td>\n",
       "      <td>4</td>\n",
       "    </tr>\n",
       "    <tr>\n",
       "      <th>1</th>\n",
       "      <td>black</td>\n",
       "      <td>0.171964</td>\n",
       "      <td>2</td>\n",
       "    </tr>\n",
       "    <tr>\n",
       "      <th>5</th>\n",
       "      <td>sad</td>\n",
       "      <td>0.136849</td>\n",
       "      <td>6</td>\n",
       "    </tr>\n",
       "    <tr>\n",
       "      <th>3</th>\n",
       "      <td>rice</td>\n",
       "      <td>0.063786</td>\n",
       "      <td>5</td>\n",
       "    </tr>\n",
       "  </tbody>\n",
       "</table>\n",
       "</div>"
      ],
      "text/plain": [
       "         __     magic  human rank\n",
       "4  illusion  0.366176           1\n",
       "0    rabbit  0.251940           3\n",
       "2      nice  0.218269           4\n",
       "1     black  0.171964           2\n",
       "5       sad  0.136849           6\n",
       "3      rice  0.063786           5"
      ]
     },
     "metadata": {},
     "output_type": "display_data"
    },
    {
     "name": "stdout",
     "output_type": "stream",
     "text": [
      "\n",
      "\n"
     ]
    },
    {
     "data": {
      "text/html": [
       "<div>\n",
       "<style scoped>\n",
       "    .dataframe tbody tr th:only-of-type {\n",
       "        vertical-align: middle;\n",
       "    }\n",
       "\n",
       "    .dataframe tbody tr th {\n",
       "        vertical-align: top;\n",
       "    }\n",
       "\n",
       "    .dataframe thead th {\n",
       "        text-align: right;\n",
       "    }\n",
       "</style>\n",
       "<table border=\"1\" class=\"dataframe\">\n",
       "  <thead>\n",
       "    <tr style=\"text-align: right;\">\n",
       "      <th></th>\n",
       "      <th>__</th>\n",
       "      <th>food</th>\n",
       "      <th>human rank</th>\n",
       "    </tr>\n",
       "  </thead>\n",
       "  <tbody>\n",
       "    <tr>\n",
       "      <th>0</th>\n",
       "      <td>pizza</td>\n",
       "      <td>0.443432</td>\n",
       "      <td>1</td>\n",
       "    </tr>\n",
       "    <tr>\n",
       "      <th>3</th>\n",
       "      <td>water</td>\n",
       "      <td>0.395679</td>\n",
       "      <td>2</td>\n",
       "    </tr>\n",
       "    <tr>\n",
       "      <th>5</th>\n",
       "      <td>hot</td>\n",
       "      <td>0.185422</td>\n",
       "      <td>3</td>\n",
       "    </tr>\n",
       "    <tr>\n",
       "      <th>1</th>\n",
       "      <td>bar</td>\n",
       "      <td>0.181046</td>\n",
       "      <td>4</td>\n",
       "    </tr>\n",
       "    <tr>\n",
       "      <th>4</th>\n",
       "      <td>happy</td>\n",
       "      <td>0.055477</td>\n",
       "      <td>5</td>\n",
       "    </tr>\n",
       "    <tr>\n",
       "      <th>2</th>\n",
       "      <td>machine</td>\n",
       "      <td>0.003741</td>\n",
       "      <td>6</td>\n",
       "    </tr>\n",
       "  </tbody>\n",
       "</table>\n",
       "</div>"
      ],
      "text/plain": [
       "        __      food  human rank\n",
       "0    pizza  0.443432           1\n",
       "3    water  0.395679           2\n",
       "5      hot  0.185422           3\n",
       "1      bar  0.181046           4\n",
       "4    happy  0.055477           5\n",
       "2  machine  0.003741           6"
      ]
     },
     "metadata": {},
     "output_type": "display_data"
    },
    {
     "name": "stdout",
     "output_type": "stream",
     "text": [
      "\n",
      "\n"
     ]
    },
    {
     "data": {
      "text/html": [
       "<div>\n",
       "<style scoped>\n",
       "    .dataframe tbody tr th:only-of-type {\n",
       "        vertical-align: middle;\n",
       "    }\n",
       "\n",
       "    .dataframe tbody tr th {\n",
       "        vertical-align: top;\n",
       "    }\n",
       "\n",
       "    .dataframe thead th {\n",
       "        text-align: right;\n",
       "    }\n",
       "</style>\n",
       "<table border=\"1\" class=\"dataframe\">\n",
       "  <thead>\n",
       "    <tr style=\"text-align: right;\">\n",
       "      <th></th>\n",
       "      <th>__</th>\n",
       "      <th>sleep</th>\n",
       "      <th>human rank</th>\n",
       "    </tr>\n",
       "  </thead>\n",
       "  <tbody>\n",
       "    <tr>\n",
       "      <th>2</th>\n",
       "      <td>pillow</td>\n",
       "      <td>0.366484</td>\n",
       "      <td>3</td>\n",
       "    </tr>\n",
       "    <tr>\n",
       "      <th>3</th>\n",
       "      <td>night</td>\n",
       "      <td>0.285409</td>\n",
       "      <td>1</td>\n",
       "    </tr>\n",
       "    <tr>\n",
       "      <th>4</th>\n",
       "      <td>nightmare</td>\n",
       "      <td>0.120137</td>\n",
       "      <td>2</td>\n",
       "    </tr>\n",
       "    <tr>\n",
       "      <th>1</th>\n",
       "      <td>rave</td>\n",
       "      <td>0.108205</td>\n",
       "      <td>6</td>\n",
       "    </tr>\n",
       "    <tr>\n",
       "      <th>0</th>\n",
       "      <td>brother</td>\n",
       "      <td>0.103987</td>\n",
       "      <td>4</td>\n",
       "    </tr>\n",
       "    <tr>\n",
       "      <th>5</th>\n",
       "      <td>broken</td>\n",
       "      <td>0.043387</td>\n",
       "      <td>5</td>\n",
       "    </tr>\n",
       "  </tbody>\n",
       "</table>\n",
       "</div>"
      ],
      "text/plain": [
       "          __     sleep  human rank\n",
       "2     pillow  0.366484           3\n",
       "3      night  0.285409           1\n",
       "4  nightmare  0.120137           2\n",
       "1       rave  0.108205           6\n",
       "0    brother  0.103987           4\n",
       "5     broken  0.043387           5"
      ]
     },
     "metadata": {},
     "output_type": "display_data"
    },
    {
     "name": "stdout",
     "output_type": "stream",
     "text": [
      "\n",
      "\n"
     ]
    },
    {
     "data": {
      "text/html": [
       "<div>\n",
       "<style scoped>\n",
       "    .dataframe tbody tr th:only-of-type {\n",
       "        vertical-align: middle;\n",
       "    }\n",
       "\n",
       "    .dataframe tbody tr th {\n",
       "        vertical-align: top;\n",
       "    }\n",
       "\n",
       "    .dataframe thead th {\n",
       "        text-align: right;\n",
       "    }\n",
       "</style>\n",
       "<table border=\"1\" class=\"dataframe\">\n",
       "  <thead>\n",
       "    <tr style=\"text-align: right;\">\n",
       "      <th></th>\n",
       "      <th>__</th>\n",
       "      <th>elegant</th>\n",
       "      <th>human rank</th>\n",
       "    </tr>\n",
       "  </thead>\n",
       "  <tbody>\n",
       "    <tr>\n",
       "      <th>4</th>\n",
       "      <td>funny</td>\n",
       "      <td>0.238420</td>\n",
       "      <td>3</td>\n",
       "    </tr>\n",
       "    <tr>\n",
       "      <th>1</th>\n",
       "      <td>princess</td>\n",
       "      <td>0.217093</td>\n",
       "      <td>2</td>\n",
       "    </tr>\n",
       "    <tr>\n",
       "      <th>2</th>\n",
       "      <td>suit</td>\n",
       "      <td>0.131944</td>\n",
       "      <td>1</td>\n",
       "    </tr>\n",
       "    <tr>\n",
       "      <th>0</th>\n",
       "      <td>alligator</td>\n",
       "      <td>0.126078</td>\n",
       "      <td>6</td>\n",
       "    </tr>\n",
       "    <tr>\n",
       "      <th>5</th>\n",
       "      <td>mathematics</td>\n",
       "      <td>0.067425</td>\n",
       "      <td>4</td>\n",
       "    </tr>\n",
       "    <tr>\n",
       "      <th>3</th>\n",
       "      <td>tattoo</td>\n",
       "      <td>0.028919</td>\n",
       "      <td>5</td>\n",
       "    </tr>\n",
       "  </tbody>\n",
       "</table>\n",
       "</div>"
      ],
      "text/plain": [
       "            __   elegant  human rank\n",
       "4        funny  0.238420           3\n",
       "1     princess  0.217093           2\n",
       "2         suit  0.131944           1\n",
       "0    alligator  0.126078           6\n",
       "5  mathematics  0.067425           4\n",
       "3       tattoo  0.028919           5"
      ]
     },
     "metadata": {},
     "output_type": "display_data"
    },
    {
     "name": "stdout",
     "output_type": "stream",
     "text": [
      "\n",
      "\n"
     ]
    }
   ],
   "source": [
    "for key, value in words_.items():\n",
    "    key_v = word_vectors.get_vector(key)\n",
    "    comp_results = pd.DataFrame(columns = ['__']+[key,\"human rank\"])\n",
    "\n",
    "    for word in value:\n",
    "        t = cos_sim(key_v,word_vectors.get_vector(word[0])) \n",
    "        comp_results.loc[len(comp_results)] = [word[0],t, word[1]]\n",
    "\n",
    "    comp_results = comp_results.sort_values(key, ascending=False)\n",
    "\n",
    "    display(comp_results)\n",
    "    print(\"\\n\")\n",
    "\n"
   ]
  },
  {
   "cell_type": "markdown",
   "metadata": {
    "id": "a-DrOxBmUMYB"
   },
   "source": [
    "# **Calculating nearest neighbors**\n",
    "In this phase, we retrieve the  𝑘=10  nearest neighbors using the word embedding model.<br><br>\n",
    "<b>Efficiency </b><br><br>\n",
    "To ensure a efficient calculation of the dot product we refashion the input via `np.newaxis` function: <br>\n",
    "First we define the numerator dot product operation; <i>\" the denominator p1 can be read like: make the vector vertical (:) and add a column dimension and p2 can be read like: add a row dimension, make the vector horizontal. This operation for p2 in theory is not necessary because p2 was already horizontal\"$^1$ <br><br> <small>$^1$[source](https://towardsdatascience.com/cosine-similarity-matrix-using-broadcasting-in-python-2b1998ab3ff3)</i> </small>"
   ]
  },
  {
   "cell_type": "code",
   "execution_count": 9,
   "metadata": {
    "id": "PGntlzE7QMj-"
   },
   "outputs": [],
   "source": [
    "def csm(A:ndarray,B:ndarray)->float: \n",
    "    dot_product=np.matmul(A,B.T)\n",
    "    p1= np.linalg.norm(A)#np.sqrt(np.sum(A**2,axis=1))[:,np.newaxis]\n",
    "    p2=np.sqrt(np.sum(B**2,axis=1))[np.newaxis,:]\n",
    "    ret_val = dot_product/(p1*p2)\n",
    "    return ret_val[0]\n"
   ]
  },
  {
   "cell_type": "markdown",
   "metadata": {},
   "source": [
    "**Overall implementation**\n",
    "<br><br>\n",
    "the implemented function `knn` takes a source vector, a set of target vectors, and the  𝑘  parameter, and returns the  𝑘  nearest neighbors together with two similarity scores: dot product and cosine similarity (implemented via `csm` function)."
   ]
  },
  {
   "cell_type": "code",
   "execution_count": 10,
   "metadata": {
    "id": "u0ZsHG0-v3E6"
   },
   "outputs": [],
   "source": [
    "def knn(source,target,k=10):  \n",
    "    r = csm(source, target)\n",
    "\n",
    "    cos_sim =np.argsort(r)[::-1]\n",
    "    dot = source @ target.T\n",
    "\n",
    "    index_dot = np.argsort(dot)[::-1]\n",
    "\n",
    "    return {\"dot product\":{\"order\": index_dot[0:k], \"value\": sorted(dot, reverse=True)[0:k]}, \"cosin\":{\"order\": cos_sim[0:k], \"value\": sorted(r, reverse = True)[0:k]} }"
   ]
  },
  {
   "cell_type": "markdown",
   "metadata": {},
   "source": [
    "**Reporting and observations**<br><br>\n",
    "In the following it is shown a table for each source word, the <b>rows</b> display:<br><br>\n",
    "-the rank order of target words produced by the metrics <b>[order]</b><br>\n",
    "-the similarity value of target words<b> [value]</b><br>\n",
    "-the target words <b>[words]</b><br><br>\n",
    "while the two <b>columns</b> concern respectively the dot product and the cosine similarity measures.<br>\n",
    "Not surprisingly we notice almosta a 1:1 correspondence in the outcome of the two measures. This is probably due to the fact that dot product, if normalized, actually corresponds to cosine similarity (this also explain why dot product has a wider output range than cosine similarity). The differences, to be found only in the case of the word <b>\"elegant\"</b>, can be explained by the observation that being <b>the only adjective</b> it is more versatile, i.e. it can be tied to a different selection of nouns, whereas nouns and verbs have a more pronounced semantic belonging between themselves. From a mathematical point of view, it can also be that differences depend by the fact that dot product takes into account the <b>lenghts and occurrences</b> of words, whereas cosine similarity is not magnitude sensitive."
   ]
  },
  {
   "cell_type": "code",
   "execution_count": 11,
   "metadata": {
    "colab": {
     "base_uri": "https://localhost:8080/",
     "height": 1000
    },
    "id": "PSrbkULKYz9z",
    "outputId": "6977688f-02d8-4915-f276-9a8b19ef562f"
   },
   "outputs": [
    {
     "name": "stdout",
     "output_type": "stream",
     "text": [
      "key:  paris\n"
     ]
    },
    {
     "data": {
      "text/html": [
       "<div>\n",
       "<style scoped>\n",
       "    .dataframe tbody tr th:only-of-type {\n",
       "        vertical-align: middle;\n",
       "    }\n",
       "\n",
       "    .dataframe tbody tr th {\n",
       "        vertical-align: top;\n",
       "    }\n",
       "\n",
       "    .dataframe thead th {\n",
       "        text-align: right;\n",
       "    }\n",
       "</style>\n",
       "<table border=\"1\" class=\"dataframe\">\n",
       "  <thead>\n",
       "    <tr style=\"text-align: right;\">\n",
       "      <th></th>\n",
       "      <th>dot product</th>\n",
       "      <th>cosin</th>\n",
       "    </tr>\n",
       "  </thead>\n",
       "  <tbody>\n",
       "    <tr>\n",
       "      <th>order</th>\n",
       "      <td>[0, 4, 1, 5, 2, 3]</td>\n",
       "      <td>[0, 4, 1, 5, 2, 3]</td>\n",
       "    </tr>\n",
       "    <tr>\n",
       "      <th>value</th>\n",
       "      <td>[6.7056293, 5.128788, 3.4958282, 1.5757673, 1.2555757, 0.97523594]</td>\n",
       "      <td>[0.5550795, 0.5465838, 0.29912594, 0.1590366, 0.11088846, 0.07940605]</td>\n",
       "    </tr>\n",
       "    <tr>\n",
       "      <th>words</th>\n",
       "      <td>[france, rome, croissant, sand, civilization, orthodontist]</td>\n",
       "      <td>[france, rome, croissant, sand, civilization, orthodontist]</td>\n",
       "    </tr>\n",
       "  </tbody>\n",
       "</table>\n",
       "</div>"
      ],
      "text/plain": [
       "                                                              dot product  \\\n",
       "order                                                  [0, 4, 1, 5, 2, 3]   \n",
       "value  [6.7056293, 5.128788, 3.4958282, 1.5757673, 1.2555757, 0.97523594]   \n",
       "words         [france, rome, croissant, sand, civilization, orthodontist]   \n",
       "\n",
       "                                                                       cosin  \n",
       "order                                                     [0, 4, 1, 5, 2, 3]  \n",
       "value  [0.5550795, 0.5465838, 0.29912594, 0.1590366, 0.11088846, 0.07940605]  \n",
       "words            [france, rome, croissant, sand, civilization, orthodontist]  "
      ]
     },
     "metadata": {},
     "output_type": "display_data"
    },
    {
     "name": "stdout",
     "output_type": "stream",
     "text": [
      "\n",
      "\n",
      "\n",
      "\n",
      "key:  magic\n"
     ]
    },
    {
     "data": {
      "text/html": [
       "<div>\n",
       "<style scoped>\n",
       "    .dataframe tbody tr th:only-of-type {\n",
       "        vertical-align: middle;\n",
       "    }\n",
       "\n",
       "    .dataframe tbody tr th {\n",
       "        vertical-align: top;\n",
       "    }\n",
       "\n",
       "    .dataframe thead th {\n",
       "        text-align: right;\n",
       "    }\n",
       "</style>\n",
       "<table border=\"1\" class=\"dataframe\">\n",
       "  <thead>\n",
       "    <tr style=\"text-align: right;\">\n",
       "      <th></th>\n",
       "      <th>dot product</th>\n",
       "      <th>cosin</th>\n",
       "    </tr>\n",
       "  </thead>\n",
       "  <tbody>\n",
       "    <tr>\n",
       "      <th>order</th>\n",
       "      <td>[4, 0, 2, 1, 5, 3]</td>\n",
       "      <td>[4, 0, 2, 1, 5, 3]</td>\n",
       "    </tr>\n",
       "    <tr>\n",
       "      <th>value</th>\n",
       "      <td>[3.170901, 2.0277839, 1.7034643, 1.2302322, 1.1537026, 0.6292146]</td>\n",
       "      <td>[0.36617595, 0.25194007, 0.2182694, 0.17196375, 0.13684875, 0.063786276]</td>\n",
       "    </tr>\n",
       "    <tr>\n",
       "      <th>words</th>\n",
       "      <td>[illusion, rabbit, nice, black, sad, rice]</td>\n",
       "      <td>[illusion, rabbit, nice, black, sad, rice]</td>\n",
       "    </tr>\n",
       "  </tbody>\n",
       "</table>\n",
       "</div>"
      ],
      "text/plain": [
       "                                                             dot product  \\\n",
       "order                                                 [4, 0, 2, 1, 5, 3]   \n",
       "value  [3.170901, 2.0277839, 1.7034643, 1.2302322, 1.1537026, 0.6292146]   \n",
       "words                         [illusion, rabbit, nice, black, sad, rice]   \n",
       "\n",
       "                                                                          cosin  \n",
       "order                                                        [4, 0, 2, 1, 5, 3]  \n",
       "value  [0.36617595, 0.25194007, 0.2182694, 0.17196375, 0.13684875, 0.063786276]  \n",
       "words                                [illusion, rabbit, nice, black, sad, rice]  "
      ]
     },
     "metadata": {},
     "output_type": "display_data"
    },
    {
     "name": "stdout",
     "output_type": "stream",
     "text": [
      "\n",
      "\n",
      "\n",
      "\n",
      "key:  food\n"
     ]
    },
    {
     "data": {
      "text/html": [
       "<div>\n",
       "<style scoped>\n",
       "    .dataframe tbody tr th:only-of-type {\n",
       "        vertical-align: middle;\n",
       "    }\n",
       "\n",
       "    .dataframe tbody tr th {\n",
       "        vertical-align: top;\n",
       "    }\n",
       "\n",
       "    .dataframe thead th {\n",
       "        text-align: right;\n",
       "    }\n",
       "</style>\n",
       "<table border=\"1\" class=\"dataframe\">\n",
       "  <thead>\n",
       "    <tr style=\"text-align: right;\">\n",
       "      <th></th>\n",
       "      <th>dot product</th>\n",
       "      <th>cosin</th>\n",
       "    </tr>\n",
       "  </thead>\n",
       "  <tbody>\n",
       "    <tr>\n",
       "      <th>order</th>\n",
       "      <td>[0, 3, 5, 1, 4, 2]</td>\n",
       "      <td>[0, 3, 5, 1, 4, 2]</td>\n",
       "    </tr>\n",
       "    <tr>\n",
       "      <th>value</th>\n",
       "      <td>[3.7765813, 2.7387886, 1.3421888, 1.2980336, 0.36545038, 0.026318029]</td>\n",
       "      <td>[0.44343227, 0.39567885, 0.1854218, 0.1810458, 0.055477098, 0.0037409926]</td>\n",
       "    </tr>\n",
       "    <tr>\n",
       "      <th>words</th>\n",
       "      <td>[pizza, water, hot, bar, happy, machine]</td>\n",
       "      <td>[pizza, water, hot, bar, happy, machine]</td>\n",
       "    </tr>\n",
       "  </tbody>\n",
       "</table>\n",
       "</div>"
      ],
      "text/plain": [
       "                                                                 dot product  \\\n",
       "order                                                     [0, 3, 5, 1, 4, 2]   \n",
       "value  [3.7765813, 2.7387886, 1.3421888, 1.2980336, 0.36545038, 0.026318029]   \n",
       "words                               [pizza, water, hot, bar, happy, machine]   \n",
       "\n",
       "                                                                           cosin  \n",
       "order                                                         [0, 3, 5, 1, 4, 2]  \n",
       "value  [0.44343227, 0.39567885, 0.1854218, 0.1810458, 0.055477098, 0.0037409926]  \n",
       "words                                   [pizza, water, hot, bar, happy, machine]  "
      ]
     },
     "metadata": {},
     "output_type": "display_data"
    },
    {
     "name": "stdout",
     "output_type": "stream",
     "text": [
      "\n",
      "\n",
      "\n",
      "\n",
      "key:  sleep\n"
     ]
    },
    {
     "data": {
      "text/html": [
       "<div>\n",
       "<style scoped>\n",
       "    .dataframe tbody tr th:only-of-type {\n",
       "        vertical-align: middle;\n",
       "    }\n",
       "\n",
       "    .dataframe tbody tr th {\n",
       "        vertical-align: top;\n",
       "    }\n",
       "\n",
       "    .dataframe thead th {\n",
       "        text-align: right;\n",
       "    }\n",
       "</style>\n",
       "<table border=\"1\" class=\"dataframe\">\n",
       "  <thead>\n",
       "    <tr style=\"text-align: right;\">\n",
       "      <th></th>\n",
       "      <th>dot product</th>\n",
       "      <th>cosin</th>\n",
       "    </tr>\n",
       "  </thead>\n",
       "  <tbody>\n",
       "    <tr>\n",
       "      <th>order</th>\n",
       "      <td>[2, 3, 4, 1, 0, 5]</td>\n",
       "      <td>[2, 3, 4, 1, 0, 5]</td>\n",
       "    </tr>\n",
       "    <tr>\n",
       "      <th>value</th>\n",
       "      <td>[3.830201, 1.9355688, 1.18206, 1.0496868, 0.90746963, 0.38045508]</td>\n",
       "      <td>[0.36648425, 0.28540924, 0.12013676, 0.10820493, 0.10398727, 0.0433865]</td>\n",
       "    </tr>\n",
       "    <tr>\n",
       "      <th>words</th>\n",
       "      <td>[pillow, night, nightmare, rave, brother, broken]</td>\n",
       "      <td>[pillow, night, nightmare, rave, brother, broken]</td>\n",
       "    </tr>\n",
       "  </tbody>\n",
       "</table>\n",
       "</div>"
      ],
      "text/plain": [
       "                                                             dot product  \\\n",
       "order                                                 [2, 3, 4, 1, 0, 5]   \n",
       "value  [3.830201, 1.9355688, 1.18206, 1.0496868, 0.90746963, 0.38045508]   \n",
       "words                  [pillow, night, nightmare, rave, brother, broken]   \n",
       "\n",
       "                                                                         cosin  \n",
       "order                                                       [2, 3, 4, 1, 0, 5]  \n",
       "value  [0.36648425, 0.28540924, 0.12013676, 0.10820493, 0.10398727, 0.0433865]  \n",
       "words                        [pillow, night, nightmare, rave, brother, broken]  "
      ]
     },
     "metadata": {},
     "output_type": "display_data"
    },
    {
     "name": "stdout",
     "output_type": "stream",
     "text": [
      "\n",
      "\n",
      "\n",
      "\n",
      "key:  elegant\n"
     ]
    },
    {
     "data": {
      "text/html": [
       "<div>\n",
       "<style scoped>\n",
       "    .dataframe tbody tr th:only-of-type {\n",
       "        vertical-align: middle;\n",
       "    }\n",
       "\n",
       "    .dataframe tbody tr th {\n",
       "        vertical-align: top;\n",
       "    }\n",
       "\n",
       "    .dataframe thead th {\n",
       "        text-align: right;\n",
       "    }\n",
       "</style>\n",
       "<table border=\"1\" class=\"dataframe\">\n",
       "  <thead>\n",
       "    <tr style=\"text-align: right;\">\n",
       "      <th></th>\n",
       "      <th>dot product</th>\n",
       "      <th>cosin</th>\n",
       "    </tr>\n",
       "  </thead>\n",
       "  <tbody>\n",
       "    <tr>\n",
       "      <th>order</th>\n",
       "      <td>[1, 4, 0, 2, 5, 3]</td>\n",
       "      <td>[4, 1, 2, 0, 5, 3]</td>\n",
       "    </tr>\n",
       "    <tr>\n",
       "      <th>value</th>\n",
       "      <td>[2.0062206, 1.8845644, 1.3815546, 1.0915424, 0.57979035, 0.3136271]</td>\n",
       "      <td>[0.23842005, 0.21709342, 0.13194413, 0.12607822, 0.067424625, 0.028918523]</td>\n",
       "    </tr>\n",
       "    <tr>\n",
       "      <th>words</th>\n",
       "      <td>[princess, funny, alligator, suit, mathematics, tattoo]</td>\n",
       "      <td>[funny, princess, suit, alligator, mathematics, tattoo]</td>\n",
       "    </tr>\n",
       "  </tbody>\n",
       "</table>\n",
       "</div>"
      ],
      "text/plain": [
       "                                                               dot product  \\\n",
       "order                                                   [1, 4, 0, 2, 5, 3]   \n",
       "value  [2.0062206, 1.8845644, 1.3815546, 1.0915424, 0.57979035, 0.3136271]   \n",
       "words              [princess, funny, alligator, suit, mathematics, tattoo]   \n",
       "\n",
       "                                                                            cosin  \n",
       "order                                                          [4, 1, 2, 0, 5, 3]  \n",
       "value  [0.23842005, 0.21709342, 0.13194413, 0.12607822, 0.067424625, 0.028918523]  \n",
       "words                     [funny, princess, suit, alligator, mathematics, tattoo]  "
      ]
     },
     "metadata": {},
     "output_type": "display_data"
    },
    {
     "name": "stdout",
     "output_type": "stream",
     "text": [
      "\n",
      "\n",
      "\n",
      "\n"
     ]
    }
   ],
   "source": [
    "for key, value in words_.items():\n",
    "    target = []\n",
    "    key_v = word_vectors.get_vector(key) #wv\n",
    "    for i in value:\n",
    "        value_v = word_vectors.get_vector(i[0])\n",
    "        target.append(value_v)\n",
    "\n",
    "    target = np.array(target)\n",
    "    ret_val =knn(key_v,target )\n",
    "    words_c = []\n",
    "    for j in ret_val[\"cosin\"][\"order\"]:\n",
    "        words_c.append(value[j][0])\n",
    "  \n",
    "    ret_val[\"cosin\"][\"words\"] = words_c\n",
    "  \n",
    "    words_d = []\n",
    "    for j in ret_val[\"dot product\"][\"order\"]:\n",
    "        words_d.append(value[j][0])\n",
    "  \n",
    "    ret_val[\"dot product\"][\"words\"] = words_d\n",
    "\n",
    "    df = pd.DataFrame.from_dict(ret_val)\n",
    "\n",
    "    print(\"key: \", key)\n",
    "    display(df)\n",
    "\n",
    "\n",
    "    print(\"\\n\\n\\n\")\n",
    "\n",
    "  "
   ]
  },
  {
   "attachments": {},
   "cell_type": "markdown",
   "metadata": {},
   "source": [
    "# CLASSIFICATION WITH WORD EMBEDDING\n"
   ]
  },
  {
   "cell_type": "markdown",
   "metadata": {},
   "source": [
    "First thing first, we retrieve and use the same code of Assignment 1 to preprocess the three datasets and get our bag of words."
   ]
  },
  {
   "cell_type": "code",
   "execution_count": 12,
   "metadata": {
    "colab": {
     "base_uri": "https://localhost:8080/"
    },
    "id": "VlLCUvvlpdyP",
    "outputId": "5c39555d-8455-4384-cc91-9b57efe9baec",
    "scrolled": true
   },
   "outputs": [
    {
     "name": "stdout",
     "output_type": "stream",
     "text": [
      "2.8455801010131836\n"
     ]
    }
   ],
   "source": [
    "start = time.time()\n",
    "def cleaning_pipeline(df):\n",
    "    e_stopwords = stopwords.words('english')\n",
    "    train_list = df[\"text\"].values.tolist()\n",
    "    words_without_stopw = []\n",
    "    for sentence in train_list:\n",
    "        temp = []\n",
    "        for word in sentence.lower().split():\n",
    "            if word not in e_stopwords and  word.isalpha():\n",
    "                temp.append(word)\n",
    "        words_without_stopw.append(temp)\n",
    "    ret_df = pd.DataFrame({\"raw_words\": words_without_stopw, \"label\": df.label.values})\n",
    "    return ret_df\n",
    "\n",
    "def get_boW(l_of_words,k=100):\n",
    "    words = set()\n",
    "    for i in l_of_words:\n",
    "        counter = Counter(i).most_common(k)\n",
    "        words.update([i[0] for i in counter])\n",
    "    return words\n",
    "#------------------------------------------------------------#\n",
    "SPLITS = ['train', 'test', \"validation\"]\n",
    "datasets = { }\n",
    "\n",
    "#Load the train, validation, and test sets.\n",
    "path = \"nlp2022_23_data/thedeep.subset.{}.txt\"\n",
    "csv_header = ['idx', 'text', 'label']\n",
    "for split in SPLITS:\n",
    "        datasets[split] = {}\n",
    "        datasets[split]['df'] = cleaning_pipeline(pd.read_csv(path.format(split), names = csv_header))\n",
    "\n",
    "words = get_boW(datasets[\"train\"][\"df\"][\"raw_words\"].values)\n",
    "end = time.time()\n",
    "print(end - start)"
   ]
  },
  {
   "cell_type": "markdown",
   "metadata": {
    "id": "9iSQbLz2o8oD"
   },
   "source": [
    "**Map word embeddings to dictionary words**<br><br>\n",
    "For every word in the dictionary we recover the corresponding word embedding from the pre-trained model. <b>In 6871 instances (~31.7%) there was no match</b>, so the missing word-vector has been randomly initialized with values between the minimum and maximum in the word embedding."
   ]
  },
  {
   "cell_type": "code",
   "execution_count": 13,
   "metadata": {
    "colab": {
     "base_uri": "https://localhost:8080/",
     "height": 927
    },
    "id": "m8oPr_J6maj9",
    "outputId": "9ac0a4be-a6f6-448e-ec93-78511e4cb86a"
   },
   "outputs": [
    {
     "name": "stdout",
     "output_type": "stream",
     "text": [
      "missing word-vector representations: 6871\n"
     ]
    }
   ],
   "source": [
    "dict_ = {}\n",
    "count = 0\n",
    "temp = []\n",
    "min_ = 0\n",
    "max_ = 0\n",
    "for word in list(words):\n",
    "    try:\n",
    "        embedd_w = word_vectors.get_vector(word)\n",
    "        if min(embedd_w) < min_:\n",
    "            min_ = min(embedd_w)\n",
    "        if max(embedd_w) > max_:\n",
    "            max_ = max(embedd_w)\n",
    "        dict_[word] = embedd_w\n",
    "    \n",
    "    except:\n",
    "        temp.append(word)\n",
    "        count += 1\n",
    "\n",
    "for word in temp:\n",
    "    dict_[word] = np.random.uniform(min_, max_, 300) \n",
    "\n",
    "   \n",
    "print(f'missing word-vector representations: {count}')"
   ]
  },
  {
   "cell_type": "markdown",
   "metadata": {},
   "source": [
    "**Document embedding as the average of word embeddings**<br>\n",
    "In the following we implemented the function `doc_representation` which takes as input:<br> `df`: a dataframe containing the 21689 documents;<br>`words`: a list of words to fetch the corresponding vector representation. By iterating over them it produces a representation of the whole document space based on the mean of word embeddings, as described thereunder:"
   ]
  },
  {
   "attachments": {
    "image.png": {
     "image/png": "[encoded data removed]"
    }
   },
   "cell_type": "markdown",
   "metadata": {},
   "source": [
    "![image.png](attachment:image.png)"
   ]
  },
  {
   "cell_type": "code",
   "execution_count": 14,
   "metadata": {},
   "outputs": [],
   "source": [
    "def doc_representation(df,words):\n",
    "    d = df[\"raw_words\"].values.tolist() \n",
    "    doc_repr = [] \n",
    "    for i in d:\n",
    "        single_doc = []\n",
    "        w = words.intersection(i) \n",
    "        \n",
    "        for word in w:           \n",
    "            single_doc.append(dict_.get(word))\n",
    "        \n",
    "        \n",
    "        if len(w) > 0:\n",
    "            \n",
    "            single_doc = np.mean(single_doc, axis=0)\n",
    "            doc_repr.append(single_doc)\n",
    "        else:\n",
    "            doc_repr.append(np.repeat(0, 300))\n",
    "    ret_df = pd.DataFrame()\n",
    "    ret_df[\"representation\"] = doc_repr\n",
    "    ret_df[\"label\"] = df[\"label\"]  \n",
    "    return ret_df"
   ]
  },
  {
   "cell_type": "code",
   "execution_count": 15,
   "metadata": {},
   "outputs": [
    {
     "name": "stdout",
     "output_type": "stream",
     "text": [
      "0.6124680042266846\n"
     ]
    }
   ],
   "source": [
    "start = time.time()\n",
    "for split in SPLITS:\n",
    "    datasets[split][\"embeddings\"] = doc_representation(datasets[split][\"df\"],words) \n",
    "end = time.time()\n",
    "print(end - start)"
   ]
  },
  {
   "cell_type": "markdown",
   "metadata": {
    "pycharm": {
     "name": "#%% md\n"
    }
   },
   "source": [
    "## **Classification and evaluation**\n",
    "We applied four* classification algorithms which are best suited for a multilabe classification task, i.e.:<br><br><b>\n",
    "-K-nearest neighbors algorithm (k-NN)<br>\n",
    "-Random Forest (RF)<br>\n",
    "-Multi Layer Perceptron (MLP)<br>\n",
    "-Singular Value Decomposition (SVD)<br><br></b>\n",
    "We first used the validation set to find the optimal hyperparameters, then deployed the models on the test set.\n",
    "It is worth mentioning that a previous version of this project use the embedding of GloVe Twitter, but we choose to change it since the one actually utilized hel way higher accuracy.<br><br>\n",
    "<i>*not three because we suspect something went wrong with MLP since it helds the same accuracy for very different hyperparameters</i>"
   ]
  },
  {
   "cell_type": "markdown",
   "metadata": {},
   "source": [
    "### K-nearest neighbors algorithm (k-NN)\n",
    "**Validation set**<br>\n",
    "After an initial choiche of hyperparameter in the range 5 to 100 we downsized the best choices between 20 and 30 neighbours. <br>One of the best choiche is 22."
   ]
  },
  {
   "cell_type": "code",
   "execution_count": 16,
   "metadata": {},
   "outputs": [
    {
     "name": "stdout",
     "output_type": "stream",
     "text": [
      "accuracy of KNN with 20 neighbours on validation set: 0.6590909090909091\n",
      "accuracy of KNN with 22 neighbours on validation set: 0.6610169491525424\n",
      "accuracy of KNN with 25 neighbours on validation set: 0.6579352850539292\n",
      "accuracy of KNN with 27 neighbours on validation set: 0.6544684129429892\n",
      "accuracy of KNN with 30 neighbours on validation set: 0.6536979969183359\n"
     ]
    }
   ],
   "source": [
    "neighbours = [20, 22, 25, 27, 30]\n",
    "\n",
    "for nn in neighbours:\n",
    "    \n",
    "    model = KNeighborsClassifier(n_neighbors=nn) \n",
    "    y = datasets[\"train\"][\"embeddings\"][\"label\"].values.tolist()\n",
    "    X_train = datasets[\"train\"][\"embeddings\"][\"representation\"].values.tolist()\n",
    "    \n",
    "    model = model.fit(X_train, y)\n",
    "    \n",
    "    X_validation = datasets[\"validation\"][\"embeddings\"][\"representation\"].values.tolist()\n",
    "    y_pred = model.predict(X_validation)\n",
    "    y_true = datasets[\"validation\"][\"embeddings\"][\"label\"].values.tolist()\n",
    "    \n",
    "    acc= accuracy_score(y_true, y_pred)\n",
    "    print(f\"accuracy of KNN with {nn} neighbours on validation set: {acc}\")"
   ]
  },
  {
   "cell_type": "markdown",
   "metadata": {},
   "source": [
    "**Test set**"
   ]
  },
  {
   "cell_type": "code",
   "execution_count": 17,
   "metadata": {
    "scrolled": false
   },
   "outputs": [
    {
     "name": "stdout",
     "output_type": "stream",
     "text": [
      "accuracy of NKK on test-set: 0.6716763005780347\n"
     ]
    }
   ],
   "source": [
    "model = KNeighborsClassifier(n_neighbors=22)\n",
    "y = datasets[\"train\"][\"embeddings\"][\"label\"].values.tolist()\n",
    "X_train = datasets[\"train\"][\"embeddings\"][\"representation\"].values.tolist()\n",
    "\n",
    "model = model.fit(X_train, y)\n",
    "\n",
    "X_test = datasets[\"test\"][\"embeddings\"][\"representation\"].values.tolist()\n",
    "y_pred = model.predict(X_test)\n",
    "y_true = datasets[\"test\"][\"embeddings\"][\"label\"].values.tolist()\n",
    "    \n",
    "acc = accuracy_score(y_true, y_pred)\n",
    "print(f\"accuracy of NKK on test-set: {acc}\")"
   ]
  },
  {
   "cell_type": "markdown",
   "metadata": {},
   "source": [
    "### Random Forest\n",
    "**Validation set**<br>\n",
    "Best parameter for number of estimator: 200"
   ]
  },
  {
   "cell_type": "code",
   "execution_count": 18,
   "metadata": {},
   "outputs": [
    {
     "name": "stdout",
     "output_type": "stream",
     "text": [
      "accuracy of Random Forest with 35 estimators on validation set: 0.6047765793528506\n",
      "accuracy of Random Forest with 55 estimators on validation set: 0.6221109399075501\n",
      "accuracy of Random Forest with 70 estimators on validation set: 0.6224961479198767\n",
      "accuracy of Random Forest with 100 estimators on validation set: 0.6251926040061633\n",
      "accuracy of Random Forest with 200 estimators on validation set: 0.6336671802773498\n"
     ]
    }
   ],
   "source": [
    "estimators= [35, 55, 70, 100, 200]\n",
    "\n",
    "for num in estimators:\n",
    "    \n",
    "    model = RandomForestClassifier(n_estimators= num)\n",
    "    y = datasets[\"train\"][\"embeddings\"][\"label\"].values.tolist()\n",
    "    X_train = datasets[\"train\"][\"embeddings\"][\"representation\"].values.tolist()\n",
    "    \n",
    "    model = model.fit(X_train, y)\n",
    "    \n",
    "    X_validation = datasets[\"validation\"][\"embeddings\"][\"representation\"].values.tolist()\n",
    "    y_pred = model.predict(X_validation)\n",
    "    y_true = datasets[\"validation\"][\"embeddings\"][\"label\"].values.tolist()\n",
    "    \n",
    "    acc = accuracy_score(y_true, y_pred)\n",
    "    print(f\"accuracy of Random Forest with {num} estimators on validation set: {acc}\")"
   ]
  },
  {
   "cell_type": "markdown",
   "metadata": {},
   "source": [
    "**Test set**"
   ]
  },
  {
   "cell_type": "code",
   "execution_count": 28,
   "metadata": {},
   "outputs": [
    {
     "name": "stdout",
     "output_type": "stream",
     "text": [
      "accuracy of Random Forest on test-set: 0.6385356454720617\n"
     ]
    }
   ],
   "source": [
    "model = RandomForestClassifier(n_estimators=100)\n",
    "y = datasets[\"train\"][\"embeddings\"][\"label\"].values.tolist()\n",
    "X_train = datasets[\"train\"][\"embeddings\"][\"representation\"].values.tolist()\n",
    "\n",
    "model = model.fit(X_train, y)\n",
    "\n",
    "X_test = datasets[\"test\"][\"embeddings\"][\"representation\"].values.tolist()\n",
    "y_pred = model.predict(X_test)\n",
    "y_true = datasets[\"test\"][\"embeddings\"][\"label\"].values.tolist()\n",
    "    \n",
    "acc = accuracy_score(y_true, y_pred)\n",
    "print(f\"accuracy of Random Forest on test-set: {acc}\")"
   ]
  },
  {
   "cell_type": "markdown",
   "metadata": {},
   "source": [
    "### Multi-Layer Perceptron\n",
    "**Validation set**<br>\n",
    "Increasing the number of hidden layers showed to be not as useful as increasing the number of neurons. <br>\n",
    "All parameters seems to held the same accuracy, furthermore the accuracy on the test-set is suspiciously higher than on validation set, hinting a case of overfitting."
   ]
  },
  {
   "cell_type": "code",
   "execution_count": 20,
   "metadata": {},
   "outputs": [
    {
     "name": "stdout",
     "output_type": "stream",
     "text": [
      "accuracy of Multi Layer Perceptron with (25, 50) hidden units on validation set: 0.6458574181117533\n",
      "accuracy of Multi Layer Perceptron with (25,) hidden units on validation set: 0.6458574181117533\n",
      "accuracy of Multi Layer Perceptron with (50,) hidden units on validation set: 0.6458574181117533\n",
      "accuracy of Multi Layer Perceptron with (100,) hidden units on validation set: 0.6458574181117533\n",
      "accuracy of Multi Layer Perceptron with (300,) hidden units on validation set: 0.6458574181117533\n",
      "accuracy of Multi Layer Perceptron with (1000,) hidden units on validation set: 0.6458574181117533\n"
     ]
    }
   ],
   "source": [
    "layer_size= [(25,50), (25,), (50,), (100,), (300,), (1000,)]\n",
    "\n",
    "for num in layer_size:\n",
    "    \n",
    "    model = MLPClassifier(hidden_layer_sizes= num)\n",
    "    y = datasets[\"train\"][\"embeddings\"][\"label\"].values.tolist()\n",
    "    X_train = datasets[\"train\"][\"embeddings\"][\"representation\"].values.tolist()\n",
    "    \n",
    "    model = model.fit(X_train, y)\n",
    "    \n",
    "    X_validation = datasets[\"validation\"][\"embeddings\"][\"representation\"].values.tolist()\n",
    "    y_pred = model.predict(X_validation)\n",
    "    y_true = datasets[\"validation\"][\"embeddings\"][\"label\"].values.tolist()\n",
    "    \n",
    "    acc_ = accuracy_score(y_true, y_pred)\n",
    "    print(f\"accuracy of Multi Layer Perceptron with {num} hidden units on validation set: {acc}\")\n"
   ]
  },
  {
   "cell_type": "markdown",
   "metadata": {},
   "source": [
    "**Test set**"
   ]
  },
  {
   "cell_type": "code",
   "execution_count": 21,
   "metadata": {},
   "outputs": [
    {
     "name": "stdout",
     "output_type": "stream",
     "text": [
      "accuracy of Multi Layer Perceptron on test-set: 0.7526011560693642\n"
     ]
    }
   ],
   "source": [
    "model = MLPClassifier(hidden_layer_sizes= num)\n",
    "y = datasets[\"train\"][\"embeddings\"][\"label\"].values.tolist()\n",
    "X_train = datasets[\"train\"][\"embeddings\"][\"representation\"].values.tolist()\n",
    "\n",
    "model = model.fit(X_train, y)\n",
    "\n",
    "X_test = datasets[\"test\"][\"embeddings\"][\"representation\"].values.tolist()\n",
    "y_pred = model.predict(X_test)\n",
    "y_true = datasets[\"test\"][\"embeddings\"][\"label\"].values.tolist()\n",
    "    \n",
    "acc = accuracy_score(y_true, y_pred)\n",
    "print(f\"accuracy of Multi Layer Perceptron on test-set: {acc}\")"
   ]
  },
  {
   "cell_type": "markdown",
   "metadata": {},
   "source": [
    "### Singular Value Decomposition (SVD)\n",
    "**Validation set**<br>\n",
    "Assignment 1 revealed an imbalance in the data, therefore SVD was implemented with higher weights for the classes less represented."
   ]
  },
  {
   "cell_type": "code",
   "execution_count": 42,
   "metadata": {},
   "outputs": [],
   "source": [
    "c_weights = {0:.2, 2:.1, 3:.1, 4:.0, 5:0, 6:.2, 7:.2, 8:.1, 9:0, 10:.0, 11:.0}"
   ]
  },
  {
   "attachments": {
    "image.png": {
     "image/png": "[encoded data removed]"
    }
   },
   "cell_type": "markdown",
   "metadata": {},
   "source": [
    "![image.png](attachment:image.png)"
   ]
  },
  {
   "cell_type": "code",
   "execution_count": 49,
   "metadata": {},
   "outputs": [
    {
     "name": "stdout",
     "output_type": "stream",
     "text": [
      "accuracy of SVD on test-set: 0.6385356454720617\n"
     ]
    }
   ],
   "source": [
    "model= svm.SVC(class_weight=c_weights)\n",
    "y = datasets[\"train\"][\"embeddings\"][\"label\"].values.tolist()\n",
    "X_train = datasets[\"train\"][\"embeddings\"][\"representation\"].values.tolist()\n",
    "\n",
    "model = model.fit(X_train, y)\n",
    "\n",
    "X_validation = datasets[\"test\"][\"embeddings\"][\"representation\"].values.tolist()\n",
    "y_pred = model.predict(X_validation)\n",
    "y_true = datasets[\"test\"][\"embeddings\"][\"label\"].values.tolist()\n",
    "\n",
    "acc_ = accuracy_score(y_true, y_pred)\n",
    "print(f\"accuracy of SVD on test-set: {acc}\")"
   ]
  },
  {
   "cell_type": "code",
   "execution_count": null,
   "metadata": {
    "id": "0KKsmhp8vZyQ"
   },
   "outputs": [],
   "source": []
  },
  {
   "cell_type": "code",
   "execution_count": null,
   "metadata": {},
   "outputs": [],
   "source": []
  }
 ],
 "metadata": {
  "colab": {
   "provenance": []
  },
  "kernelspec": {
   "display_name": "Python 3 (ipykernel)",
   "language": "python",
   "name": "python3"
  },
  "language_info": {
   "codemirror_mode": {
    "name": "ipython",
    "version": 3
   },
   "file_extension": ".py",
   "mimetype": "text/x-python",
   "name": "python",
   "nbconvert_exporter": "python",
   "pygments_lexer": "ipython3",
   "version": "3.8.16"
  }
 },
 "nbformat": 4,
 "nbformat_minor": 1
}
