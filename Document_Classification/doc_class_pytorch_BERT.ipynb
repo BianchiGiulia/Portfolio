{
 "cells": [
  {
   "cell_type": "code",
   "execution_count": 3,
   "metadata": {},
   "outputs": [
    {
     "name": "stderr",
     "output_type": "stream",
     "text": [
      "2023-01-31 20:12:23.242467: I tensorflow/core/platform/cpu_feature_guard.cc:193] This TensorFlow binary is optimized with oneAPI Deep Neural Network Library (oneDNN) to use the following CPU instructions in performance-critical operations:  SSE4.1 SSE4.2\n",
      "To enable them in other operations, rebuild TensorFlow with the appropriate compiler flags.\n"
     ]
    }
   ],
   "source": [
    "import pandas as pd\n",
    "import numpy as np\n",
    "import matplotlib.pyplot as plt\n",
    "from matplotlib.pyplot import figure\n",
    "import os\n",
    "import gensim.downloader as api\n",
    "from gensim.models import KeyedVectors\n",
    "from collections import Counter\n",
    "from nltk.corpus import stopwords\n",
    "import nltk\n",
    "import time\n",
    "from torch.utils.data import Dataset, DataLoader\n",
    "import torch.nn as nn \n",
    "import torch\n",
    "import torch.optim as optim\n",
    "from transformers import BertTokenizer, BertModel, BertForSequenceClassification, AdamW, BertConfig\n",
    "from keras_preprocessing.sequence import pad_sequences\n",
    "from torch.utils.data import TensorDataset, DataLoader, RandomSampler, SequentialSampler"
   ]
  },
  {
   "cell_type": "code",
   "execution_count": 4,
   "metadata": {},
   "outputs": [],
   "source": [
    "import torch\n",
    "device = torch.device(\"mps\")"
   ]
  },
  {
   "cell_type": "code",
   "execution_count": 5,
   "metadata": {},
   "outputs": [
    {
     "name": "stdout",
     "output_type": "stream",
     "text": [
      "tensor([1.], device='mps:0')\n"
     ]
    }
   ],
   "source": [
    "if torch.backends.mps.is_available(): #sanity check for gpu\n",
    "    device = torch.device(\"mps\")\n",
    "    x = torch.ones(1, device=device)\n",
    "    print (x)\n",
    "else:\n",
    "    print (\"MPS device not found.\")"
   ]
  },
  {
   "cell_type": "code",
   "execution_count": 6,
   "metadata": {},
   "outputs": [],
   "source": [
    "import warnings\n",
    "warnings.filterwarnings(\"ignore\")\n",
    "pd.set_option('display.max_colwidth', None)"
   ]
  },
  {
   "attachments": {},
   "cell_type": "markdown",
   "metadata": {},
   "source": [
    "<b><h2>Preprocessing and dictionary</h2></b><br>\n",
    "Both functions are from previous notebook."
   ]
  },
  {
   "cell_type": "code",
   "execution_count": 7,
   "metadata": {},
   "outputs": [
    {
     "name": "stdout",
     "output_type": "stream",
     "text": [
      "1.902383804321289\n"
     ]
    }
   ],
   "source": [
    "start = time.time()\n",
    "def cleaning_pipeline(df):\n",
    "    e_stopwords = stopwords.words('english')\n",
    "    train_list = df[\"text\"].values.tolist()\n",
    "    words_without_stopw = []\n",
    "    for sentence in train_list:\n",
    "        temp = []\n",
    "        for word in sentence.lower().split():\n",
    "            if word not in e_stopwords and  word.isalpha():\n",
    "                temp.append(word)\n",
    "        words_without_stopw.append(temp)\n",
    "    ret_df = pd.DataFrame({\"raw_words\": words_without_stopw, \"label\": df.label.values})\n",
    "    return ret_df\n",
    "\n",
    "def get_boW(l_of_words,k=100):\n",
    "    words = set()\n",
    "    for i in l_of_words:\n",
    "        counter = Counter(i).most_common(k)\n",
    "        words.update([i[0] for i in counter])\n",
    "    return words\n",
    "#------------------------------------------------------------#\n",
    "SPLITS = ['train', 'test', \"validation\"]\n",
    "datasets = { }\n",
    "\n",
    "#Load the train, validation, and test sets.\n",
    "path = \"nlp2022_23_data/thedeep.subset.{}.txt\"\n",
    "csv_header = ['idx', 'text', 'label']\n",
    "for split in SPLITS:\n",
    "        datasets[split] = {}\n",
    "        datasets[split]['df'] = cleaning_pipeline(pd.read_csv(path.format(split), names = csv_header))\n",
    "\n",
    "n_label = 12\n",
    "words = get_boW(datasets[\"train\"][\"df\"][\"raw_words\"].values)\n",
    "end = time.time()\n",
    "print(end - start)"
   ]
  },
  {
   "cell_type": "markdown",
   "metadata": {},
   "source": [
    "<b><h2>Data batching </h2></b><br>\n",
    "We set the `batch_size`= 64 and `max_doc_l`= 50.\n"
   ]
  },
  {
   "cell_type": "code",
   "execution_count": 6,
   "metadata": {},
   "outputs": [],
   "source": [
    "class M(Dataset):\n",
    "    \n",
    "    def __init__(self, dataset, max_doc_l, BoW):\n",
    "        super().__init__()\n",
    "        self.dataset = dataset\n",
    "        self.max_doc_l = max_doc_l\n",
    "        self.BoW = list(BoW)  \n",
    "\n",
    "\n",
    "    def __getitem__(self, item):\n",
    "        ret_val = np.zeros( self.max_doc_l) * len(self.BoW)\n",
    "        i = 0\n",
    "        \n",
    "        for word in  self.dataset[\"raw_words\"][item]:\n",
    "            if i >= max_doc_l:\n",
    "                    break\n",
    "            if word in self.BoW:\n",
    "                ret_val[i] = self.BoW.index(word) \n",
    "                i += 1\n",
    "            \n",
    "        return torch.from_numpy(ret_val).type(torch.IntTensor) , self.dataset[\"label\"][item]\n",
    "\n",
    "\n",
    "    def __len__(self):\n",
    "        return len(self.dataset)"
   ]
  },
  {
   "cell_type": "code",
   "execution_count": 7,
   "metadata": {},
   "outputs": [],
   "source": [
    "batch_size = 64\n",
    "max_doc_l = 50\n",
    "\n",
    "#----------------------------\n",
    "\n",
    "train_p = M(datasets[\"train\"][\"df\"], max_doc_l = max_doc_l, BoW= words)\n",
    "train_loader = DataLoader(train_p , batch_size=batch_size)\n",
    "val_p = M(datasets[\"validation\"][\"df\"], max_doc_l = max_doc_l, BoW= words)\n",
    "val_loader = DataLoader(val_p , batch_size=batch_size)\n",
    "test_p = M(datasets[\"test\"][\"df\"], max_doc_l = max_doc_l, BoW= words)\n",
    "test_loader = DataLoader(test_p , batch_size=batch_size)"
   ]
  },
  {
   "cell_type": "markdown",
   "metadata": {},
   "source": [
    "<b><h2>Word embedding lookup</h2></b>\n",
    "</br>\n",
    "Similar to (`doc_class_wembedd.ipynb`), the Word2Vec pre-trained word embedding has been used to initialize the word embeddings of the lookup. The final embedding has dimensions 21690x300 (= n. of words in our BoW x lenght of each embedding per vector) \n"
   ]
  },
  {
   "cell_type": "code",
   "execution_count": 8,
   "metadata": {},
   "outputs": [
    {
     "name": "stdout",
     "output_type": "stream",
     "text": [
      "26.59146523475647\n"
     ]
    }
   ],
   "source": [
    "start = time.time()\n",
    "path = 'word_vectors2.kv'\n",
    "if os.path.exists(path):\n",
    "    if not os.path.exists('word2vec-google-news-300'):\n",
    "        word_vectors = KeyedVectors.load(path)\n",
    "else:\n",
    "    #model = api.load(\"glove-twitter-25\")\n",
    "    model = api.load('word2vec-google-news-300')\n",
    "    word_vectors = model.wv\n",
    "    word_vectors.save(path)\n",
    "end = time.time()\n",
    "print(end-start)"
   ]
  },
  {
   "cell_type": "code",
   "execution_count": 9,
   "metadata": {},
   "outputs": [],
   "source": [
    "dict_ = {}\n",
    "dict_[0] = np.full(shape=(300,),fill_value=0)\n",
    "words = list(words)\n",
    "\n",
    "for i,word in enumerate(words[1::],1):\n",
    "     try:\n",
    "        embedd_w = word_vectors.get_vector(word)\n",
    "        if min(embedd_w) < min_:\n",
    "            min_ = min(embedd_w)\n",
    "        if max(embedd_w) > max_:\n",
    "            max_ = max(embedd_w)\n",
    "        dict_[i] = embedd_w\n",
    "    \n",
    "     except:\n",
    "        dict_[i] = np.random.uniform(-3, 3, 300)\n",
    "\n",
    "dict_keys = np.fromiter(dict_.keys(), dtype=float)\n",
    "dict_vals = np.array(list(dict_.values()))  "
   ]
  },
  {
   "cell_type": "code",
   "execution_count": 10,
   "metadata": {},
   "outputs": [],
   "source": [
    "embedding = torch.nn.Embedding.from_pretrained(torch.FloatTensor(dict_vals))"
   ]
  },
  {
   "cell_type": "markdown",
   "metadata": {},
   "source": [
    "**<h2>Model definition & forward function</h2>** <br>\n",
    "We define the class `ClassificationAverageModel` as a PyTorch model. In the initialization procedure, the model takes as parameters `embedding`: the word embedding lookup, and `n_label`, in our case 11.<br>\n",
    "the `forward` function transforms the batch input according to the document representation expressed by the formula:\n",
    "<center><div>$\\mathbf{e}_d = \\frac{1}{|d|}\\sum_{i=1}^{|d|}{\\mathbf{e}_{v_i}}$</div></center>\n"
   ]
  },
  {
   "cell_type": "code",
   "execution_count": 11,
   "metadata": {},
   "outputs": [
    {
     "data": {
      "text/plain": [
       "12"
      ]
     },
     "execution_count": 11,
     "metadata": {},
     "output_type": "execute_result"
    }
   ],
   "source": [
    "n_label"
   ]
  },
  {
   "cell_type": "markdown",
   "metadata": {},
   "source": [
    "The labels, given as integer have been converted into one-hot encoded tensor (in the `update` step hereunder), <br>e.g. label 3 will look like: <br>"
   ]
  },
  {
   "cell_type": "code",
   "execution_count": 12,
   "metadata": {},
   "outputs": [
    {
     "name": "stdout",
     "output_type": "stream",
     "text": [
      "tensor label 3:\n",
      " [0. 0. 0. 1. 0. 0. 0. 0. 0. 0. 0. 0.]\n"
     ]
    }
   ],
   "source": [
    "l_tensor = np.diag(np.ones(n_label))\n",
    "print(f\"tensor label 3:\\n\", l_tensor[3])"
   ]
  },
  {
   "cell_type": "markdown",
   "metadata": {},
   "source": [
    "**<h2>Loss Function, optimization and early stopping</h2>**"
   ]
  },
  {
   "cell_type": "markdown",
   "metadata": {},
   "source": [
    "The training and evaluation of the model have been deployed sequentally, meaning that in every epoch the data has been first processed by the <b>`update`</b> function, where the model parameters gets updated step by step, and takes the following arguments:<br>\n",
    "`dataloader`: the training set divided in batches.   <br> `model`: the ClassificationAverageModel which weights gets updated step by step. <br> `loss`: Cross entropy loss. <br> `optimizer`: Adam optimizer with a learning rate of <b>0.0001</b>.<br>\n",
    "`l_tensor`: the initialized matrix of tensor labels.<br><br>\n",
    "and then by the <b>`evaluate`</b> function, with arguments:<br>\n",
    "`val_dataloader`: the validation set.<br>  `model`: the updated model of ClassificationAverageModel.<br><br>\n",
    "The early stopping comes in action whether the <b>maximum number of epoch (=100)</b> has been reached, or in case the <b>accuracy</b> on the validation test has <b>not improved for 20 consecutive epochs</b>.<br>\n",
    "A seed has been set for reproducibility.<br>Hereunder we report the accuracy on the validation test, the error on the training test and the processing time for every 10 epochs (in seconds)."
   ]
  },
  {
   "cell_type": "code",
   "execution_count": 13,
   "metadata": {},
   "outputs": [],
   "source": [
    "class ClassificationAverageModel(torch.nn.Module):\n",
    "    \n",
    "    def __init__(self, embedding, n_label):\n",
    "        \n",
    "        super(ClassificationAverageModel, self).__init__()\n",
    "        \n",
    "        self.embedding = torch.nn.Embedding(num_embeddings = embedding.num_embeddings, embedding_dim = embedding.embedding_dim )\n",
    "        self.embedding.weight = embedding.weight\n",
    "        self.transformation = torch.nn.Linear(in_features = embedding.embedding_dim, out_features = n_label, bias=True)\n",
    "        self.softmax = torch.nn.Softmax(dim=-1)\n",
    "        \n",
    "    \n",
    "    def forward(self, x):\n",
    "        \n",
    "        e = self.embedding(x)\n",
    "        e = torch.sum(e, dim=1)\n",
    "        counter = torch.tensor(np.count_nonzero(e, axis=0))\n",
    "        e = torch.div(e, counter)\n",
    "        e = self.transformation(e)\n",
    "        return self.softmax(e) #calculates probability distribution of 11 labels\n",
    "    "
   ]
  },
  {
   "cell_type": "code",
   "execution_count": 14,
   "metadata": {},
   "outputs": [],
   "source": [
    "#@torch.enable_grad()\n",
    "def update(dataloader, model, loss, optimizer, l_tensor): \n",
    "    device = next(model.parameters()).device\n",
    "    err = []\n",
    "    model.train()\n",
    "    \n",
    "\n",
    "    for x,y in dataloader:\n",
    "      \n",
    "        x, y = x.to(device), y.to(device) #gpu\n",
    "\n",
    "\n",
    "        optimizer.zero_grad()\n",
    "        y_pred = model.forward(x)\n",
    "        \n",
    "        y_true = torch.tensor([l_tensor[i] for i in y])\n",
    "\n",
    "        loss_ = loss(y_pred, y_true) \n",
    "        \n",
    "      \n",
    "        err.append(loss_)\n",
    "        \n",
    "        loss_.backward()\n",
    "        \n",
    "        optimizer.step() \n",
    "        \n",
    "        \n",
    "    return err, model\n",
    "       "
   ]
  },
  {
   "cell_type": "code",
   "execution_count": 15,
   "metadata": {},
   "outputs": [],
   "source": [
    "#@torch.no_grad()\n",
    "def evaluate(val_dataloader, model):\n",
    "    device = next(model.parameters()).device\n",
    "    accuracy = []\n",
    "    \n",
    "    for x,y in val_dataloader:\n",
    "        x, y = x.to(device), y.to(device) #gpu\n",
    "        \n",
    "        y_pred = model.forward(x)\n",
    "        y_pred = torch.argmax(y_pred, dim=1)\n",
    "        accuracy_ = torch.mean((y == y_pred).float())\n",
    "        \n",
    "        accuracy.append(accuracy_)\n",
    "    \n",
    "    return accuracy\n",
    "        "
   ]
  },
  {
   "cell_type": "code",
   "execution_count": 16,
   "metadata": {
    "scrolled": false
   },
   "outputs": [
    {
     "name": "stdout",
     "output_type": "stream",
     "text": [
      "epoch n: 0  accuracy: 0.5383638208959161 training_error: 2.3888460649681607 in 119.91950392723083 seconds\n",
      "epoch n: 10  accuracy: 0.6355013556596709 training_error: 2.025200458912921 in 1329.2269458770752 seconds\n",
      "epoch n: 20  accuracy: 0.648077575171866 training_error: 1.9818621258986624 in 2571.900545835495 seconds\n",
      "epoch n: 30  accuracy: 0.6542598241712989 training_error: 1.958490492456726 in 3822.824604988098 seconds\n",
      "epoch n: 40  accuracy: 0.6560806239523539 training_error: 1.9439387639802426 in 5078.915493011475 seconds\n",
      "epoch n: 50  accuracy: 0.6588329949030062 training_error: 1.9332045359326933 in 6332.198069095612 seconds\n",
      "epoch n: 60  accuracy: 0.6603573851469087 training_error: 1.924409633426738 in 7585.547318935394 seconds\n",
      "epoch n: 70  accuracy: 0.6611195802688599 training_error: 1.9172570573586158 in 8839.050158977509 seconds\n",
      "epoch n: 80  accuracy: 0.6599762875859331 training_error: 1.9111389619375305 in 10092.367640018463 seconds\n",
      "epoch n: 90  accuracy: 0.6588329949030062 training_error: 1.9058778440215645 in 11344.615239143372 seconds\n",
      "epoch n: 100  accuracy: 0.658070799781055 training_error: 1.9013235234438364 in 12597.59770989418 seconds\n",
      "12597.610261917114\n"
     ]
    }
   ],
   "source": [
    "torch.manual_seed(42)\n",
    "\n",
    "model = ClassificationAverageModel(embedding, n_label =n_label)\n",
    "\n",
    "lr = 0.001\n",
    "#-----------------\n",
    "\n",
    "loss = torch.nn.CrossEntropyLoss()\n",
    "optimizer = optim.Adam(model.parameters(), lr=lr)\n",
    "epochs = 101\n",
    "best_mean = 0.0\n",
    "last_accuracy = 0\n",
    "stats = pd.DataFrame(columns=[\"epoch\", \"training_error\", \"validation_accuracy\"])\n",
    "early_stopping = 20 #fix value\n",
    "early_stopping_counter = 20 #counts\n",
    "\n",
    "#-----------------\n",
    "\n",
    "start = time.time()\n",
    "for epoch in range(epochs):\n",
    "    \n",
    "    train_err, model = update(train_loader, model, loss, optimizer, l_tensor)\n",
    "    train_err = ([x.tolist() for x in train_err])\n",
    "    train_err = np.mean(train_err)\n",
    "    accuracy = evaluate(val_loader, model)\n",
    "    accuracy = ([x.tolist() for x in accuracy])\n",
    "    accuracy = np.mean(accuracy)\n",
    "    \n",
    "    if epoch % 10 == 0:\n",
    "        end2 = time.time()\n",
    "        print(f\"epoch n: {epoch}  accuracy: {accuracy} training_error: {train_err} in {end2-start} seconds\")\n",
    "    \n",
    "    stats.loc[len(stats)] = [epoch,train_err,accuracy]\n",
    "    \n",
    "    if accuracy > best_mean:\n",
    "        best_mean = accuracy\n",
    "        torch.save(model, \"best_model.pkl\")\n",
    "    \n",
    "    else: #early stopping\n",
    "        if np.isclose(last_accuracy, accuracy):\n",
    "            \n",
    "            if early_stopping_counter == 0:\n",
    "                break\n",
    "\n",
    "            else:\n",
    "                early_stopping_counter -= 1\n",
    "        else:\n",
    "            early_stopping_counter = early_stopping\n",
    "                  \n",
    "    \n",
    "    last_accuracy = accuracy\n",
    "    \n",
    "\n",
    "end = time.time()  \n",
    "print(end-start)\n",
    "stats.to_csv(\"stats.csv\", index= False)\n",
    "   "
   ]
  },
  {
   "cell_type": "markdown",
   "metadata": {},
   "source": [
    "**<h2>Test Set Evaluation </h2>**"
   ]
  },
  {
   "cell_type": "code",
   "execution_count": 17,
   "metadata": {},
   "outputs": [
    {
     "name": "stdout",
     "output_type": "stream",
     "text": [
      "Test accuracy: 67.85605404435134 %\n"
     ]
    }
   ],
   "source": [
    "best_model = torch.load('best_model.pkl')\n",
    "accuracy = evaluate(test_loader, model)\n",
    "accuracy_ = ([x.tolist() for x in accuracy])\n",
    "accuracy = np.mean(accuracy_)\n",
    "print(f\"Test accuracy: {accuracy * 100} %\")\n"
   ]
  },
  {
   "cell_type": "code",
   "execution_count": 11,
   "metadata": {},
   "outputs": [
    {
     "data": {
      "image/png": "[encoded data removed]",
      "text/plain": [
       "<Figure size 2000x1000 with 1 Axes>"
      ]
     },
     "metadata": {},
     "output_type": "display_data"
    }
   ],
   "source": [
    "plt.rcParams['figure.figsize'] = [20, 10]\n",
    "df = pd.read_csv('stats.csv')\n",
    "df[['epoch', 'validation_accuracy']].plot(\n",
    "    x='epoch',\n",
    "    xlabel='Epochs',\n",
    "    ylabel='accuracy',\n",
    "    title='Validation Accuracy'\n",
    ")\n",
    "_=plt.show()"
   ]
  },
  {
   "cell_type": "code",
   "execution_count": 12,
   "metadata": {},
   "outputs": [
    {
     "data": {
      "image/png": "[encoded data removed]",
      "text/plain": [
       "<Figure size 2000x1000 with 1 Axes>"
      ]
     },
     "metadata": {},
     "output_type": "display_data"
    }
   ],
   "source": [
    "plt.rcParams['figure.figsize'] = [20, 10]\n",
    "df = pd.read_csv('stats.csv')\n",
    "df[['epoch', 'training_error']].plot(\n",
    "    x='epoch',\n",
    "    xlabel='Epochs',\n",
    "    ylabel='loss',\n",
    "    title='Trainin Error'\n",
    ")\n",
    "_=plt.show()"
   ]
  },
  {
   "cell_type": "markdown",
   "metadata": {},
   "source": [
    "<b><h2>Loading BERT model</h2></b><br>\n",
    "We chose to use the pretrained [BERT Miniatures](https://huggingface.co/google/bert_uncased_L-2_H-128_A-2) model.\n"
   ]
  },
  {
   "cell_type": "code",
   "execution_count": 8,
   "metadata": {},
   "outputs": [
    {
     "name": "stderr",
     "output_type": "stream",
     "text": [
      "Some weights of the model checkpoint at google/bert_uncased_L-2_H-128_A-2 were not used when initializing BertModel: ['cls.predictions.bias', 'cls.predictions.transform.dense.weight', 'cls.predictions.transform.LayerNorm.weight', 'cls.predictions.decoder.bias', 'cls.predictions.transform.LayerNorm.bias', 'cls.seq_relationship.weight', 'cls.seq_relationship.bias', 'cls.predictions.decoder.weight', 'cls.predictions.transform.dense.bias']\n",
      "- This IS expected if you are initializing BertModel from the checkpoint of a model trained on another task or with another architecture (e.g. initializing a BertForSequenceClassification model from a BertForPreTraining model).\n",
      "- This IS NOT expected if you are initializing BertModel from the checkpoint of a model that you expect to be exactly identical (initializing a BertForSequenceClassification model from a BertForSequenceClassification model).\n"
     ]
    }
   ],
   "source": [
    "bert = BertModel.from_pretrained('google/bert_uncased_L-2_H-128_A-2', cache_dir=\"cache\", output_attentions=True,\n",
    "                                                      output_hidden_states = False)"
   ]
  },
  {
   "cell_type": "code",
   "execution_count": 9,
   "metadata": {},
   "outputs": [],
   "source": [
    "l_tensor = np.diag(np.ones(n_label))"
   ]
  },
  {
   "cell_type": "code",
   "execution_count": 10,
   "metadata": {},
   "outputs": [],
   "source": [
    "path = \"nlp2022_23_data/thedeep.subset.{}.txt\"\n",
    "csv_header = ['idx', 'text', 'label']\n",
    "for split in SPLITS:\n",
    "        datasets[split] = {}\n",
    "        datasets[split]['df'] = pd.read_csv(path.format(split), names = csv_header)\n",
    "\n",
    "#----------        \n",
    "max_length = 50\n",
    "batch_size = 64\n",
    "n_label = 12\n",
    "device = torch.device(\"mps\")"
   ]
  },
  {
   "cell_type": "markdown",
   "metadata": {},
   "source": [
    "**<h2>BERT tokenization:</h2>**<br>\n",
    "The tokenization has been done through the function `preprocess`, which takes the data as input: first the raw text is tokenized by the `BertTokenizer` (including the special tokens), then the documents gets trucated up to the `maxlen` set to 50, and if shorter a padding gets added. Finally a mask is created to distinguish actual id_token from padding.<br> It outputs three tensors, respectively:<br>\n",
    "1. mask  <br>\n",
    "2. IDS of processed data\n",
    "3. labels\n"
   ]
  },
  {
   "cell_type": "code",
   "execution_count": 11,
   "metadata": {},
   "outputs": [],
   "source": [
    "tokenizer = BertTokenizer.from_pretrained('bert-base-uncased', do_lower_case=True)"
   ]
  },
  {
   "cell_type": "code",
   "execution_count": 12,
   "metadata": {},
   "outputs": [],
   "source": [
    "def preprocess(dataset):\n",
    "    input_ids = []\n",
    "    \n",
    "    for doc in dataset[\"text\"]:\n",
    "        encoded_doc = tokenizer.encode(doc, add_special_tokens = True) \n",
    "        input_ids.append(encoded_doc)\n",
    "        \n",
    "    input_ids = pad_sequences(input_ids, maxlen=max_length, dtype=\"long\",\n",
    "                          value=0, truncating=\"post\", padding=\"post\")\n",
    "    att_mask = []\n",
    "    for doc in input_ids: \n",
    "        attention_mask = [int(token_id > 0) for token_id in doc]\n",
    "        att_mask.append(attention_mask)\n",
    "    \n",
    "    return torch.tensor(att_mask), torch.tensor(input_ids), torch.tensor(dataset[\"label\"])"
   ]
  },
  {
   "cell_type": "code",
   "execution_count": 13,
   "metadata": {},
   "outputs": [
    {
     "name": "stderr",
     "output_type": "stream",
     "text": [
      "Token indices sequence length is longer than the specified maximum sequence length for this model (876 > 512). Running this sequence through the model will result in indexing errors\n"
     ]
    }
   ],
   "source": [
    "mask_train, X_train, y_train = preprocess(datasets[\"train\"]['df'])\n",
    "mask_validation, X_validation, y_validation = preprocess(datasets[\"validation\"]['df'])\n",
    "mask_test, X_test, y_test = preprocess(datasets[\"test\"]['df'])"
   ]
  },
  {
   "cell_type": "code",
   "execution_count": 14,
   "metadata": {},
   "outputs": [],
   "source": [
    "#dataloader\n",
    "train_data = TensorDataset(X_train, mask_train, y_train)\n",
    "train_sampler = RandomSampler(train_data)\n",
    "train_dataloader = DataLoader(train_data, sampler=train_sampler, batch_size=batch_size)\n",
    "\n",
    "validation_data = TensorDataset(X_validation, mask_validation, y_validation)\n",
    "validation_sampler = SequentialSampler(validation_data)\n",
    "validation_dataloader = DataLoader(validation_data, sampler=validation_sampler,  batch_size=batch_size)\n",
    "\n",
    "test_data = TensorDataset(X_test, mask_test, y_test)\n",
    "test_sampler = RandomSampler(test_data)\n",
    "test_dataloader = DataLoader(test_data, sampler=test_sampler, batch_size=batch_size)"
   ]
  },
  {
   "cell_type": "markdown",
   "metadata": {},
   "source": [
    "**<h2>Model definition and forward function:</h2>**<br> We define the class **`ClassificationBERTModel`** as a PyTorch model. <br> We basically used the same functin as in the first part of the notebook, the only difference is in the argument of the forward function: for each batch we pass both input data and mask (instead of only data). <br><b><BODY TEXT=\"#ff0000 \">Sadly due to computational and time limitation the kernel kept dying and we didn't manage to solve the rest of the assignment before deadline.</b>\n"
   ]
  },
  {
   "cell_type": "code",
   "execution_count": 15,
   "metadata": {},
   "outputs": [],
   "source": [
    "class ClassificationBERTModel(torch.nn.Module):\n",
    "    \n",
    "    def __init__(self, bert, n_label):\n",
    "        \n",
    "        super(ClassificationBERTModel, self).__init__()\n",
    "\n",
    "        self.model = bert\n",
    "        self.transformation = torch.nn.Linear(in_features = bert.config.hidden_size, out_features = n_label)\n",
    "        self.softmax = torch.nn.Softmax(dim=-1)\n",
    "        \n",
    "        \n",
    "    \n",
    "    def forward(self, x):\n",
    "        \n",
    "        res = self.model.forward(input_ids=x[0].to(device), attention_mask =x[1].to(device), token_type_ids=None)\n",
    "        return self.softmax(self.transformation(res[\"last_hidden_state\"]))\n",
    "        \n",
    "      \n",
    "    "
   ]
  },
  {
   "cell_type": "code",
   "execution_count": 16,
   "metadata": {},
   "outputs": [],
   "source": [
    "#@torch.enable_grad()\n",
    "def update(dataloader, model, loss, optimizer, l_tensor): \n",
    "    device = next(model.parameters()).device\n",
    "    err = []\n",
    "    model.train()\n",
    "    \n",
    "    for x,z,y in dataloader:\n",
    "      \n",
    "        x, z, y = x.to(device), z.to(device), y.to(device) #gpu\n",
    "\n",
    "\n",
    "\n",
    "        optimizer.zero_grad()\n",
    "        y_pred = model.forward((x,z))\n",
    "        \n",
    "        y_true = torch.tensor([l_tensor[i] for i in y])\n",
    "\n",
    "        loss_ = loss(y_pred, y_true) \n",
    "        \n",
    "      \n",
    "        err.append(loss_)\n",
    "        \n",
    "        loss_.backward()\n",
    "        \n",
    "        optimizer.step() \n",
    "        \n",
    "        \n",
    "    return err, model\n",
    "       "
   ]
  },
  {
   "cell_type": "code",
   "execution_count": 17,
   "metadata": {},
   "outputs": [],
   "source": [
    "#@torch.no_grad()\n",
    "def evaluate(val_dataloader, model):\n",
    "    device = next(model.parameters()).device\n",
    "    accuracy = []\n",
    "    \n",
    "    for x,z, y in val_dataloader:\n",
    "        x, z, y = x.to(device), z.to(device), y.to(device) #gpu\n",
    "        \n",
    "        y_pred = model.forward((x,z))\n",
    "        y_pred = torch.argmax(y_pred, dim=1)\n",
    "        accuracy_ = torch.mean((y == y_pred).float())\n",
    "        \n",
    "        accuracy.append(accuracy_)\n",
    "    \n",
    "    return accuracy\n",
    "        "
   ]
  },
  {
   "cell_type": "code",
   "execution_count": null,
   "metadata": {},
   "outputs": [],
   "source": [
    "torch.manual_seed(42)\n",
    "\n",
    "model = ClassificationBERTModel(bert, n_label = n_label).to(device)\n",
    "\n",
    "lr = 0.001\n",
    "#-----------------\n",
    "\n",
    "loss = torch.nn.CrossEntropyLoss()\n",
    "optimizer = optim.Adam(model.parameters(), lr=lr)\n",
    "epochs = 3\n",
    "best_mean = 0.0\n",
    "last_accuracy = 0\n",
    "stats = pd.DataFrame(columns=[\"epoch\", \"training_error\", \"validation_accuracy\"])\n",
    "early_stopping = 20 #fix value\n",
    "early_stopping_counter = 20 #counts\n",
    "\n",
    "#-----------------\n",
    "\n",
    "start = time.time()\n",
    "for epoch in range(epochs):\n",
    "    \n",
    "    train_err, model = update(train_dataloader, model, loss, optimizer, l_tensor)\n",
    "    train_err = ([x.tolist() for x in train_err])\n",
    "    train_err = np.mean(train_err)\n",
    "    accuracy = evaluate(val_loader, model)\n",
    "    accuracy = ([x.tolist() for x in accuracy])\n",
    "    accuracy = np.mean(accuracy)\n",
    "    break\n",
    "    \n",
    "    if epoch % 10 == 0:\n",
    "        end2 = time.time()\n",
    "        print(f\"epoch n: {epoch}  accuracy: {accuracy} training_error: {train_err} in {end2-start} seconds\")\n",
    "    \n",
    "    stats.loc[len(stats)] = [epoch,train_err,accuracy]\n",
    "    \n",
    "    if accuracy > best_mean:\n",
    "        best_mean = accuracy\n",
    "        torch.save(model, \"best_model.pkl\")\n",
    "    \n",
    "    else: #early stopping\n",
    "        if np.isclose(last_accuracy, accuracy):\n",
    "            \n",
    "            if early_stopping_counter == 0:\n",
    "                break\n",
    "\n",
    "            else:\n",
    "                early_stopping_counter -= 1\n",
    "        else:\n",
    "            early_stopping_counter = early_stopping\n",
    "                  \n",
    "    \n",
    "    last_accuracy = accuracy\n",
    "    \n",
    "\n",
    "end = time.time()  \n",
    "print(end-start)\n",
    "stats.to_csv(\"stats.csv\", index= False)\n",
    "   "
   ]
  }
 ],
 "metadata": {
  "kernelspec": {
   "display_name": "Python 3 (ipykernel)",
   "language": "python",
   "name": "python3"
  },
  "language_info": {
   "codemirror_mode": {
    "name": "ipython",
    "version": 3
   },
   "file_extension": ".py",
   "mimetype": "text/x-python",
   "name": "python",
   "nbconvert_exporter": "python",
   "pygments_lexer": "ipython3",
   "version": "3.8.16"
  }
 },
 "nbformat": 4,
 "nbformat_minor": 4
}
