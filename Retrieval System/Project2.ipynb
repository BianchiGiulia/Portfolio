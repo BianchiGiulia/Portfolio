{
 "cells": [
  {
   "cell_type": "code",
   "execution_count": 31,
   "metadata": {},
   "outputs": [],
   "source": [
    "import pandas as pd\n",
    "from sklearn.metrics.pairwise import cosine_similarity\n",
    "import numpy as np"
   ]
  },
  {
   "attachments": {},
   "cell_type": "markdown",
   "metadata": {},
   "source": [
    "Function to check if all ID in the new data correspond to song and artist in file \"id_information_mmrs.tsv\" from first assignment"
   ]
  },
  {
   "cell_type": "code",
   "execution_count": 32,
   "metadata": {},
   "outputs": [
    {
     "name": "stdout",
     "output_type": "stream",
     "text": [
      "All IDs from file 1 are in file 2: False\n",
      "Missing IDs: ['03Oc9WeMEmyLLQbj']\n"
     ]
    }
   ],
   "source": [
    "df1 = pd.read_csv('ws23_exercise1/id_information_mmsr.tsv', delimiter='\\t')\n",
    "df2 = pd.read_csv('task2/id_mfcc_stats_mmsr.tsv', delimiter='\\t')\n",
    "id_df1 = df1.iloc[:, 0]\n",
    "id_df2 = df2.iloc[:, 0]\n",
    "are_ids_present = id_df1.isin(id_df2)\n",
    "missing_ids = id_df1[~are_ids_present]\n",
    "\n",
    "print(\"All IDs from file 1 are in file 2:\", are_ids_present.all())\n",
    "print(\"Missing IDs:\", missing_ids.tolist())\n",
    "\n"
   ]
  },
  {
   "attachments": {},
   "cell_type": "markdown",
   "metadata": {},
   "source": [
    "Since in the new dataset we only have IDs we build a helper functipn to retrieve it from song and artist"
   ]
  },
  {
   "cell_type": "code",
   "execution_count": 33,
   "metadata": {},
   "outputs": [],
   "source": [
    "def find_song_id(artist, song, info_df):\n",
    "    matching_songs = info_df[(info_df['artist'] == artist) & (info_df['song'] == song)]\n",
    "    if matching_songs.empty:\n",
    "        return None\n",
    "    return matching_songs.iloc[0]['id']\n",
    "\n",
    "def calculate_cosine_similarity(vector1, vector2):\n",
    "    return cosine_similarity([vector1], [vector2])[0][0] #---> maybe we'll find a better way, but this works for now"
   ]
  },
  {
   "cell_type": "code",
   "execution_count": 66,
   "metadata": {},
   "outputs": [],
   "source": [
    "def get_song_artist_by_id(song_id, info_df):\n",
    "    \"\"\"\n",
    "    Retrieve song and artist from ID-INFORMATION DataFrame given the song ID.\n",
    "    \n",
    "    :param song_id: The ID of the song.\n",
    "    :param info_df: The DataFrame containing song IDs along with corresponding artist and song name.\n",
    "    :return: A tuple (artist, song) if found, otherwise (None, None).\n",
    "    \"\"\"\n",
    "    song_info = info_df[info_df['id'] == song_id]\n",
    "    \n",
    "    if not song_info.empty:\n",
    "        artist = song_info.iloc[0]['artist']\n",
    "        song = song_info.iloc[0]['song']\n",
    "        return artist, song\n",
    "    else:\n",
    "        return None, None\n",
    "\n"
   ]
  },
  {
   "cell_type": "code",
   "execution_count": 67,
   "metadata": {},
   "outputs": [
    {
     "name": "stdout",
     "output_type": "stream",
     "text": [
      "Artist: The Veronicas, Song: 4ever\n"
     ]
    }
   ],
   "source": [
    "# Example usage:\n",
    "# Assuming you have loaded your ID-INFORMATION DataFrame into a variable named info_df\n",
    "song_id = \"uocjUouyUgCu6vzP\"\n",
    "artist, song = get_song_artist_by_id(song_id, info_df)\n",
    "\n",
    "if artist is not None and song is not None:\n",
    "    print(f\"Artist: {artist}, Song: {song}\")\n",
    "else:\n",
    "    print(\"Song ID not found in the database.\")\n"
   ]
  },
  {
   "cell_type": "code",
   "execution_count": 83,
   "metadata": {},
   "outputs": [],
   "source": [
    "#load data\n",
    "info_df = pd.read_csv('ws23_exercise1/id_information_mmsr.tsv', sep='\\t')\n",
    "mfcc_stats_df = pd.read_csv('task2/id_mfcc_stats_mmsr.tsv', sep='\\t')\n",
    "mfcc_bow_df = pd.read_csv('task2/id_mfcc_bow_mmsr.tsv', sep='\\t')\n",
    "blf_df = pd.read_csv('task2/id_blf_logfluc_mmsr.tsv', sep='\\t')\n",
    "ivec_df = pd.read_csv('task2/id_ivec256_mmsr.tsv', sep='\\t')\n",
    "dnn_df = pd.read_csv('task2/id_musicnn_mmsr.tsv', sep='\\t')\n",
    "genre_df = pd.read_csv('task2/id_genres_mmsr.tsv', sep='\\t')\n"
   ]
  },
  {
   "cell_type": "code",
   "execution_count": 77,
   "metadata": {},
   "outputs": [],
   "source": [
    "#set query song for exaples\n",
    "query_song = {'id': '3uNmJmetcUAMc9WR', 'artist': ' The Beatles', 'song': 'Strawberry Fields Forever - Remastered 2009', 'album': 'Magical Mystery Tour (Remastered)'}\n",
    "N = 10  "
   ]
  },
  {
   "attachments": {},
   "cell_type": "markdown",
   "metadata": {},
   "source": [
    "<details>\n",
    "<summary style=\"font-size: larger; color: white; background-color: darkorange; border: 1px solid darkorange; padding: 5px 15px; border-radius: 8px; cursor: pointer;\">Task 1: MFCC</summary>\n",
    "\n",
    "<div style=\"background-color: rgba(255, 255, 0, 0.2); padding: 10px; border-radius: 5px;\">\n",
    "  \n",
    "  \n",
    "\n",
    "</div>\n",
    "</details>"
   ]
  },
  {
   "cell_type": "code",
   "execution_count": 93,
   "metadata": {},
   "outputs": [],
   "source": [
    "#TO-DO: make it similar to one from task 1 so doesn't seem we did it with gpt, also less chaotic lol\n",
    "def find_similar_songs(artist, song, df, top_n=10):\n",
    "    try:\n",
    "        query_id = find_song_id(artist, song, info_df) #this retrieve id of the song from artist and title\n",
    "        query_features = df[df['id'] == query_id].iloc[0, 1:].values\n",
    "    except IndexError:\n",
    "        print('Song ID not found!')\n",
    "        return\n",
    "    \n",
    "    \n",
    "    similarities = df.apply(lambda row: calculate_cosine_similarity(query_features, row[1:].values), axis=1)\n",
    "    # create a DataFrame with similarities\n",
    "    result_df = pd.DataFrame({ 'id': df['id'], 'similarity': similarities})\n",
    "    # exclude the query song and sort by similarity\n",
    "    result_df = result_df[result_df['id'] != query_id].sort_values(by='similarity', ascending=False)\n",
    "    #this retrieve the title and artist from the id of the N retrieved songs\n",
    "    result_df['artist'], result_df['song'] = zip(*result_df['id'].apply(lambda x: get_song_artist_by_id(x, info_df)))\n",
    "    column_order = ['id', 'artist', 'song', 'similarity'] #rearrange like assignment 1\n",
    "    result_df = result_df[column_order]\n",
    "    return result_df.head(top_n)\n",
    "\n"
   ]
  },
  {
   "cell_type": "code",
   "execution_count": 80,
   "metadata": {},
   "outputs": [
    {
     "name": "stdout",
     "output_type": "stream",
     "text": [
      "MSCC 10 recommendations for: Strawberry Fields Forever - Remastered 2009\n"
     ]
    },
    {
     "data": {
      "text/html": [
       "<style type=\"text/css\">\n",
       "</style>\n",
       "<table id=\"T_f927a\">\n",
       "  <thead>\n",
       "    <tr>\n",
       "      <th id=\"T_f927a_level0_col0\" class=\"col_heading level0 col0\" >id</th>\n",
       "      <th id=\"T_f927a_level0_col1\" class=\"col_heading level0 col1\" >artist</th>\n",
       "      <th id=\"T_f927a_level0_col2\" class=\"col_heading level0 col2\" >song</th>\n",
       "      <th id=\"T_f927a_level0_col3\" class=\"col_heading level0 col3\" >similarity</th>\n",
       "    </tr>\n",
       "  </thead>\n",
       "  <tbody>\n",
       "    <tr>\n",
       "      <td id=\"T_f927a_row0_col0\" class=\"data row0 col0\" >rqwTHLni7ulf6SqR</td>\n",
       "      <td id=\"T_f927a_row0_col1\" class=\"data row0 col1\" >Lindsay Lohan</td>\n",
       "      <td id=\"T_f927a_row0_col2\" class=\"data row0 col2\" >Symptoms of You</td>\n",
       "      <td id=\"T_f927a_row0_col3\" class=\"data row0 col3\" >0.969893</td>\n",
       "    </tr>\n",
       "    <tr>\n",
       "      <td id=\"T_f927a_row1_col0\" class=\"data row1 col0\" >2gEq8ocry6T8fyFv</td>\n",
       "      <td id=\"T_f927a_row1_col1\" class=\"data row1 col1\" >Katy Perry</td>\n",
       "      <td id=\"T_f927a_row1_col2\" class=\"data row1 col2\" >Waking Up in Vegas</td>\n",
       "      <td id=\"T_f927a_row1_col3\" class=\"data row1 col3\" >0.968996</td>\n",
       "    </tr>\n",
       "    <tr>\n",
       "      <td id=\"T_f927a_row2_col0\" class=\"data row2 col0\" >xf9WfXxEpkwo13Sa</td>\n",
       "      <td id=\"T_f927a_row2_col1\" class=\"data row2 col1\" >Billy Talent</td>\n",
       "      <td id=\"T_f927a_row2_col2\" class=\"data row2 col2\" >Burn the Evidence</td>\n",
       "      <td id=\"T_f927a_row2_col3\" class=\"data row2 col3\" >0.968618</td>\n",
       "    </tr>\n",
       "    <tr>\n",
       "      <td id=\"T_f927a_row3_col0\" class=\"data row3 col0\" >4Vn9VEIE8GRYVEo0</td>\n",
       "      <td id=\"T_f927a_row3_col1\" class=\"data row3 col1\" >Stereophonics</td>\n",
       "      <td id=\"T_f927a_row3_col2\" class=\"data row3 col2\" >Local Boy in the Photograph</td>\n",
       "      <td id=\"T_f927a_row3_col3\" class=\"data row3 col3\" >0.968587</td>\n",
       "    </tr>\n",
       "    <tr>\n",
       "      <td id=\"T_f927a_row4_col0\" class=\"data row4 col0\" >0pKdVXwboxWtasKV</td>\n",
       "      <td id=\"T_f927a_row4_col1\" class=\"data row4 col1\" >Laura Pausini</td>\n",
       "      <td id=\"T_f927a_row4_col2\" class=\"data row4 col2\" >Bellissimo così</td>\n",
       "      <td id=\"T_f927a_row4_col3\" class=\"data row4 col3\" >0.968492</td>\n",
       "    </tr>\n",
       "    <tr>\n",
       "      <td id=\"T_f927a_row5_col0\" class=\"data row5 col0\" >cXObHyfRP9zXpzul</td>\n",
       "      <td id=\"T_f927a_row5_col1\" class=\"data row5 col1\" >Lisa</td>\n",
       "      <td id=\"T_f927a_row5_col2\" class=\"data row5 col2\" >Empty MERMAiD</td>\n",
       "      <td id=\"T_f927a_row5_col3\" class=\"data row5 col3\" >0.968420</td>\n",
       "    </tr>\n",
       "    <tr>\n",
       "      <td id=\"T_f927a_row6_col0\" class=\"data row6 col0\" >rbw6CccHFvjcDTfV</td>\n",
       "      <td id=\"T_f927a_row6_col1\" class=\"data row6 col1\" >Aerosmith</td>\n",
       "      <td id=\"T_f927a_row6_col2\" class=\"data row6 col2\" >Lay It Down</td>\n",
       "      <td id=\"T_f927a_row6_col3\" class=\"data row6 col3\" >0.968012</td>\n",
       "    </tr>\n",
       "    <tr>\n",
       "      <td id=\"T_f927a_row7_col0\" class=\"data row7 col0\" >ZNa38KEncQOJQDPi</td>\n",
       "      <td id=\"T_f927a_row7_col1\" class=\"data row7 col1\" >BABYMETAL</td>\n",
       "      <td id=\"T_f927a_row7_col2\" class=\"data row7 col2\" >KARATE</td>\n",
       "      <td id=\"T_f927a_row7_col3\" class=\"data row7 col3\" >0.967655</td>\n",
       "    </tr>\n",
       "    <tr>\n",
       "      <td id=\"T_f927a_row8_col0\" class=\"data row8 col0\" >aIJRXTjxYPzwX2Y7</td>\n",
       "      <td id=\"T_f927a_row8_col1\" class=\"data row8 col1\" >Ace of Base</td>\n",
       "      <td id=\"T_f927a_row8_col2\" class=\"data row8 col2\" >Always Have, Always Will</td>\n",
       "      <td id=\"T_f927a_row8_col3\" class=\"data row8 col3\" >0.967221</td>\n",
       "    </tr>\n",
       "    <tr>\n",
       "      <td id=\"T_f927a_row9_col0\" class=\"data row9 col0\" >awAh4Mi8JoKeMJRB</td>\n",
       "      <td id=\"T_f927a_row9_col1\" class=\"data row9 col1\" >Skillet</td>\n",
       "      <td id=\"T_f927a_row9_col2\" class=\"data row9 col2\" >Lions</td>\n",
       "      <td id=\"T_f927a_row9_col3\" class=\"data row9 col3\" >0.967192</td>\n",
       "    </tr>\n",
       "  </tbody>\n",
       "</table>\n"
      ],
      "text/plain": [
       "<pandas.io.formats.style.Styler at 0x7fea6a7edc70>"
      ]
     },
     "metadata": {},
     "output_type": "display_data"
    }
   ],
   "source": [
    "# Example usage 1st retrieval system\n",
    "similar_songs = find_similar_songs(artist, song, mfcc_stats_df, top_n=10)\n",
    "print(f\"MSCC {N} recommendations for: {query_song['song']}\")\n",
    "display(similar_songs.style.hide(axis=\"index\"))"
   ]
  },
  {
   "cell_type": "code",
   "execution_count": 74,
   "metadata": {},
   "outputs": [
    {
     "data": {
      "text/html": [
       "<style type=\"text/css\">\n",
       "</style>\n",
       "<table id=\"T_adbf4\">\n",
       "  <thead>\n",
       "    <tr>\n",
       "      <th id=\"T_adbf4_level0_col0\" class=\"col_heading level0 col0\" >id</th>\n",
       "      <th id=\"T_adbf4_level0_col1\" class=\"col_heading level0 col1\" >artist</th>\n",
       "      <th id=\"T_adbf4_level0_col2\" class=\"col_heading level0 col2\" >song</th>\n",
       "      <th id=\"T_adbf4_level0_col3\" class=\"col_heading level0 col3\" >similarity</th>\n",
       "    </tr>\n",
       "  </thead>\n",
       "  <tbody>\n",
       "    <tr>\n",
       "      <td id=\"T_adbf4_row0_col0\" class=\"data row0 col0\" >F2Y16LT156bwNxJP</td>\n",
       "      <td id=\"T_adbf4_row0_col1\" class=\"data row0 col1\" >the i.l.y's</td>\n",
       "      <td id=\"T_adbf4_row0_col2\" class=\"data row0 col2\" >Itchy Itchy Itchy</td>\n",
       "      <td id=\"T_adbf4_row0_col3\" class=\"data row0 col3\" >0.979979</td>\n",
       "    </tr>\n",
       "    <tr>\n",
       "      <td id=\"T_adbf4_row1_col0\" class=\"data row1 col0\" >I6Ds6HkUVLrp7Nfb</td>\n",
       "      <td id=\"T_adbf4_row1_col1\" class=\"data row1 col1\" >Teenage Fanclub</td>\n",
       "      <td id=\"T_adbf4_row1_col2\" class=\"data row1 col2\" >Ain't That Enough</td>\n",
       "      <td id=\"T_adbf4_row1_col3\" class=\"data row1 col3\" >0.979297</td>\n",
       "    </tr>\n",
       "    <tr>\n",
       "      <td id=\"T_adbf4_row2_col0\" class=\"data row2 col0\" >rnnVZYpbjo5ya0kc</td>\n",
       "      <td id=\"T_adbf4_row2_col1\" class=\"data row2 col1\" >Daughtry</td>\n",
       "      <td id=\"T_adbf4_row2_col2\" class=\"data row2 col2\" >What I Meant to Say</td>\n",
       "      <td id=\"T_adbf4_row2_col3\" class=\"data row2 col3\" >0.978786</td>\n",
       "    </tr>\n",
       "    <tr>\n",
       "      <td id=\"T_adbf4_row3_col0\" class=\"data row3 col0\" >S9nRdLI9yIk2fBLm</td>\n",
       "      <td id=\"T_adbf4_row3_col1\" class=\"data row3 col1\" >Brendan Benson</td>\n",
       "      <td id=\"T_adbf4_row3_col2\" class=\"data row3 col2\" >Tiny Spark</td>\n",
       "      <td id=\"T_adbf4_row3_col3\" class=\"data row3 col3\" >0.977929</td>\n",
       "    </tr>\n",
       "    <tr>\n",
       "      <td id=\"T_adbf4_row4_col0\" class=\"data row4 col0\" >kOVK1Bh9ihrB0CkJ</td>\n",
       "      <td id=\"T_adbf4_row4_col1\" class=\"data row4 col1\" >Glee Cast</td>\n",
       "      <td id=\"T_adbf4_row4_col2\" class=\"data row4 col2\" >Somebody to Love</td>\n",
       "      <td id=\"T_adbf4_row4_col3\" class=\"data row4 col3\" >0.977510</td>\n",
       "    </tr>\n",
       "    <tr>\n",
       "      <td id=\"T_adbf4_row5_col0\" class=\"data row5 col0\" >2ekVWpFnEgAWatng</td>\n",
       "      <td id=\"T_adbf4_row5_col1\" class=\"data row5 col1\" >Charly Bliss</td>\n",
       "      <td id=\"T_adbf4_row5_col2\" class=\"data row5 col2\" >Heaven</td>\n",
       "      <td id=\"T_adbf4_row5_col3\" class=\"data row5 col3\" >0.977170</td>\n",
       "    </tr>\n",
       "    <tr>\n",
       "      <td id=\"T_adbf4_row6_col0\" class=\"data row6 col0\" >xXatmqi10p9emomf</td>\n",
       "      <td id=\"T_adbf4_row6_col1\" class=\"data row6 col1\" >Okkervil River</td>\n",
       "      <td id=\"T_adbf4_row6_col2\" class=\"data row6 col2\" >For Real</td>\n",
       "      <td id=\"T_adbf4_row6_col3\" class=\"data row6 col3\" >0.976445</td>\n",
       "    </tr>\n",
       "    <tr>\n",
       "      <td id=\"T_adbf4_row7_col0\" class=\"data row7 col0\" >AJRMp2jBYDQrME9q</td>\n",
       "      <td id=\"T_adbf4_row7_col1\" class=\"data row7 col1\" >Jonas Brothers</td>\n",
       "      <td id=\"T_adbf4_row7_col2\" class=\"data row7 col2\" >Invisible</td>\n",
       "      <td id=\"T_adbf4_row7_col3\" class=\"data row7 col3\" >0.976403</td>\n",
       "    </tr>\n",
       "    <tr>\n",
       "      <td id=\"T_adbf4_row8_col0\" class=\"data row8 col0\" >h6UVygOZUZmbO4gX</td>\n",
       "      <td id=\"T_adbf4_row8_col1\" class=\"data row8 col1\" >Wanda</td>\n",
       "      <td id=\"T_adbf4_row8_col2\" class=\"data row8 col2\" >bologna</td>\n",
       "      <td id=\"T_adbf4_row8_col3\" class=\"data row8 col3\" >0.976314</td>\n",
       "    </tr>\n",
       "    <tr>\n",
       "      <td id=\"T_adbf4_row9_col0\" class=\"data row9 col0\" >dAkyvtLIefgavKD9</td>\n",
       "      <td id=\"T_adbf4_row9_col1\" class=\"data row9 col1\" >Stream of Passion</td>\n",
       "      <td id=\"T_adbf4_row9_col2\" class=\"data row9 col2\" >The Curse</td>\n",
       "      <td id=\"T_adbf4_row9_col3\" class=\"data row9 col3\" >0.975273</td>\n",
       "    </tr>\n",
       "  </tbody>\n",
       "</table>\n"
      ],
      "text/plain": [
       "<pandas.io.formats.style.Styler at 0x7feaa9eca0a0>"
      ]
     },
     "metadata": {},
     "output_type": "display_data"
    }
   ],
   "source": [
    "# 2nd retr system\n",
    "similar_songs = find_similar_songs(\"Laura Pausini\", \"Tra Te E Il Mare\", blf_df, top_n=10)\n",
    "display(similar_songs.style.hide(axis=\"index\"))"
   ]
  },
  {
   "cell_type": "code",
   "execution_count": 75,
   "metadata": {},
   "outputs": [
    {
     "data": {
      "text/html": [
       "<style type=\"text/css\">\n",
       "</style>\n",
       "<table id=\"T_445e9\">\n",
       "  <thead>\n",
       "    <tr>\n",
       "      <th id=\"T_445e9_level0_col0\" class=\"col_heading level0 col0\" >id</th>\n",
       "      <th id=\"T_445e9_level0_col1\" class=\"col_heading level0 col1\" >artist</th>\n",
       "      <th id=\"T_445e9_level0_col2\" class=\"col_heading level0 col2\" >song</th>\n",
       "      <th id=\"T_445e9_level0_col3\" class=\"col_heading level0 col3\" >similarity</th>\n",
       "    </tr>\n",
       "  </thead>\n",
       "  <tbody>\n",
       "    <tr>\n",
       "      <td id=\"T_445e9_row0_col0\" class=\"data row0 col0\" >hyAOwBgnAOL7f66Q</td>\n",
       "      <td id=\"T_445e9_row0_col1\" class=\"data row0 col1\" >Laura Pausini</td>\n",
       "      <td id=\"T_445e9_row0_col2\" class=\"data row0 col2\" >Entre Tu Y Mil Mares</td>\n",
       "      <td id=\"T_445e9_row0_col3\" class=\"data row0 col3\" >0.410236</td>\n",
       "    </tr>\n",
       "    <tr>\n",
       "      <td id=\"T_445e9_row1_col0\" class=\"data row1 col0\" >PqImzEp8jEAUrtx0</td>\n",
       "      <td id=\"T_445e9_row1_col1\" class=\"data row1 col1\" >Fernanda Takai</td>\n",
       "      <td id=\"T_445e9_row1_col2\" class=\"data row1 col2\" >Diz que fui por aÍ</td>\n",
       "      <td id=\"T_445e9_row1_col3\" class=\"data row1 col3\" >0.392705</td>\n",
       "    </tr>\n",
       "    <tr>\n",
       "      <td id=\"T_445e9_row2_col0\" class=\"data row2 col0\" >ac6oJAIFYM730IcS</td>\n",
       "      <td id=\"T_445e9_row2_col1\" class=\"data row2 col1\" >Mark Ronson</td>\n",
       "      <td id=\"T_445e9_row2_col2\" class=\"data row2 col2\" >Valerie (feat. Amy Winehouse)</td>\n",
       "      <td id=\"T_445e9_row2_col3\" class=\"data row2 col3\" >0.373606</td>\n",
       "    </tr>\n",
       "    <tr>\n",
       "      <td id=\"T_445e9_row3_col0\" class=\"data row3 col0\" >jCr64GDnzODJJsyx</td>\n",
       "      <td id=\"T_445e9_row3_col1\" class=\"data row3 col1\" >Fun Boy Three</td>\n",
       "      <td id=\"T_445e9_row3_col2\" class=\"data row3 col2\" >Our Lips Are Sealed</td>\n",
       "      <td id=\"T_445e9_row3_col3\" class=\"data row3 col3\" >0.370938</td>\n",
       "    </tr>\n",
       "    <tr>\n",
       "      <td id=\"T_445e9_row4_col0\" class=\"data row4 col0\" >90qHDMeEXOmGjG3W</td>\n",
       "      <td id=\"T_445e9_row4_col1\" class=\"data row4 col1\" >Laura Pausini</td>\n",
       "      <td id=\"T_445e9_row4_col2\" class=\"data row4 col2\" >Il mio sbaglio più grande</td>\n",
       "      <td id=\"T_445e9_row4_col3\" class=\"data row4 col3\" >0.368899</td>\n",
       "    </tr>\n",
       "    <tr>\n",
       "      <td id=\"T_445e9_row5_col0\" class=\"data row5 col0\" >jPQ15ZwL5PrusQZd</td>\n",
       "      <td id=\"T_445e9_row5_col1\" class=\"data row5 col1\" >The Mamas & the Papas</td>\n",
       "      <td id=\"T_445e9_row5_col2\" class=\"data row5 col2\" >Dream A Little Dream Of Me</td>\n",
       "      <td id=\"T_445e9_row5_col3\" class=\"data row5 col3\" >0.366276</td>\n",
       "    </tr>\n",
       "    <tr>\n",
       "      <td id=\"T_445e9_row6_col0\" class=\"data row6 col0\" >8AQ5QPZoIH144sY6</td>\n",
       "      <td id=\"T_445e9_row6_col1\" class=\"data row6 col1\" >Smokie</td>\n",
       "      <td id=\"T_445e9_row6_col2\" class=\"data row6 col2\" >Living Next Door to Alice</td>\n",
       "      <td id=\"T_445e9_row6_col3\" class=\"data row6 col3\" >0.363653</td>\n",
       "    </tr>\n",
       "    <tr>\n",
       "      <td id=\"T_445e9_row7_col0\" class=\"data row7 col0\" >oq6lTb4nLtIrPRHr</td>\n",
       "      <td id=\"T_445e9_row7_col1\" class=\"data row7 col1\" >Zazie</td>\n",
       "      <td id=\"T_445e9_row7_col2\" class=\"data row7 col2\" >Je Suis Un Homme</td>\n",
       "      <td id=\"T_445e9_row7_col3\" class=\"data row7 col3\" >0.350376</td>\n",
       "    </tr>\n",
       "    <tr>\n",
       "      <td id=\"T_445e9_row8_col0\" class=\"data row8 col0\" >5162TsbI8HVFdeiW</td>\n",
       "      <td id=\"T_445e9_row8_col1\" class=\"data row8 col1\" >Suede</td>\n",
       "      <td id=\"T_445e9_row8_col2\" class=\"data row8 col2\" >Trash</td>\n",
       "      <td id=\"T_445e9_row8_col3\" class=\"data row8 col3\" >0.336839</td>\n",
       "    </tr>\n",
       "    <tr>\n",
       "      <td id=\"T_445e9_row9_col0\" class=\"data row9 col0\" >6xHlTE7G5TPIszvP</td>\n",
       "      <td id=\"T_445e9_row9_col1\" class=\"data row9 col1\" >Emarosa</td>\n",
       "      <td id=\"T_445e9_row9_col2\" class=\"data row9 col2\" >A Toast To The Future Kids!</td>\n",
       "      <td id=\"T_445e9_row9_col3\" class=\"data row9 col3\" >0.334675</td>\n",
       "    </tr>\n",
       "  </tbody>\n",
       "</table>\n"
      ],
      "text/plain": [
       "<pandas.io.formats.style.Styler at 0x7fea99c8be50>"
      ]
     },
     "metadata": {},
     "output_type": "display_data"
    }
   ],
   "source": [
    "# 3nd retr system\n",
    "similar_songs = find_similar_songs(\"Laura Pausini\", \"Tra Te E Il Mare\", ivec_df, top_n=10)\n",
    "display(similar_songs.style.hide(axis=\"index\"))"
   ]
  },
  {
   "cell_type": "code",
   "execution_count": 76,
   "metadata": {},
   "outputs": [
    {
     "data": {
      "text/html": [
       "<style type=\"text/css\">\n",
       "</style>\n",
       "<table id=\"T_f2aed\">\n",
       "  <thead>\n",
       "    <tr>\n",
       "      <th id=\"T_f2aed_level0_col0\" class=\"col_heading level0 col0\" >id</th>\n",
       "      <th id=\"T_f2aed_level0_col1\" class=\"col_heading level0 col1\" >artist</th>\n",
       "      <th id=\"T_f2aed_level0_col2\" class=\"col_heading level0 col2\" >song</th>\n",
       "      <th id=\"T_f2aed_level0_col3\" class=\"col_heading level0 col3\" >similarity</th>\n",
       "    </tr>\n",
       "  </thead>\n",
       "  <tbody>\n",
       "    <tr>\n",
       "      <td id=\"T_f2aed_row0_col0\" class=\"data row0 col0\" >3puEiVevhqrziT7t</td>\n",
       "      <td id=\"T_f2aed_row0_col1\" class=\"data row0 col1\" >Selena</td>\n",
       "      <td id=\"T_f2aed_row0_col2\" class=\"data row0 col2\" >Si Una Vez</td>\n",
       "      <td id=\"T_f2aed_row0_col3\" class=\"data row0 col3\" >0.982757</td>\n",
       "    </tr>\n",
       "    <tr>\n",
       "      <td id=\"T_f2aed_row1_col0\" class=\"data row1 col0\" >Qh5XjFCInkeOAYzu</td>\n",
       "      <td id=\"T_f2aed_row1_col1\" class=\"data row1 col1\" >Supergrass</td>\n",
       "      <td id=\"T_f2aed_row1_col2\" class=\"data row1 col2\" >Time</td>\n",
       "      <td id=\"T_f2aed_row1_col3\" class=\"data row1 col3\" >0.981092</td>\n",
       "    </tr>\n",
       "    <tr>\n",
       "      <td id=\"T_f2aed_row2_col0\" class=\"data row2 col0\" >5stZqMOVZDKmzPt5</td>\n",
       "      <td id=\"T_f2aed_row2_col1\" class=\"data row2 col1\" >Kacey Musgraves</td>\n",
       "      <td id=\"T_f2aed_row2_col2\" class=\"data row2 col2\" >Slow Burn</td>\n",
       "      <td id=\"T_f2aed_row2_col3\" class=\"data row2 col3\" >0.977675</td>\n",
       "    </tr>\n",
       "    <tr>\n",
       "      <td id=\"T_f2aed_row3_col0\" class=\"data row3 col0\" >kTDmcHeyW2hcF6bQ</td>\n",
       "      <td id=\"T_f2aed_row3_col1\" class=\"data row3 col1\" >Michael Jackson</td>\n",
       "      <td id=\"T_f2aed_row3_col2\" class=\"data row3 col2\" >Girl You're So Together</td>\n",
       "      <td id=\"T_f2aed_row3_col3\" class=\"data row3 col3\" >0.975120</td>\n",
       "    </tr>\n",
       "    <tr>\n",
       "      <td id=\"T_f2aed_row4_col0\" class=\"data row4 col0\" >305Grk7cARdFuECa</td>\n",
       "      <td id=\"T_f2aed_row4_col1\" class=\"data row4 col1\" >Alicia Keys</td>\n",
       "      <td id=\"T_f2aed_row4_col2\" class=\"data row4 col2\" >Teenage Love Affair</td>\n",
       "      <td id=\"T_f2aed_row4_col3\" class=\"data row4 col3\" >0.972838</td>\n",
       "    </tr>\n",
       "    <tr>\n",
       "      <td id=\"T_f2aed_row5_col0\" class=\"data row5 col0\" >4oEK2TmxA9iA2NxY</td>\n",
       "      <td id=\"T_f2aed_row5_col1\" class=\"data row5 col1\" >Rush</td>\n",
       "      <td id=\"T_f2aed_row5_col2\" class=\"data row5 col2\" >Digital Man</td>\n",
       "      <td id=\"T_f2aed_row5_col3\" class=\"data row5 col3\" >0.970699</td>\n",
       "    </tr>\n",
       "    <tr>\n",
       "      <td id=\"T_f2aed_row6_col0\" class=\"data row6 col0\" >89HLanWesQTluceT</td>\n",
       "      <td id=\"T_f2aed_row6_col1\" class=\"data row6 col1\" >Sia</td>\n",
       "      <td id=\"T_f2aed_row6_col2\" class=\"data row6 col2\" >Butterflies</td>\n",
       "      <td id=\"T_f2aed_row6_col3\" class=\"data row6 col3\" >0.968502</td>\n",
       "    </tr>\n",
       "    <tr>\n",
       "      <td id=\"T_f2aed_row7_col0\" class=\"data row7 col0\" >8mn4GK8r3v50WwQN</td>\n",
       "      <td id=\"T_f2aed_row7_col1\" class=\"data row7 col1\" >Belinda</td>\n",
       "      <td id=\"T_f2aed_row7_col2\" class=\"data row7 col2\" >Sal de Mi Piel</td>\n",
       "      <td id=\"T_f2aed_row7_col3\" class=\"data row7 col3\" >0.968195</td>\n",
       "    </tr>\n",
       "    <tr>\n",
       "      <td id=\"T_f2aed_row8_col0\" class=\"data row8 col0\" >pmZr3XGxuiF2FVcY</td>\n",
       "      <td id=\"T_f2aed_row8_col1\" class=\"data row8 col1\" >Iced Earth</td>\n",
       "      <td id=\"T_f2aed_row8_col2\" class=\"data row8 col2\" >Watching Over Me - Remixed & Remastered</td>\n",
       "      <td id=\"T_f2aed_row8_col3\" class=\"data row8 col3\" >0.966656</td>\n",
       "    </tr>\n",
       "    <tr>\n",
       "      <td id=\"T_f2aed_row9_col0\" class=\"data row9 col0\" >B3WpZ1qa8SBlbGU2</td>\n",
       "      <td id=\"T_f2aed_row9_col1\" class=\"data row9 col1\" >Dusty Springfield</td>\n",
       "      <td id=\"T_f2aed_row9_col2\" class=\"data row9 col2\" >Son of a Preacher Man</td>\n",
       "      <td id=\"T_f2aed_row9_col3\" class=\"data row9 col3\" >0.966540</td>\n",
       "    </tr>\n",
       "  </tbody>\n",
       "</table>\n"
      ],
      "text/plain": [
       "<pandas.io.formats.style.Styler at 0x7fea6a742220>"
      ]
     },
     "metadata": {},
     "output_type": "display_data"
    }
   ],
   "source": [
    "#4th retr system\n",
    "similar_songs = find_similar_songs(\"Laura Pausini\", \"Tra Te E Il Mare\", dnn_df, top_n=10)\n",
    "display(similar_songs.style.hide(axis=\"index\"))"
   ]
  },
  {
   "attachments": {},
   "cell_type": "markdown",
   "metadata": {},
   "source": [
    "____________________________________________________________"
   ]
  },
  {
   "cell_type": "code",
   "execution_count": 101,
   "metadata": {},
   "outputs": [],
   "source": [
    "\n",
    "def precision_at_k(retrieved_df, query_id, genre_df, k):\n",
    "    if k == 0:\n",
    "        return 0\n",
    "    retrieved_ids = retrieved_df['id'].head(k)\n",
    "    query_genres = set(genre_df[genre_df['id'] == query_id]['genre'].values[0])\n",
    "\n",
    "    relevant_retrieved = sum(retrieved_ids.apply(lambda x: bool(set(genre_df[genre_df['id'] == x]['genre'].values[0]).intersection(query_genres))))\n",
    "    return relevant_retrieved / k\n",
    "\n",
    "def recall_at_k(retrieved_df, query_id, genre_df, k):\n",
    "    retrieved_ids = retrieved_df['id'].head(k)\n",
    "    query_genres = set(genre_df[genre_df['id'] == query_id]['genre'].values[0])\n",
    "    total_relevant = len(genre_df[genre_df['genre'].apply(lambda x: bool(set(x).intersection(query_genres)))])\n",
    "    \n",
    "    if total_relevant == 0:\n",
    "        return 0\n",
    "\n",
    "    relevant_retrieved = sum(retrieved_ids.apply(lambda x: bool(set(genre_df[genre_df['id'] == x]['genre'].values[0]).intersection(query_genres))))\n",
    "    return relevant_retrieved / total_relevant\n"
   ]
  },
  {
   "cell_type": "code",
   "execution_count": 102,
   "metadata": {},
   "outputs": [],
   "source": [
    "def evaluate_system(retrieval_function, df, info_df, genre_df, k):\n",
    "    precisions = []\n",
    "    recalls = []\n",
    "\n",
    "    for idx, row in info_df.iterrows():\n",
    "        artist, song = row['artist'], row['song']\n",
    "        \n",
    "        # Retrieve top k similar songs\n",
    "        similar_songs_df = retrieval_function(artist, song, df, top_n=k)\n",
    "        \n",
    "        # Calculate precision and recall\n",
    "        precisions.append(precision_at_k(similar_songs_df, row['id'], genre_df, k))\n",
    "        recalls.append(recall_at_k(similar_songs_df, row['id'], genre_df, k))\n",
    "\n",
    "    avg_precision = sum(precisions) / len(precisions)\n",
    "    avg_recall = sum(recalls) / len(recalls)\n",
    "\n",
    "    return avg_precision, avg_recall\n",
    "\n",
    "# Example usage\n",
    "\n"
   ]
  },
  {
   "cell_type": "code",
   "execution_count": 103,
   "metadata": {},
   "outputs": [
    {
     "name": "stdout",
     "output_type": "stream",
     "text": [
      "Song ID not found!\n"
     ]
    },
    {
     "ename": "TypeError",
     "evalue": "'NoneType' object is not subscriptable",
     "output_type": "error",
     "traceback": [
      "\u001b[0;31m---------------------------------------------------------------------------\u001b[0m",
      "\u001b[0;31mTypeError\u001b[0m                                 Traceback (most recent call last)",
      "\u001b[1;32m/Users/giulia/Desktop/MULTIMEDIA SEARCH & RETRIEVAL 4.5ects/Project2.ipynb Cell 19\u001b[0m in \u001b[0;36m<cell line: 1>\u001b[0;34m()\u001b[0m\n\u001b[0;32m----> <a href='vscode-notebook-cell:/Users/giulia/Desktop/MULTIMEDIA%20SEARCH%20%26%20RETRIEVAL%204.5ects/Project2.ipynb#X34sZmlsZQ%3D%3D?line=0'>1</a>\u001b[0m avg_precision, avg_recall \u001b[39m=\u001b[39m evaluate_system(find_similar_songs, mfcc_stats_df, info_df, genre_df, k\u001b[39m=\u001b[39;49m\u001b[39m10\u001b[39;49m)\n\u001b[1;32m      <a href='vscode-notebook-cell:/Users/giulia/Desktop/MULTIMEDIA%20SEARCH%20%26%20RETRIEVAL%204.5ects/Project2.ipynb#X34sZmlsZQ%3D%3D?line=1'>2</a>\u001b[0m \u001b[39mprint\u001b[39m(\u001b[39mf\u001b[39m\u001b[39m\"\u001b[39m\u001b[39mAverage Precision@10: \u001b[39m\u001b[39m{\u001b[39;00mavg_precision\u001b[39m}\u001b[39;00m\u001b[39m, Average Recall@10: \u001b[39m\u001b[39m{\u001b[39;00mavg_recall\u001b[39m}\u001b[39;00m\u001b[39m\"\u001b[39m)\n",
      "\u001b[1;32m/Users/giulia/Desktop/MULTIMEDIA SEARCH & RETRIEVAL 4.5ects/Project2.ipynb Cell 19\u001b[0m in \u001b[0;36mevaluate_system\u001b[0;34m(retrieval_function, df, info_df, genre_df, k)\u001b[0m\n\u001b[1;32m      <a href='vscode-notebook-cell:/Users/giulia/Desktop/MULTIMEDIA%20SEARCH%20%26%20RETRIEVAL%204.5ects/Project2.ipynb#X34sZmlsZQ%3D%3D?line=8'>9</a>\u001b[0m     similar_songs_df \u001b[39m=\u001b[39m retrieval_function(artist, song, df, top_n\u001b[39m=\u001b[39mk)\n\u001b[1;32m     <a href='vscode-notebook-cell:/Users/giulia/Desktop/MULTIMEDIA%20SEARCH%20%26%20RETRIEVAL%204.5ects/Project2.ipynb#X34sZmlsZQ%3D%3D?line=10'>11</a>\u001b[0m     \u001b[39m# Calculate precision and recall\u001b[39;00m\n\u001b[0;32m---> <a href='vscode-notebook-cell:/Users/giulia/Desktop/MULTIMEDIA%20SEARCH%20%26%20RETRIEVAL%204.5ects/Project2.ipynb#X34sZmlsZQ%3D%3D?line=11'>12</a>\u001b[0m     precisions\u001b[39m.\u001b[39mappend(precision_at_k(similar_songs_df, row[\u001b[39m'\u001b[39;49m\u001b[39mid\u001b[39;49m\u001b[39m'\u001b[39;49m], genre_df, k))\n\u001b[1;32m     <a href='vscode-notebook-cell:/Users/giulia/Desktop/MULTIMEDIA%20SEARCH%20%26%20RETRIEVAL%204.5ects/Project2.ipynb#X34sZmlsZQ%3D%3D?line=12'>13</a>\u001b[0m     recalls\u001b[39m.\u001b[39mappend(recall_at_k(similar_songs_df, row[\u001b[39m'\u001b[39m\u001b[39mid\u001b[39m\u001b[39m'\u001b[39m], genre_df, k))\n\u001b[1;32m     <a href='vscode-notebook-cell:/Users/giulia/Desktop/MULTIMEDIA%20SEARCH%20%26%20RETRIEVAL%204.5ects/Project2.ipynb#X34sZmlsZQ%3D%3D?line=14'>15</a>\u001b[0m avg_precision \u001b[39m=\u001b[39m \u001b[39msum\u001b[39m(precisions) \u001b[39m/\u001b[39m \u001b[39mlen\u001b[39m(precisions)\n",
      "\u001b[1;32m/Users/giulia/Desktop/MULTIMEDIA SEARCH & RETRIEVAL 4.5ects/Project2.ipynb Cell 19\u001b[0m in \u001b[0;36mprecision_at_k\u001b[0;34m(retrieved_df, query_id, genre_df, k)\u001b[0m\n\u001b[1;32m      <a href='vscode-notebook-cell:/Users/giulia/Desktop/MULTIMEDIA%20SEARCH%20%26%20RETRIEVAL%204.5ects/Project2.ipynb#X34sZmlsZQ%3D%3D?line=1'>2</a>\u001b[0m \u001b[39mif\u001b[39;00m k \u001b[39m==\u001b[39m \u001b[39m0\u001b[39m:\n\u001b[1;32m      <a href='vscode-notebook-cell:/Users/giulia/Desktop/MULTIMEDIA%20SEARCH%20%26%20RETRIEVAL%204.5ects/Project2.ipynb#X34sZmlsZQ%3D%3D?line=2'>3</a>\u001b[0m     \u001b[39mreturn\u001b[39;00m \u001b[39m0\u001b[39m\n\u001b[0;32m----> <a href='vscode-notebook-cell:/Users/giulia/Desktop/MULTIMEDIA%20SEARCH%20%26%20RETRIEVAL%204.5ects/Project2.ipynb#X34sZmlsZQ%3D%3D?line=3'>4</a>\u001b[0m retrieved_ids \u001b[39m=\u001b[39m retrieved_df[\u001b[39m'\u001b[39;49m\u001b[39mid\u001b[39;49m\u001b[39m'\u001b[39;49m]\u001b[39m.\u001b[39mhead(k)\n\u001b[1;32m      <a href='vscode-notebook-cell:/Users/giulia/Desktop/MULTIMEDIA%20SEARCH%20%26%20RETRIEVAL%204.5ects/Project2.ipynb#X34sZmlsZQ%3D%3D?line=4'>5</a>\u001b[0m query_genres \u001b[39m=\u001b[39m \u001b[39mset\u001b[39m(genre_df[genre_df[\u001b[39m'\u001b[39m\u001b[39mid\u001b[39m\u001b[39m'\u001b[39m] \u001b[39m==\u001b[39m query_id][\u001b[39m'\u001b[39m\u001b[39mgenre\u001b[39m\u001b[39m'\u001b[39m]\u001b[39m.\u001b[39mvalues[\u001b[39m0\u001b[39m])\n\u001b[1;32m      <a href='vscode-notebook-cell:/Users/giulia/Desktop/MULTIMEDIA%20SEARCH%20%26%20RETRIEVAL%204.5ects/Project2.ipynb#X34sZmlsZQ%3D%3D?line=6'>7</a>\u001b[0m relevant_retrieved \u001b[39m=\u001b[39m \u001b[39msum\u001b[39m(retrieved_ids\u001b[39m.\u001b[39mapply(\u001b[39mlambda\u001b[39;00m x: \u001b[39mbool\u001b[39m(\u001b[39mset\u001b[39m(genre_df[genre_df[\u001b[39m'\u001b[39m\u001b[39mid\u001b[39m\u001b[39m'\u001b[39m] \u001b[39m==\u001b[39m x][\u001b[39m'\u001b[39m\u001b[39mgenre\u001b[39m\u001b[39m'\u001b[39m]\u001b[39m.\u001b[39mvalues[\u001b[39m0\u001b[39m])\u001b[39m.\u001b[39mintersection(query_genres))))\n",
      "\u001b[0;31mTypeError\u001b[0m: 'NoneType' object is not subscriptable"
     ]
    }
   ],
   "source": [
    "avg_precision, avg_recall = evaluate_system(find_similar_songs, mfcc_stats_df, info_df, genre_df, k=10)\n",
    "print(f\"Average Precision@10: {avg_precision}, Average Recall@10: {avg_recall}\")"
   ]
  }
 ],
 "metadata": {
  "kernelspec": {
   "display_name": "Python 3",
   "language": "python",
   "name": "python3"
  },
  "language_info": {
   "codemirror_mode": {
    "name": "ipython",
    "version": 3
   },
   "file_extension": ".py",
   "mimetype": "text/x-python",
   "name": "python",
   "nbconvert_exporter": "python",
   "pygments_lexer": "ipython3",
   "version": "3.9.12"
  },
  "orig_nbformat": 4
 },
 "nbformat": 4,
 "nbformat_minor": 2
}
