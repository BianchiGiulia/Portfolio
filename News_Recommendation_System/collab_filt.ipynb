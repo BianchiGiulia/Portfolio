{
 "cells": [
  {
   "cell_type": "code",
   "execution_count": null,
   "metadata": {},
   "outputs": [],
   "source": [
    "#imports\n",
    "import numpy as np\n",
    "import pandas as pd\n",
    "import seaborn as sns\n",
    "import matplotlib.pyplot as plt\n",
    "\n",
    "\n",
    "#disabe annoying warnings\n",
    "import warnings\n",
    "warnings.filterwarnings('ignore')"
   ]
  },
  {
   "attachments": {},
   "cell_type": "markdown",
   "metadata": {},
   "source": [
    "# dataset: MIND-small"
   ]
  },
  {
   "cell_type": "code",
   "execution_count": 4,
   "metadata": {},
   "outputs": [],
   "source": [
    "news = 'MINDsmall_train/news.tsv'\n",
    "behavior = 'MINDsmall_train/behaviors.tsv'\n",
    "#news_test = 'MINDlarge_test/news.tsv'\n",
    "#news_valid = 'MINDlarge_val/news.tsv'\n",
    "\n",
    "#entity_embedding.vec ->\tThe embeddings of entities in news extracted from knowledge graph \n",
    "#relation_embedding.vec\t->  The embeddings of relations between entities extracted from knowledge graph\n",
    "#both [ID (retrievable from news dataset: columns) - EMB VALUES]\n",
    "\n",
    "#-------------------------------------------------------------------------------------------------\n",
    "def load_news_df(path):\n",
    "    if 'news' in path:\n",
    "        columns = ['News ID',\n",
    "                \"Category\",\n",
    "                \"SubCategory\",\n",
    "                \"Title\",\n",
    "                \"Abstract\",\n",
    "                \"URL\",\n",
    "                \"Title Entities\",\n",
    "                \"Abstract Entities \"]\n",
    "    \n",
    "    elif 'behavior' in path:\n",
    "        columns = ['Impression ID',\n",
    "                \"User ID\",\n",
    "                \"Time\",\n",
    "                \"History\",\n",
    "                \"Impressions\"]\n",
    "    \n",
    "    df = pd.read_csv(path, sep='\\t', header=None, names=columns)\n",
    "    \n",
    "    return df\n",
    "\n",
    "#news_df.shape\n",
    "\n",
    "news, behavior = load_news_df(news), load_news_df(behavior)\n",
    "#test = load_news_df(news_test)\n",
    "#valid = load_news_df(news_valid)\n",
    "#print(train.shape, test.shape, valid.shape)\n",
    "\n",
    "#TO-DO: 16sec is too much, save a subset of the dataset\n"
   ]
  },
  {
   "cell_type": "code",
   "execution_count": 5,
   "metadata": {},
   "outputs": [
    {
     "data": {
      "text/plain": [
       "(51282, 8)"
      ]
     },
     "execution_count": 5,
     "metadata": {},
     "output_type": "execute_result"
    }
   ],
   "source": [
    "\n",
    "\"@TO-DO: use only news with category = 'news' & subcategory = 'newspolitics'\"\n",
    "#news = news[(news['Category'] == 'news') & (news['SubCategory'] == 'newspolitics')]\n",
    "#news.shape--->(51282, 8)\n",
    "\n",
    "news.shape"
   ]
  },
  {
   "cell_type": "code",
   "execution_count": 6,
   "metadata": {},
   "outputs": [],
   "source": [
    "behavior.shape#--->(156965, 5)\n",
    "behavior[\"History\"] = behavior[\"History\"].apply(lambda x: x.split(\" \") if isinstance(x, str) else [])\n"
   ]
  },
  {
   "cell_type": "code",
   "execution_count": 7,
   "metadata": {},
   "outputs": [],
   "source": [
    "#initialize interaction matrix shape (users, news)\n",
    "interaction_matrix_small = pd.DataFrame(0, index=behavior['User ID'].unique(), columns=news['News ID'].unique())\n",
    "#NEXT: populate it using both history and impressions"
   ]
  },
  {
   "attachments": {},
   "cell_type": "markdown",
   "metadata": {},
   "source": [
    "**Q: binary coding (1,0) vs ternary coding (1,0,-1)** ? <br>\n",
    "PRO (TERNARY): deeplearning algo leverage negative feedback efficiently<br>\n",
    "CONTRO: More complex, possible noise (non click != non interest is not given)"
   ]
  },
  {
   "cell_type": "code",
   "execution_count": 8,
   "metadata": {},
   "outputs": [],
   "source": [
    "#binary encoding\n",
    "for _, row in behavior.iterrows():\n",
    "    user_id = row['User ID']\n",
    "    history_news_ids = row['History']  \n",
    "    \n",
    "    for news_id in history_news_ids:\n",
    "        if news_id in interaction_matrix_small.columns:\n",
    "            interaction_matrix_small.at[user_id, news_id] = 1\n",
    "            \n",
    "#this takes 45 sec - 1 min"
   ]
  },
  {
   "cell_type": "code",
   "execution_count": 9,
   "metadata": {},
   "outputs": [],
   "source": [
    "interaction_matrix_small = interaction_matrix_small.astype('int8')"
   ]
  },
  {
   "cell_type": "code",
   "execution_count": 10,
   "metadata": {},
   "outputs": [],
   "source": [
    "#save interaction matrix\n",
    "interaction_matrix_small.to_parquet('interaction_matrix_small.parquet') #only with History data\n",
    "#takes 50 sec"
   ]
  },
  {
   "cell_type": "code",
   "execution_count": 11,
   "metadata": {},
   "outputs": [],
   "source": [
    "behavior[\"Impressions\"] = behavior[\"Impressions\"].apply(lambda x: x.split(\" \") if isinstance(x, str) else [])"
   ]
  },
  {
   "cell_type": "code",
   "execution_count": 13,
   "metadata": {},
   "outputs": [],
   "source": [
    "for _, row in behavior.iterrows():\n",
    "    user_id = row['User ID']\n",
    "    impressions = row['Impressions']  \n",
    "\n",
    "    for impression in impressions:\n",
    "        news_id, clicked = impression.split('-')  # pair (news, clicked (1 or 0))\n",
    "        if clicked == '1' and news_id in interaction_matrix_small.columns:\n",
    "            interaction_matrix_small.at[user_id, news_id] = 1\n",
    "#9secs!"
   ]
  },
  {
   "cell_type": "code",
   "execution_count": 14,
   "metadata": {},
   "outputs": [],
   "source": [
    "interaction_matrix_small.to_parquet('interaction_matrix_small.parquet') # with History + Impressions data"
   ]
  },
  {
   "cell_type": "code",
   "execution_count": 15,
   "metadata": {},
   "outputs": [],
   "source": [
    "#Filter out user and news that have/been interacted less than 5 times\n",
    "# columns = news IDs\n",
    "cols_to_keep = interaction_matrix_small.columns[interaction_matrix_small.sum(axis=0) >= 5]\n",
    "interaction_matrix_filtered = interaction_matrix_small[cols_to_keep]\n",
    "\n",
    "# rows = user IDs\n",
    "rows_to_keep = interaction_matrix_filtered.index[interaction_matrix_filtered.sum(axis=1) >= 5]\n",
    "interaction_matrix_filtered = interaction_matrix_filtered.loc[rows_to_keep]\n"
   ]
  },
  {
   "cell_type": "code",
   "execution_count": 24,
   "metadata": {},
   "outputs": [
    {
     "data": {
      "text/plain": [
       "(46600, 15520)"
      ]
     },
     "execution_count": 24,
     "metadata": {},
     "output_type": "execute_result"
    }
   ],
   "source": [
    "interaction_matrix_filtered.shape"
   ]
  },
  {
   "cell_type": "code",
   "execution_count": 27,
   "metadata": {},
   "outputs": [],
   "source": [
    "#ensure every user has interacted with at least 5 news, and every news has been clicked by at least 5 users\n",
    "def filter_interaction_matrix(matrix, min_interactions=5):\n",
    "    while True:\n",
    "        user_interactions = matrix.sum(axis=1)\n",
    "        news_interactions = matrix.sum(axis=0)\n",
    "        users_to_keep = user_interactions[user_interactions >= min_interactions].index\n",
    "        news_to_keep = news_interactions[news_interactions >= min_interactions].index\n",
    "        new_matrix = matrix.loc[users_to_keep, news_to_keep]\n",
    "        if new_matrix.shape == matrix.shape:\n",
    "            break\n",
    "        matrix = new_matrix\n",
    "\n",
    "    return new_matrix\n",
    "\n",
    "interaction_matrix_filtered = filter_interaction_matrix(interaction_matrix_small)\n"
   ]
  },
  {
   "cell_type": "code",
   "execution_count": 29,
   "metadata": {},
   "outputs": [
    {
     "name": "stdout",
     "output_type": "stream",
     "text": [
      "Minimum interactions per user: 5\n",
      "Minimum interactions per news item: 5\n",
      "(46594, 15471)\n"
     ]
    }
   ],
   "source": [
    "\n",
    "min_interactions_per_user = interaction_matrix_filtered.sum(axis=1).min()\n",
    "min_interactions_per_news = interaction_matrix_filtered.sum(axis=0).min()\n",
    "\n",
    "print(\"min int per user:\", min_interactions_per_user)\n",
    "print(\"min int per news:\", min_interactions_per_news)\n",
    "print(interaction_matrix_filtered.shape)\n"
   ]
  },
  {
   "cell_type": "code",
   "execution_count": 35,
   "metadata": {},
   "outputs": [],
   "source": [
    "#interaction_matrix_filtered.to_parquet('filtered_interaction_matrix.parquet')\n"
   ]
  },
  {
   "attachments": {},
   "cell_type": "markdown",
   "metadata": {},
   "source": [
    "_______________________________________________________________________________"
   ]
  },
  {
   "cell_type": "code",
   "execution_count": 37,
   "metadata": {},
   "outputs": [],
   "source": [
    "from sklearn.model_selection import train_test_split\n",
    "from scipy.sparse import csr_matrix\n",
    "\n",
    "# Convert DataFrame to a Sparse Matrix (if it's not already in that format)\n",
    "interaction_matrix_csr = csr_matrix(interaction_matrix_filtered.values)\n"
   ]
  },
  {
   "cell_type": "code",
   "execution_count": 38,
   "metadata": {},
   "outputs": [],
   "source": [
    "# Extracting Non-Zero Interactions\n",
    "users, items = interaction_matrix_csr.nonzero()\n",
    "interactions = list(zip(users, items))\n"
   ]
  },
  {
   "cell_type": "code",
   "execution_count": 39,
   "metadata": {},
   "outputs": [],
   "source": [
    "train_interactions, test_interactions = train_test_split(interactions, test_size=0.2, random_state=42)\n"
   ]
  },
  {
   "cell_type": "code",
   "execution_count": 40,
   "metadata": {},
   "outputs": [],
   "source": [
    "from scipy.sparse import coo_matrix\n",
    "\n",
    "# Function to create a sparse matrix from interactions\n",
    "def create_sparse_matrix(interactions, shape):\n",
    "    row, col = zip(*interactions)\n",
    "    data = np.ones(len(interactions))\n",
    "    return coo_matrix((data, (row, col)), shape=shape)\n",
    "\n",
    "# Create training and test sparse matrices\n",
    "train_matrix = create_sparse_matrix(train_interactions, interaction_matrix_csr.shape)\n",
    "test_matrix = create_sparse_matrix(test_interactions, interaction_matrix_csr.shape)\n"
   ]
  },
  {
   "cell_type": "code",
   "execution_count": 41,
   "metadata": {},
   "outputs": [
    {
     "name": "stdout",
     "output_type": "stream",
     "text": [
      "Number of users in test set but not in training set: 0\n"
     ]
    }
   ],
   "source": [
    "# Convert interaction lists back to sets of users\n",
    "train_users = set(user for user, _ in train_interactions)\n",
    "test_users = set(user for user, _ in test_interactions)\n",
    "\n",
    "# Check if all test users are in train users\n",
    "missing_users = test_users - train_users\n",
    "print(\"Number of users in test set but not in training set:\", len(missing_users))\n"
   ]
  },
  {
   "cell_type": "code",
   "execution_count": 42,
   "metadata": {},
   "outputs": [
    {
     "data": {
      "image/png": "[encoded data removed]",
      "text/plain": [
       "<Figure size 432x288 with 1 Axes>"
      ]
     },
     "metadata": {
      "needs_background": "light"
     },
     "output_type": "display_data"
    },
    {
     "data": {
      "image/png": "[encoded data removed]",
      "text/plain": [
       "<Figure size 432x288 with 1 Axes>"
      ]
     },
     "metadata": {
      "needs_background": "light"
     },
     "output_type": "display_data"
    }
   ],
   "source": [
    "import matplotlib.pyplot as plt\n",
    "\n",
    "# Function to plot interaction distribution\n",
    "def plot_interaction_distribution(interactions, title):\n",
    "    user_interactions = {}\n",
    "    for user, _ in interactions:\n",
    "        user_interactions[user] = user_interactions.get(user, 0) + 1\n",
    "\n",
    "    plt.hist(user_interactions.values(), bins=50, log=True)\n",
    "    plt.title(title)\n",
    "    plt.xlabel('Number of Interactions')\n",
    "    plt.ylabel('Number of Users (log scale)')\n",
    "    plt.show()\n",
    "\n",
    "# Plot distribution for training and test sets\n",
    "plot_interaction_distribution(train_interactions, 'Training Set Interactions')\n",
    "plot_interaction_distribution(test_interactions, 'Test Set Interactions')\n"
   ]
  },
  {
   "cell_type": "code",
   "execution_count": 43,
   "metadata": {},
   "outputs": [
    {
     "name": "stdout",
     "output_type": "stream",
     "text": [
      "Training Set Sparsity: 0.9987816161960853\n",
      "Test Set Sparsity: 0.9996954037022113\n"
     ]
    }
   ],
   "source": [
    "# Calculate sparsity\n",
    "def calculate_sparsity(matrix):\n",
    "    total_possible_interactions = matrix.shape[0] * matrix.shape[1]\n",
    "    actual_interactions = len(matrix.nonzero()[0])\n",
    "    sparsity = 1 - (actual_interactions / total_possible_interactions)\n",
    "    return sparsity\n",
    "\n",
    "train_sparsity = calculate_sparsity(train_matrix)\n",
    "test_sparsity = calculate_sparsity(test_matrix)\n",
    "\n",
    "print(\"Training Set Sparsity:\", train_sparsity)\n",
    "print(\"Test Set Sparsity:\", test_sparsity)\n"
   ]
  },
  {
   "cell_type": "code",
   "execution_count": 44,
   "metadata": {},
   "outputs": [
    {
     "name": "stdout",
     "output_type": "stream",
     "text": [
      "Number of interactions in the training set: 878279\n",
      "Number of interactions in the test set: 219570\n"
     ]
    }
   ],
   "source": [
    "print(\"Number of interactions in the training set:\", len(train_interactions))\n",
    "print(\"Number of interactions in the test set:\", len(test_interactions))\n"
   ]
  }
 ],
 "metadata": {
  "kernelspec": {
   "display_name": "Python 3",
   "language": "python",
   "name": "python3"
  },
  "language_info": {
   "codemirror_mode": {
    "name": "ipython",
    "version": 3
   },
   "file_extension": ".py",
   "mimetype": "text/x-python",
   "name": "python",
   "nbconvert_exporter": "python",
   "pygments_lexer": "ipython3",
   "version": "3.9.12"
  },
  "orig_nbformat": 4
 },
 "nbformat": 4,
 "nbformat_minor": 2
}
