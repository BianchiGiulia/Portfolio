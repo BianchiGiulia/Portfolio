{
 "cells": [
  {
   "attachments": {},
   "cell_type": "markdown",
   "metadata": {},
   "source": [
    "<h2 style=\"color: #0074D9;\">Table of Contents</h2>\n",
    "<ol>\n",
    "    <li><a href=\"#Data\" style=\"font-size: larger; color: #0074D9; font-weight: bold;\">Data Loading</a></li>\n",
    "    <li><a href=\"#IntMatr\" style=\"font-size: larger; color: #0074D9; font-weight: bold;\">Interaction Matrix</a></li>\n",
    "    <li><a href=\"#Split\" style=\"font-size: larger; color: #0074D9; font-weight: bold;\">Train/Test split</a></li>\n",
    "    <li><a href=\"#Baseline\" style=\"font-size: larger; color: #0074D9; font-weight: bold;\">Baseline POP-Recommender</a></li>\n",
    "    <li><a href=\"#Evaluation\" style=\"font-size: larger; color: #0074D9; font-weight: bold;\">Evaluation</a></li>\n",
    "</ol>"
   ]
  },
  {
   "cell_type": "code",
   "execution_count": 44,
   "metadata": {},
   "outputs": [],
   "source": [
    "#disabe annoying warnings\n",
    "import warnings\n",
    "warnings.filterwarnings('ignore')\n",
    "\n",
    "#imports\n",
    "import numpy as np\n",
    "import pandas as pd\n",
    "import seaborn as sns\n",
    "import matplotlib.pyplot as plt\n",
    "from scipy.sparse import csr_matrix, coo_matrix , save_npz, load_npz\n",
    "from sklearn.model_selection import train_test_split"
   ]
  },
  {
   "attachments": {},
   "cell_type": "markdown",
   "metadata": {},
   "source": [
    "\n",
    "<h1 style=\"color:rgb(0,120,170)\">Dataset: MIND-small</h1>\n",
    "\n",
    "------------------------------------------------------\n",
    "\n",
    "<a id=\"Data\"></a>\n",
    "#entity_embedding.vec ->\tThe embeddings of **entities** in news extracted from knowledge graph (prob Nodes) <br>\n",
    "#relation_embedding.vec\t->  The embeddings of **relations** between entities extracted from knowledge graph (ig Edges?)<br>\n",
    "#both [ID (retrievable from news dataset: columns) - EMB VALUES]"
   ]
  },
  {
   "cell_type": "code",
   "execution_count": null,
   "metadata": {},
   "outputs": [],
   "source": [
    "news = 'MINDsmall_train/news.tsv'\n",
    "behavior = 'MINDsmall_train/behaviors.tsv'\n",
    "#news_test = 'MINDlarge_test/news.tsv'\n",
    "#news_valid = 'MINDlarge_val/news.tsv'\n",
    "\n",
    "def load_news_df(path):\n",
    "    if 'news' in path:\n",
    "        columns = ['News ID',\n",
    "                \"Category\",\n",
    "                \"SubCategory\",\n",
    "                \"Title\",\n",
    "                \"Abstract\",\n",
    "                \"URL\",\n",
    "                \"Title Entities\",\n",
    "                \"Abstract Entities \"]\n",
    "    \n",
    "    elif 'behavior' in path:\n",
    "        columns = ['Impression ID',\n",
    "                \"User ID\",\n",
    "                \"Time\",\n",
    "                \"History\",\n",
    "                \"Impressions\"]\n",
    "    \n",
    "    df = pd.read_csv(path, sep='\\t', header=None, names=columns)\n",
    "    return df\n",
    "\n",
    "#load data\n",
    "news, behavior = load_news_df(news), load_news_df(behavior)\n",
    "interaction_matrix = pd.read_parquet('interaction_matrix.parquet')\n",
    "\n",
    "print(news.shape) # --->(51282, 8)\n",
    "print(behavior.shape)#--->(156965, 5)\n",
    "\n",
    "\n",
    "\n",
    "\"@TO-DO (possibly): use only news with category = 'news' & subcategory = 'newspolitics'\"\n",
    "#news = news[(news['Category'] == 'news') & (news['SubCategory'] == 'newspolitics')] #--->(2826, 8)\n"
   ]
  },
  {
   "attachments": {},
   "cell_type": "markdown",
   "metadata": {},
   "source": [
    "\n",
    "<h1 style=\"color:rgb(0,120,170)\">Interaction Matrix</h1>\n",
    "\n",
    "------------------------------------------------------\n",
    "\n",
    "<a id=\"IntMatr\"></a>\n"
   ]
  },
  {
   "cell_type": "code",
   "execution_count": 3,
   "metadata": {},
   "outputs": [
    {
     "name": "stdout",
     "output_type": "stream",
     "text": [
      "(50000, 51282)\n"
     ]
    }
   ],
   "source": [
    "#initialize interaction matrix shape (users, news)\n",
    "interaction_matrix_small = pd.DataFrame(0, index=behavior['User ID'].unique(), columns=news['News ID'].unique())\n",
    "print(interaction_matrix_small.shape) #--->(50000, 51282)"
   ]
  },
  {
   "attachments": {},
   "cell_type": "markdown",
   "metadata": {},
   "source": [
    "#NEXT: populate it using both history and impressions<br><br>\n",
    "**Q: binary coding (1,0) vs ternary coding (1,0,-1)** ? <br>\n",
    "PRO (TERNARY): deeplearning algo leverage negative feedback efficiently<br>\n",
    "CONTRO: More complex, possible noise (non click != non interest is not given)"
   ]
  },
  {
   "cell_type": "code",
   "execution_count": 4,
   "metadata": {},
   "outputs": [],
   "source": [
    "behavior[\"History\"] = behavior[\"History\"].apply(lambda x: x.split(\" \") if isinstance(x, str) else [])#make it iterable\n",
    "behavior[\"Impressions\"] = behavior[\"Impressions\"].apply(lambda x: x.split(\" \") if isinstance(x, str) else [])\n",
    "\n",
    "updates = {}\n",
    "\n",
    "for index, row in behavior.iterrows():\n",
    "    user_id = row['User ID']\n",
    "    \n",
    "    #binary encoding to populate matrix\n",
    "    for news_id in row['History']:                          #w/ history\n",
    "        if news_id in interaction_matrix_small.columns:\n",
    "            updates[(user_id, news_id)] = 1\n",
    "            \n",
    "    \n",
    "    for impression in row['Impressions']:                   #w/ impression\n",
    "        news_id, clicked = impression.split('-')\n",
    "        if clicked == '1' and news_id in interaction_matrix_small.columns:\n",
    "            updates[(user_id, news_id)] = 1\n",
    "\n",
    "for (user_id, news_id), value in updates.items():\n",
    "    interaction_matrix_small.at[user_id, news_id] = value\n"
   ]
  },
  {
   "cell_type": "code",
   "execution_count": null,
   "metadata": {},
   "outputs": [],
   "source": [
    "#visualize e.g. first 10 \n",
    "interaction_matrix_small = interaction_matrix_small.astype('int8')#it's just 1 and 0\n",
    "interaction_matrix_small.iloc[:10, :10]\n"
   ]
  },
  {
   "cell_type": "code",
   "execution_count": 6,
   "metadata": {},
   "outputs": [],
   "source": [
    "#filter out user and news that have/have been interacted less than 5 times\n",
    "# columns = news ID\n",
    "cols_to_keep = interaction_matrix_small.columns[interaction_matrix_small.sum(axis=0) >= 5]\n",
    "interaction_matrix_filtered = interaction_matrix_small[cols_to_keep]\n",
    "\n",
    "# rows(index) = user ID\n",
    "rows_to_keep = interaction_matrix_filtered.index[interaction_matrix_filtered.sum(axis=1) >= 5]\n",
    "interaction_matrix_filtered = interaction_matrix_filtered.loc[rows_to_keep]\n",
    "\n",
    "#interaction_matrix_filtered.shape---->(46600, 15520)"
   ]
  },
  {
   "cell_type": "code",
   "execution_count": 9,
   "metadata": {},
   "outputs": [],
   "source": [
    "#ensure every user has interacted with at least 5 news, and every news has been clicked by at least 5 users\n",
    "def filter_interaction_matrix(matrix, min_interactions=5):\n",
    "    while True:\n",
    "        user_interactions = matrix.sum(axis=1)\n",
    "        news_interactions = matrix.sum(axis=0)\n",
    "        users_to_keep = user_interactions[user_interactions >= min_interactions].index\n",
    "        news_to_keep = news_interactions[news_interactions >= min_interactions].index\n",
    "        new_matrix = matrix.loc[users_to_keep, news_to_keep]\n",
    "        if new_matrix.shape == matrix.shape:\n",
    "            break\n",
    "        matrix = new_matrix\n",
    "\n",
    "    return new_matrix\n",
    "\n",
    "interaction_matrix_filtered = filter_interaction_matrix(interaction_matrix_small)\n"
   ]
  },
  {
   "cell_type": "code",
   "execution_count": 45,
   "metadata": {},
   "outputs": [
    {
     "name": "stdout",
     "output_type": "stream",
     "text": [
      "min int per user: 5\n",
      "min int per news: 5\n",
      "max int per user: 525\n",
      "max int per news: 4671\n",
      "(46594, 15471)\n",
      "(46594, 15471)\n"
     ]
    }
   ],
   "source": [
    "#sanity check\n",
    "print(\"min int per user:\", interaction_matrix_filtered.sum(axis=1).min())\n",
    "print(\"min int per news:\", interaction_matrix_filtered.sum(axis=0).min())\n",
    "print(\"max int per user:\", interaction_matrix_filtered.sum(axis=1).max())\n",
    "print(\"max int per news:\", interaction_matrix_filtered.sum(axis=0).max())\n",
    "print(interaction_matrix_filtered.shape)\n",
    "\n",
    "#all good let's save it\n",
    "interaction_matrix_csr = csr_matrix(interaction_matrix_filtered.values)\n",
    "print(interaction_matrix_csr.shape)#--->(46594, 15471)\n",
    "save_npz('interaction_matrix.npz', interaction_matrix_csr)"
   ]
  },
  {
   "attachments": {},
   "cell_type": "markdown",
   "metadata": {},
   "source": [
    "<h1 style=\"color:rgb(0,120,170)\">Train/Test split</h1>\n",
    "\n",
    "------------------------------------------------------\n",
    "\n",
    "<a id=\"Split\"></a>\n",
    "stratified split ensure both train and test have instance for the same users: imp bc avoid cold start problem"
   ]
  },
  {
   "cell_type": "code",
   "execution_count": 46,
   "metadata": {},
   "outputs": [],
   "source": [
    "interaction_matrix_csr = load_npz('interaction_matrix.npz')"
   ]
  },
  {
   "cell_type": "code",
   "execution_count": 61,
   "metadata": {},
   "outputs": [],
   "source": [
    "users, items = interaction_matrix_csr.nonzero()\n",
    "interactions = list(zip(users, items))\n",
    "interactions_by_user = {}                   # {user: [item1, item2, ...]}\n",
    "for user, item in interactions:\n",
    "    if user not in interactions_by_user:\n",
    "        interactions_by_user[user] = []\n",
    "    interactions_by_user[user].append(item)\n",
    "\n",
    "\n",
    "def stratified_train_test_split(interactions_by_user, test_size=0.2):\n",
    "    train_interactions = []\n",
    "    test_interactions = []\n",
    "\n",
    "    for user, items in interactions_by_user.items():\n",
    "        np.random.shuffle(items)\n",
    "        n_test = max(int(len(items) * test_size), 1)  # at least 1 item for the test set\n",
    "        n_train = len(items) - n_test\n",
    "\n",
    "        items_train = items[:n_train]\n",
    "        items_test = items[n_train:]\n",
    "\n",
    "        train_interactions.extend([(user, item) for item in items_train])\n",
    "        test_interactions.extend([(user, item) for item in items_test])\n",
    "\n",
    "    #sanity check\n",
    "    assert len(set(user for user, _ in train_interactions)) == len(interactions_by_user), \"not all users in train set\"\n",
    "    assert len(set(user for user, _ in test_interactions)) == len(interactions_by_user), \"not all users in test set\"\n",
    "\n",
    "    return train_interactions, test_interactions\n",
    "\n",
    "\n",
    "def create_sparse_matrix(interactions, shape):\n",
    "    row, col = zip(*interactions)\n",
    "    data = np.ones(len(interactions))\n",
    "    return coo_matrix((data, (row, col)), shape=shape)\n",
    "\n",
    "\n",
    "\n",
    "# Use the function to split your interactions\n",
    "train_interactions, test_interactions = stratified_train_test_split(interactions_by_user, test_size=0.2)\n",
    "\n",
    "# Convert back to sparse matrices using your existing function\n",
    "train_matrix = create_sparse_matrix(train_interactions, interaction_matrix_csr.shape)\n",
    "test_matrix = create_sparse_matrix(test_interactions, interaction_matrix_csr.shape)\n",
    "train_matrix, test_matrix = train_matrix.tocsr() , test_matrix.tocsr()\n",
    "#no error, save train and test matrices\n",
    "save_npz('train_matrix.npz', train_matrix)\n",
    "save_npz('test_matrix.npz', test_matrix)"
   ]
  },
  {
   "cell_type": "code",
   "execution_count": 62,
   "metadata": {},
   "outputs": [
    {
     "data": {
      "image/png": "[encoded data removed]",
      "text/plain": [
       "<Figure size 432x288 with 1 Axes>"
      ]
     },
     "metadata": {
      "needs_background": "light"
     },
     "output_type": "display_data"
    },
    {
     "data": {
      "image/png": "[encoded data removed]",
      "text/plain": [
       "<Figure size 432x288 with 1 Axes>"
      ]
     },
     "metadata": {
      "needs_background": "light"
     },
     "output_type": "display_data"
    },
    {
     "name": "stdout",
     "output_type": "stream",
     "text": [
      "Training set sparsity: 0.9987575045767755\n",
      "Test set sparsity: 0.9997195153215211\n",
      "n interactions in training set: 895660\n",
      "n interactions in test set: 202189\n"
     ]
    }
   ],
   "source": [
    "# plot distr for training & test sets\n",
    "def plot_interaction_distribution(interactions, title):\n",
    "    user_interactions = {}\n",
    "    for user, _ in interactions:\n",
    "        user_interactions[user] = user_interactions.get(user, 0) + 1\n",
    "\n",
    "    plt.hist(user_interactions.values(), bins=50, log=True) # Log allows also to see the small values\n",
    "    plt.title(title)\n",
    "    plt.xlabel('N of Interactions')\n",
    "    plt.ylabel('N of Users (log scale)')\n",
    "    plt.show()\n",
    "plot_interaction_distribution(train_interactions, 'Training Set Interactions')\n",
    "plot_interaction_distribution(test_interactions, 'Test Set Interactions')\n",
    "\n",
    "#have a look at sparsity (should be very high)\n",
    "def calculate_sparsity(matrix):\n",
    "    total_possible_interactions = matrix.shape[0] * matrix.shape[1]\n",
    "    actual_interactions = len(matrix.nonzero()[0])\n",
    "    sparsity = 1 - (actual_interactions / total_possible_interactions)\n",
    "    return sparsity\n",
    "\n",
    "train_sparsity = calculate_sparsity(train_matrix)\n",
    "test_sparsity = calculate_sparsity(test_matrix)\n",
    "print(\"Training set sparsity:\", train_sparsity)\n",
    "print(\"Test set sparsity:\", test_sparsity)\n",
    "print(\"n interactions in training set:\", len(train_interactions))\n",
    "print(\"n interactions in test set:\", len(test_interactions))\n"
   ]
  },
  {
   "attachments": {},
   "cell_type": "markdown",
   "metadata": {},
   "source": [
    "typical long tail distrib. good that it is  consistent: <br>\n",
    "TRAIN: few users have >400 , most of them around 40-50<br>\n",
    "TEST: few >100 in test, most around 20 interaction.<br>\n"
   ]
  },
  {
   "attachments": {},
   "cell_type": "markdown",
   "metadata": {},
   "source": [
    "<h1 style=\"color:rgb(0,120,170)\">Baseline POP-Recommender</h1>\n",
    "\n",
    "------------------------------------------------------\n",
    "\n",
    "<a id=\"Baseline\"></a>\n",
    "Attenzione: matrix deve essere csr!!!"
   ]
  },
  {
   "cell_type": "code",
   "execution_count": 71,
   "metadata": {},
   "outputs": [],
   "source": [
    "def pop_baseline(interaction_matrix: csr_matrix, user_id: int, k=10):\n",
    "   \n",
    "    item_popularity = np.array(interaction_matrix.sum(axis=0)).flatten() #calc pop\n",
    "    interacted_indices = interaction_matrix[user_id].nonzero()[1] #already seen items\n",
    "    non_interacted_items = np.setdiff1d(np.arange(interaction_matrix.shape[1]), interacted_indices, assume_unique=True) #filtered out\n",
    "    non_interacted_popularity = item_popularity[non_interacted_items] #sort the remaining ones\n",
    "    popular_non_interacted_items = non_interacted_items[np.argsort(non_interacted_popularity)[::-1]][:n]\n",
    "    \n",
    "    return popular_non_interacted_items\n"
   ]
  },
  {
   "cell_type": "code",
   "execution_count": 74,
   "metadata": {},
   "outputs": [
    {
     "data": {
      "text/plain": [
       "(array([ 4586,  5647, 15385, 13931,  6557,  4742, 11008, 14604, 11625,\n",
       "        12111]),\n",
       " array([ 4586, 12728,  5647,  8374, 15385,   879, 13931,  2799,  6557,\n",
       "         4742]))"
      ]
     },
     "execution_count": 74,
     "metadata": {},
     "output_type": "execute_result"
    }
   ],
   "source": [
    "u_0 = pop_baseline(train_matrix, user_id=0, k=10) \n",
    "u_1 = pop_baseline(train_matrix, user_id=1, k=10)\n",
    "u_0, u_1\n"
   ]
  },
  {
   "attachments": {},
   "cell_type": "markdown",
   "metadata": {},
   "source": [
    "<h1 style=\"color:rgb(0,120,170)\">Evaluation</h1>\n",
    "\n",
    "------------------------------------------------------\n",
    "https://towardsdatascience.com/how-to-assess-recommender-systems-10afd6c1fae0\n",
    "<a id=\"Evaluation\"></a>"
   ]
  },
  {
   "cell_type": "code",
   "execution_count": null,
   "metadata": {},
   "outputs": [],
   "source": [
    "def evaluate(interaction_matrix, test_interactions, pop_rec_function, k=10):\n",
    "    precision_at_k_list = []\n",
    "    recall_at_k_list = []\n",
    "\n",
    "    test_users = set(user for user, _ in test_interactions) #unique users\n",
    "    \n",
    "    for user_id in test_users:\n",
    "        \n",
    "        test_items = [item for user, item in test_interactions if user == user_id] #get interracted items\n",
    "        recommended_items = pop_rec_function(interaction_matrix, user_id, n=k)     #get recommendations\n",
    "        hits_at_k = len(set(recommended_items) & set(test_items))                  #calc hits\n",
    "\n",
    "        #calculate precision&recall @ k\n",
    "        precision_at_k = hits_at_k / k\n",
    "        recall_at_k = hits_at_k / len(test_items) if test_items else 0\n",
    "        precision_at_k_list.append(precision_at_k)\n",
    "        recall_at_k_list.append(recall_at_k)\n",
    "\n",
    "    #average across all users\n",
    "    avg_precision_at_k = np.mean(precision_at_k_list)\n",
    "    avg_recall_at_k = np.mean(recall_at_k_list)\n",
    "\n",
    "    return avg_precision_at_k, avg_recall_at_k"
   ]
  },
  {
   "cell_type": "code",
   "execution_count": 76,
   "metadata": {},
   "outputs": [
    {
     "name": "stdout",
     "output_type": "stream",
     "text": [
      "Average Precision@10: 0.014720779499506374\n",
      "Average Recall@10: 0.043537391233408614\n"
     ]
    }
   ],
   "source": [
    "k=10\n",
    "print(f\"Average Precision@{k}: {avg_precision_at_k}\") #0.014720779499506374\n",
    "print(f\"Average Recall@{k}: {avg_recall_at_k}\") #0.043537391233408614"
   ]
  },
  {
   "cell_type": "code",
   "execution_count": null,
   "metadata": {},
   "outputs": [],
   "source": []
  }
 ],
 "metadata": {
  "kernelspec": {
   "display_name": "Python 3",
   "language": "python",
   "name": "python3"
  },
  "language_info": {
   "codemirror_mode": {
    "name": "ipython",
    "version": 3
   },
   "file_extension": ".py",
   "mimetype": "text/x-python",
   "name": "python",
   "nbconvert_exporter": "python",
   "pygments_lexer": "ipython3",
   "version": "3.9.12"
  },
  "orig_nbformat": 4
 },
 "nbformat": 4,
 "nbformat_minor": 2
}
